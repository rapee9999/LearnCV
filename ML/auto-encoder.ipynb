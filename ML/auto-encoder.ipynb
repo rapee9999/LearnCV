{
 "cells": [
  {
   "cell_type": "markdown",
   "metadata": {},
   "source": [
    "# Basic Convolutional Auto-encoder\n"
   ]
  },
  {
   "cell_type": "code",
   "execution_count": 1,
   "metadata": {},
   "outputs": [
    {
     "name": "stdout",
     "output_type": "stream",
     "text": [
      "Device: cpu\n"
     ]
    }
   ],
   "source": [
    "import os\n",
    "import cv2\n",
    "import numpy as np\n",
    "import imutils\n",
    "import random\n",
    "from sklearn.metrics import classification_report\n",
    "\n",
    "import collections\n",
    "from collections import namedtuple, OrderedDict\n",
    "\n",
    "import typing\n",
    "from typing import List, Tuple, Union, Callable\n",
    "\n",
    "import matplotlib\n",
    "import matplotlib.pyplot as plt\n",
    "\n",
    "import torch\n",
    "from torch import Tensor\n",
    "from torch.optim import Adam\n",
    "from torchvision import transforms\n",
    "from torchvision.transforms import ToTensor\n",
    "from torchsummary import summary\n",
    "\n",
    "from torch import nn\n",
    "from torch.nn import (Sequential,\n",
    "                      Module,\n",
    "                      Conv2d,\n",
    "                      ConvTranspose2d,\n",
    "                      Upsample,\n",
    "                      Linear,\n",
    "                      MaxPool2d,\n",
    "                      ReLU,\n",
    "                      Sigmoid,\n",
    "                      Flatten,\n",
    "                      Unflatten,\n",
    "                      LogSoftmax)\n",
    "\n",
    "import torchvision.datasets\n",
    "from torchvision.datasets import KMNIST, MNIST\n",
    "from torch.utils.data import random_split\n",
    "from torch.utils.data import DataLoader, Dataset\n",
    "from torch.utils.data import Subset\n",
    "DEVICE = torch.device(\"cuda\" if torch.cuda.is_available() else \"cpu\")\n",
    "print(\"Device:\", DEVICE)"
   ]
  },
  {
   "cell_type": "markdown",
   "metadata": {},
   "source": [
    "## Definitions"
   ]
  },
  {
   "cell_type": "markdown",
   "metadata": {},
   "source": [
    "### Model Definition"
   ]
  },
  {
   "cell_type": "code",
   "execution_count": 2,
   "metadata": {},
   "outputs": [],
   "source": [
    "class AutoEncoderBase(Sequential):\n",
    "    def __init__(self, *args, **kwargs):\n",
    "        super(AutoEncoderBase, self).__init__(*args, **kwargs)\n",
    "    def get_k_out_shape(self,\n",
    "                        in_shape: Tuple[int,int,int], \n",
    "                        module: Union[Conv2d, MaxPool2d] = None, \n",
    "                        kernel: Union[Tuple[int,int], int] = None,\n",
    "                        stride: Union[Tuple[int,int], int] = None,\n",
    "                        padding: Union[Tuple[int,int], int] = None,\n",
    "                        out_channels: int = None,\n",
    "                        ) -> Tuple[int,int,int]:\n",
    "        # validate arguments.\n",
    "        if isinstance(module, (Conv2d, MaxPool2d)):\n",
    "            kernel = module.kernel_size\n",
    "            stride = module.stride\n",
    "            padding = module.padding\n",
    "            if isinstance(module, Conv2d): out_channels = module.out_channels\n",
    "        elif not all([isinstance(kernel, (tuple, int)), \n",
    "                    isinstance(stride, (tuple, int)), \n",
    "                    isinstance(padding, (tuple, int))]):\n",
    "            raise ValueError(\"Arguments kernel, stride and padding must be ints or tuples of ints.\")\n",
    "        # split into x,y axises.\n",
    "        if isinstance(kernel, int): kernel_y, kernel_x = kernel, kernel\n",
    "        else: kernel_y, kernel_x = kernel\n",
    "        if isinstance(stride, int): stride_y, stride_x = stride, stride\n",
    "        else: stride_y, stride_x = stride\n",
    "        if isinstance(padding, int): padding_y, padding_x = padding, padding\n",
    "        else: padding_y, padding_x = padding\n",
    "        # calculate dimensions.\n",
    "        h = int( np.ceil( (in_shape[1] + (padding_y*2) - (kernel_y-1) ) / stride_y ) )\n",
    "        w = int( np.ceil( (in_shape[2] + (padding_x*2) - (kernel_x-1) ) / stride_x ) )\n",
    "        if out_channels is None: out_channels = in_shape[0]\n",
    "        return out_channels, h, w\n",
    "    def init_x_shapes(self, \n",
    "                      image_shape: Tuple[int,int,int], \n",
    "                      init_channels: int, \n",
    "                      layer_depth: int, \n",
    "                      kernel_size: Union[Tuple[int,int], int],\n",
    "                      stride: Union[Tuple[int,int], int],\n",
    "                      padding: Union[Tuple[int,int], int],\n",
    "                      fully_connected: bool,\n",
    "                      latent_dim: int):\n",
    "        # determine all shapes throughout feeding forward.\n",
    "        x_shapes: List[Tuple[int,int,int]] = [image_shape, [init_channels,-1.-1]]\n",
    "        for _ in range(layer_depth):\n",
    "            x_shapes[-1] = self.get_k_out_shape(in_shape=x_shapes[-2], \n",
    "                                                 kernel=kernel_size, \n",
    "                                                 stride=stride, \n",
    "                                                 padding=padding, \n",
    "                                                 out_channels=x_shapes[-1][0])\n",
    "            x_shapes.append([x_shapes[-1][0], x_shapes[-1][1]//2, x_shapes[-1][2]//2])\n",
    "            x_shapes.append([x_shapes[-1][0]*2,-1,-1])\n",
    "        x_shapes.pop()\n",
    "        if fully_connected: x_shapes += [(np.prod(x_shapes[-1]),), (latent_dim,)]\n",
    "        self._x_shapes = x_shapes\n",
    "    @property\n",
    "    def x_shapes(self) -> list: return self._x_shapes"
   ]
  },
  {
   "cell_type": "code",
   "execution_count": 3,
   "metadata": {},
   "outputs": [],
   "source": [
    "class ConvLayer(Sequential):\n",
    "    def __init__(self, \n",
    "                 conv_in_channels: int, \n",
    "                 conv_out_channels: int, \n",
    "                 conv_kernel_size: Tuple[int,int] = (5,5),\n",
    "                 conv_stride: int = 1,\n",
    "                 conv_padding: int = 0,    \n",
    "                 pool_kernel_size: Tuple[int,int] = (2,2),\n",
    "                 pool_stride: int = (2,2),\n",
    "                 pool_padding: int = 0,\n",
    "                 activation_func: Module = ReLU,\n",
    "                 ) -> None:\n",
    "        super(ConvLayer, self).__init__(\n",
    "            Conv2d(in_channels=conv_in_channels, \n",
    "                   out_channels=conv_out_channels, \n",
    "                   kernel_size=conv_kernel_size, \n",
    "                   stride=conv_stride, \n",
    "                   padding=conv_padding), \n",
    "            activation_func(), \n",
    "            MaxPool2d(kernel_size=pool_kernel_size, \n",
    "                      stride=pool_stride, \n",
    "                      padding=pool_padding)\n",
    "            )"
   ]
  },
  {
   "cell_type": "code",
   "execution_count": 4,
   "metadata": {},
   "outputs": [],
   "source": [
    "class Encoder(AutoEncoderBase):\n",
    "    def __init__(self, \n",
    "                image_shape: Tuple[int,int,int], \n",
    "                layer_depth: int,\n",
    "                latent_dim: int, \n",
    "                init_channels: int = 32,\n",
    "                conv_kernel_size: Tuple[int,int] = (5,5),\n",
    "                conv_stride: int = 1,\n",
    "                conv_padding: int = 0,    \n",
    "                pool_kernel_size: Tuple[int, int] = (2, 2),\n",
    "                pool_stride: int = (2, 2),\n",
    "                pool_padding: int = 0,\n",
    "                activation_func: Module = ReLU,\n",
    "                fully_connected: bool = True,\n",
    "                 ) -> None:\n",
    "        # determine all shapes throughout feeding forward.\n",
    "        self.init_x_shapes(image_shape=image_shape,\n",
    "                           init_channels=init_channels,\n",
    "                           layer_depth=layer_depth,\n",
    "                           kernel_size=conv_kernel_size,\n",
    "                           stride=conv_stride,\n",
    "                           padding=conv_padding,\n",
    "                           fully_connected=fully_connected,\n",
    "                           latent_dim=latent_dim)\n",
    "        # construct each layer.\n",
    "        encoder_layers: List[ConvLayer] = []\n",
    "        for i in range(layer_depth):\n",
    "            idx = i*2\n",
    "            encoder_layers.append(ConvLayer(\n",
    "                conv_in_channels=self.x_shapes[idx][0], \n",
    "                conv_out_channels=self.x_shapes[idx+1][0],\n",
    "                conv_kernel_size=conv_kernel_size,\n",
    "                conv_stride=conv_stride,\n",
    "                conv_padding=conv_padding,\n",
    "                pool_kernel_size= pool_kernel_size,\n",
    "                pool_stride=pool_stride,\n",
    "                pool_padding=pool_padding,\n",
    "                activation_func=activation_func))\n",
    "        # Fully connceted layer for flattening to latent.\n",
    "        if fully_connected: encoder_layers += [ Flatten(), Linear(in_features=self.x_shapes[-2][0], out_features=self.x_shapes[-1][0]) ]\n",
    "        # Sequential.\n",
    "        super(Encoder, self).__init__(*encoder_layers)"
   ]
  },
  {
   "cell_type": "code",
   "execution_count": 5,
   "metadata": {},
   "outputs": [],
   "source": [
    "class TConvLayer(Sequential):\n",
    "    def __init__(self, \n",
    "                 upsample_size: Tuple[int,int],\n",
    "                 tconv_in_channels: int, \n",
    "                 tconv_out_channels: int, \n",
    "                 tconv_kernel_size: Tuple[int,int] = (5,5),\n",
    "                 tconv_stride: int = 1,\n",
    "                 tconv_padding: int = 0,\n",
    "                 activation_func: Module = ReLU,\n",
    "                 ) -> None:\n",
    "        super(TConvLayer, self).__init__(\n",
    "            Upsample(size=upsample_size),\n",
    "            ConvTranspose2d(in_channels=tconv_in_channels, \n",
    "                            out_channels=tconv_out_channels, \n",
    "                            kernel_size=tconv_kernel_size, \n",
    "                            stride=tconv_stride, \n",
    "                            padding=tconv_padding),\n",
    "            activation_func(),\n",
    "            )        "
   ]
  },
  {
   "cell_type": "code",
   "execution_count": 6,
   "metadata": {},
   "outputs": [],
   "source": [
    "class Decoder(AutoEncoderBase):\n",
    "    def __init__(self, \n",
    "                 image_shape: Tuple[int,int,int], \n",
    "                 layer_depth: int,\n",
    "                 latent_dim: int, \n",
    "                 kernel_size: Tuple[int,int] = (5,5),\n",
    "                 stride: int = 1,\n",
    "                 padding: int = 0,    \n",
    "                 init_channels: int = 32,\n",
    "                 activation_func: Callable = ReLU,\n",
    "                 out_act_func: Callable = Sigmoid,\n",
    "                 fully_connected: bool = True,\n",
    "                 ) -> None:\n",
    "        # determine all shapes throughout feeding forward.\n",
    "        self.init_x_shapes(image_shape=image_shape,\n",
    "                           init_channels=init_channels,\n",
    "                           layer_depth=layer_depth,\n",
    "                           kernel_size=kernel_size,\n",
    "                           stride=stride,\n",
    "                           padding=padding,\n",
    "                           fully_connected=fully_connected,\n",
    "                           latent_dim=latent_dim)\n",
    "        self._x_shapes.reverse()\n",
    "        # fully connected layer for unflattening from latent.\n",
    "        decoder_layers = [ Linear(in_features=self.x_shapes[0][0], out_features=self.x_shapes[1][0]), Unflatten(1, self.x_shapes[2]) ]\n",
    "        # construct each layer\n",
    "        for i in range(layer_depth):\n",
    "            idx = (i*2)+3\n",
    "            decoder_layers.append(TConvLayer(\n",
    "                upsample_size=self.x_shapes[idx][1:],\n",
    "                tconv_in_channels=self.x_shapes[idx][0],\n",
    "                tconv_out_channels=self.x_shapes[idx+1][0],\n",
    "                tconv_kernel_size=kernel_size,\n",
    "                tconv_stride=stride,\n",
    "                tconv_padding=padding,\n",
    "                activation_func=out_act_func if i+1 == layer_depth else activation_func\n",
    "            ))\n",
    "        # Sequential.\n",
    "        super(Decoder, self).__init__(*decoder_layers)\n",
    "        "
   ]
  },
  {
   "cell_type": "code",
   "execution_count": 7,
   "metadata": {},
   "outputs": [],
   "source": [
    "class AutoEncoder(Sequential):\n",
    "    def __init__(self,\n",
    "                image_shape: Tuple[int, int, int],\n",
    "                layer_depth: int,\n",
    "                latent_dim: int,\n",
    "                init_channels: int = 32,\n",
    "                conv_kernel: Tuple[int, int] = (5, 5),\n",
    "                conv_stride: int = 1,\n",
    "                conv_padding: int = 0,\n",
    "                pool_kernel: Tuple[int, int] = (2, 2),\n",
    "                pool_stride: int = (2, 2),\n",
    "                pool_padding: int = 0,\n",
    "                conv_act_func: Module = ReLU,\n",
    "                tconv_kernel: Tuple[int, int] = (5, 5),\n",
    "                tconv_stride: int = 1,\n",
    "                tconv_padding: int = 0,\n",
    "                tconv_act_func: Callable = ReLU,\n",
    "                out_act_func: Callable = Sigmoid,\n",
    "                fully_connected: bool = True\n",
    "    ):\n",
    "        super(AutoEncoder, self).__init__(\n",
    "            Encoder(image_shape=image_shape, \n",
    "                    layer_depth=layer_depth, latent_dim=latent_dim,\n",
    "                    init_channels=init_channels,\n",
    "                    conv_kernel_size=conv_kernel,\n",
    "                    conv_stride=conv_stride,\n",
    "                    conv_padding=conv_padding,\n",
    "                    pool_kernel_size=pool_kernel,\n",
    "                    pool_stride=pool_stride,\n",
    "                    pool_padding=pool_padding,\n",
    "                    activation_func=conv_act_func,\n",
    "                    fully_connected=fully_connected), \n",
    "            Decoder(image_shape=image_shape, \n",
    "                    layer_depth=layer_depth, \n",
    "                    latent_dim=latent_dim,\n",
    "                    kernel_size=tconv_kernel,\n",
    "                    stride=tconv_stride,\n",
    "                    padding=tconv_padding,\n",
    "                    init_channels=init_channels,\n",
    "                    activation_func=tconv_act_func,\n",
    "                    out_act_func=out_act_func,\n",
    "                    fully_connected=fully_connected)\n",
    "            )"
   ]
  },
  {
   "cell_type": "markdown",
   "metadata": {},
   "source": [
    "### Dataset Definitions"
   ]
  },
  {
   "cell_type": "code",
   "execution_count": 8,
   "metadata": {},
   "outputs": [],
   "source": [
    "Size = namedtuple('ImageSize', ['height', 'width'])\n",
    "Range = namedtuple('Range', ['min', 'max'])\n",
    "\n",
    "def drawRandArrow(size: Size, padding: int, lengthRange: Range, thickRange: Range, tipRange: Range, ax: plt.Axes = None, img: np.ndarray = None, grayscale: bool = False, negative: bool = False) -> np.ndarray:\n",
    "    # Create blank image.\n",
    "    if img is None:\n",
    "        img = np.zeros(list(size), np.uint8) if grayscale else np.zeros(list(size) + [3], np.uint8)\n",
    "        if not negative: img.fill(255)\n",
    "    else:\n",
    "        img = img.copy()\n",
    "    # constant.\n",
    "    if negative: color = (255,255,255) if len(img.shape) == 3 else 255\n",
    "    else: color = (0,0,0) if len(img.shape) == 3 else 0 \n",
    "    # random.\n",
    "    pt1 = (random.randint(0+padding, size[1]-padding), random.randint(0+padding, size[0]-padding))\n",
    "    while True:\n",
    "        pt2 = (random.randint(0+padding, size[1]-padding), random.randint(0+padding, size[0]-padding))\n",
    "        length = np.sqrt( np.power(pt2[0]-pt1[0], 2) + np.power(pt2[1]-pt1[1], 2) )\n",
    "        if lengthRange[0] < length < lengthRange[1]: break\n",
    "    thick = random.randint(*thickRange)\n",
    "    tipLen = (random.random() * (tipRange[1]-tipRange[0])) + tipRange[0]\n",
    "    # draw.\n",
    "    img = cv2.arrowedLine(img, pt1, pt2, color, thick, tipLength=tipLen)\n",
    "    # show.\n",
    "    if ax is not None: ax.imshow(img, 'gray')\n",
    "    return img\n",
    "\n",
    "def drawRandCircle(size: Size, padding: int, radRange: Range, thickRange: Range, ax: plt.Axes = None, img: np.ndarray = None, grayscale: bool = False, negative: bool = False) -> np.ndarray:\n",
    "    # create image.\n",
    "    if img is None:\n",
    "        img = np.zeros(list(size), np.uint8) if grayscale else np.zeros(list(size) + [3], np.uint8)\n",
    "        if not negative: img.fill(255)\n",
    "    else:\n",
    "        img = img.copy()\n",
    "    # constant.\n",
    "    if negative: color = (255,255,255) if len(img.shape) == 3 else 255\n",
    "    else: color = (0,0,0) if len(img.shape) == 3 else 0 \n",
    "    # random.\n",
    "    center = (random.randint(0+padding, size[1]-padding), random.randint(0+padding, size[0]-padding))\n",
    "    radius = random.randint(*radRange)\n",
    "    thick = random.randint(*thickRange)\n",
    "    # draw.\n",
    "    img = cv2.circle(img, center, radius, color, thick)\n",
    "    # show.\n",
    "    if ax is not None: ax.imshow(img, 'gray')\n",
    "    return img\n",
    "\n",
    "def drawRandRect(size: Size, padding: int, diagRange: Range, thickRange: Range, ax: plt.Axes = None, img: np.ndarray = None, grayscale: bool = False, negative: bool = False) -> np.ndarray:\n",
    "    # create image.\n",
    "    if img is None:\n",
    "        img = np.zeros(list(size), np.uint8) if grayscale else np.zeros(list(size) + [3], np.uint8)\n",
    "        if not negative: img.fill(255)\n",
    "    else:\n",
    "        img = img.copy()\n",
    "    # constant.\n",
    "    if negative: color = (255,255,255) if len(img.shape) == 3 else 255\n",
    "    else: color = (0,0,0) if len(img.shape) == 3 else 0 \n",
    "    # random.\n",
    "    pt1 = (random.randint(0+padding, size[1]-padding), random.randint(0+padding, size[0]-padding))\n",
    "    while True:\n",
    "        pt2 = (random.randint(0+padding, size[1]-padding), random.randint(0+padding, size[0]-padding))\n",
    "        diagonal = np.sqrt( np.power(pt2[0]-pt1[0], 2) + np.power(pt2[1]-pt1[1], 2) )\n",
    "        if diagRange[0] < diagonal < diagRange[1]: break\n",
    "    thick = random.randint(*thickRange)\n",
    "    # draw.\n",
    "    img = cv2.rectangle(img, pt1, pt2, color, thick)\n",
    "    # show.\n",
    "    if ax is not None: ax.imshow(img, 'gray')\n",
    "    return img\n",
    "\n",
    "def drawRandLine(size: Size, padding: int, lengthRange: Range, thickRange: Range, ax: plt.Axes = None, img: np.ndarray = None, grayscale: bool = False, negative: bool = False) -> np.ndarray:\n",
    "    # create image.\n",
    "    if img is None:\n",
    "        img = np.zeros(list(size), np.uint8) if grayscale else np.zeros(list(size) + [3], np.uint8)\n",
    "        if not negative: img.fill(255)\n",
    "    else:\n",
    "        img = img.copy()\n",
    "    # constant.\n",
    "    if negative: color = (255,255,255) if len(img.shape) == 3 else 255\n",
    "    else: color = (0,0,0) if len(img.shape) == 3 else 0 \n",
    "    # random.\n",
    "    pt1 = (random.randint(0+padding, size[1]-padding), random.randint(0+padding, size[0]-padding))\n",
    "    while True:\n",
    "        pt2 = (random.randint(0+padding, size[1]-padding), random.randint(0+padding, size[0]-padding))\n",
    "        length = np.sqrt( np.power(pt2[0]-pt1[0], 2) + np.power(pt2[1]-pt1[1], 2) )\n",
    "        if lengthRange[0] < length < lengthRange[1]: break\n",
    "    thick = random.randint(*thickRange)\n",
    "    # draw.\n",
    "    img = cv2.line(img, pt1, pt2, color, thick)\n",
    "    # show.\n",
    "    if ax is not None: ax.imshow(img, 'gray')\n",
    "    return img\n"
   ]
  },
  {
   "cell_type": "code",
   "execution_count": 9,
   "metadata": {},
   "outputs": [],
   "source": [
    "class ShapeDataset(torch.utils.data.Dataset):\n",
    "    CLASS_FILENAME = \"classes.txt\"\n",
    "    LABEL_FILENAME = \"labels.txt\"\n",
    "    \n",
    "    def __init__(self, root: str, device: torch.device, datasize: int = None, shape_definitions: dict = None, transforms: transforms.Compose = transforms.ToTensor()) -> None:\n",
    "        super().__init__()\n",
    "        self._transforms = transforms\n",
    "        self._root = root\n",
    "        self._device = device\n",
    "        self._datasize = datasize\n",
    "        self._shape_definitions = shape_definitions\n",
    "        self._classes: typing.List[str] = []\n",
    "        self._files: typing.List[str] = []\n",
    "        if all([isinstance(datasize, int), isinstance(shape_definitions, dict)]): \n",
    "            self.generate()\n",
    "        else: \n",
    "            self.read_classes()\n",
    "            self.read_files()\n",
    "    def __len__(self) -> int: return self._datasize\n",
    "    def __getitem__(self, index) -> torch.Tensor: return (self.load_data(index), self.load_targets(index))\n",
    "    \n",
    "    @property\n",
    "    def data(self) -> Tensor: return self.load_data()\n",
    "    @property\n",
    "    def targets(self) -> Tensor: return self.load_targets()\n",
    "    @property\n",
    "    def classes(self) -> typing.List[str]: return self._classes\n",
    "    @property\n",
    "    def files(self) -> typing.List[str]: return self._files\n",
    "    @property\n",
    "    def transforms(self) -> transforms.Compose: return self._transforms\n",
    "    @property\n",
    "    def root(self) -> str: return self._root\n",
    "    @property\n",
    "    def device(self) -> torch.device: return self._device\n",
    "    @property\n",
    "    def shape_definitions(self) -> dict: return self._shape_definitions\n",
    "    \n",
    "    def load_data(self, index: int = None, grayscale: bool = True, do_transform: bool = True) -> Tensor:\n",
    "        tensors = None\n",
    "        if index is None:\n",
    "            tensors = None\n",
    "            for filepath in self.files:\n",
    "                image = cv2.imread(filepath, cv2.IMREAD_GRAYSCALE if grayscale else cv2.IMREAD_COLOR)\n",
    "                if not isinstance(image, np.ndarray): raise RuntimeError(f\"Cannot read image {filepath}\")\n",
    "                if do_transform:\n",
    "                    image = self.transforms(image).to(self.device).unsqueeze(0)\n",
    "                    if tensors is None: tensors = image\n",
    "                    else: tensors = torch.concat([tensors, image])\n",
    "                else: \n",
    "                    image = np.expand_dims(image, 0)\n",
    "                    if tensors is None: tensors = image\n",
    "                    else: tensors = np.concatenate([tensors, image])\n",
    "        else:\n",
    "            filepath = self.files[index]\n",
    "            image = cv2.imread(filepath, cv2.IMREAD_GRAYSCALE if grayscale else cv2.IMREAD_COLOR)\n",
    "            if not isinstance(image, np.ndarray): raise RuntimeError(f\"Cannot read image {filepath}\")\n",
    "            if do_transform:\n",
    "                tensors = self.transforms(image).to(self.device)\n",
    "            else:\n",
    "                tensors = image\n",
    "        return tensors\n",
    "\n",
    "    def load_targets(self, index: int = None) -> typing.Union[typing.List[int], int]:\n",
    "        targets = None\n",
    "        labels_filepath = os.path.join(self.root, self.LABEL_FILENAME)\n",
    "        with open(labels_filepath, 'r') as f:\n",
    "            labels = np.array([int(line.strip().split(' ')[1]) for line in f.readlines()])\n",
    "        if index is not None:\n",
    "            targets = labels[index].item()\n",
    "        else:\n",
    "            targets = torch.from_numpy(labels)\n",
    "        return targets\n",
    "            \n",
    "    def generate(self):\n",
    "        os.makedirs(self.root, exist_ok=False)\n",
    "        \n",
    "        self._classes = list(self.shape_definitions.keys())\n",
    "        classes_filepath = os.path.join(self.root, self.CLASS_FILENAME)\n",
    "        with open(classes_filepath, 'w') as f:\n",
    "            f.writelines([f\"{c} {i}\\n\" for i, c in enumerate(self.classes)])\n",
    "            \n",
    "        labels_filepath = os.path.join(self.root, self.LABEL_FILENAME)\n",
    "        \n",
    "        nclasses = len(self.classes)\n",
    "        for i in range(self._datasize):\n",
    "            label_idx = random.randrange(0, nclasses)\n",
    "            label_name = self.classes[label_idx]\n",
    "            func = self.shape_definitions[label_name]['func']\n",
    "            kwargs = self.shape_definitions[label_name]['kwargs']\n",
    "            image: np.ndarray = func(**kwargs)\n",
    "            \n",
    "            filename = f\"{i}.png\"\n",
    "            image_filepath = os.path.abspath( os.path.join(self.root, filename) )\n",
    "            if not cv2.imwrite(image_filepath, image): raise RuntimeError(f\"Cannot write image {image_filepath}\")\n",
    "            self._files.append(image_filepath)\n",
    "            \n",
    "            with open(labels_filepath, 'a') as f:\n",
    "                f.write(f\"{filename} {label_idx}\\n\")\n",
    "                \n",
    "    def read_classes(self):\n",
    "        classes_filepath = os.path.join(self.root, self.CLASS_FILENAME)\n",
    "        classes = []\n",
    "        idc = []\n",
    "        with open(classes_filepath, 'r') as f:\n",
    "            for c in f.readlines():\n",
    "                cname, cid = c.split(' ')\n",
    "                cid = cid.strip()\n",
    "                classes.append(cname)\n",
    "                idc.append(cid)\n",
    "        self._classes = np.array(classes)[ np.array(idc).argsort() ].tolist()\n",
    "    \n",
    "    def read_files(self):\n",
    "        labels_filepath = os.path.join(self.root, self.LABEL_FILENAME)\n",
    "        with open(labels_filepath, 'r') as f:\n",
    "            self._files = [os.path.abspath( os.path.join( self.root, line.strip().split(' ')[0] ) ) for line in f.readlines()]\n",
    "        self._datasize = len(self.files)\n"
   ]
  },
  {
   "cell_type": "code",
   "execution_count": 10,
   "metadata": {},
   "outputs": [],
   "source": [
    "def showRandDataset(dataset: Dataset, indices: tuple, classes: tuple, sample_size: int, ncols: int = 4, suptitle: str = \"\", figsize: typing.Tuple[float,float] = (10,4), model: Module = None):\n",
    "    if isinstance(model, Module):\n",
    "        total_axes = sample_size * 2\n",
    "        ncols = ncols * 2\n",
    "    else:\n",
    "        total_axes = sample_size\n",
    "    nrows = (total_axes // ncols) + 1 if total_axes % ncols else total_axes // ncols\n",
    "    idc = np.random.choice(indices, sample_size)\n",
    "    fig, axes = plt.subplots(nrows, ncols)\n",
    "    fig.suptitle(suptitle)\n",
    "    fig.set_size_inches(figsize) # (w,h)\n",
    "    axes = axes.reshape(nrows * ncols)\n",
    "    for i in range(sample_size):\n",
    "        id = idc[i]\n",
    "        image, label_idx = dataset[id]\n",
    "        if isinstance(model, Module):\n",
    "            image = image.to(DEVICE)\n",
    "            pred = model(image.unsqueeze(0)) \n",
    "            image = image.detach().cpu().permute(1,2,0).numpy()\n",
    "            pred = pred[0].detach().cpu().permute(1,2,0).numpy()\n",
    "            ax1 = axes[i*2]\n",
    "            ax2 = axes[i*2+1]\n",
    "            ax1.set_title(f\"{id} Input\")\n",
    "            ax2.set_title(f\"{id} Output\")\n",
    "            if image.shape[2] == 3: \n",
    "                ax1.imshow(image)\n",
    "                ax2.imshow(pred)\n",
    "            else: \n",
    "                ax1.imshow(image, 'gray')\n",
    "                ax2.imshow(pred, 'gray')\n",
    "            ax1.grid(False)\n",
    "            ax2.grid(False)\n",
    "        else:\n",
    "            image = image.to(DEVICE)\n",
    "            image = image.detach().cpu().permute(1,2,0).numpy()\n",
    "            ax = axes[i]\n",
    "            ax.set_title(f\"{id}\")\n",
    "            if image.shape[2] == 3: \n",
    "                ax.imshow(image)\n",
    "            else: \n",
    "                ax.imshow(image, 'gray')\n",
    "            ax.grid(False)\n",
    "    fig.show()"
   ]
  },
  {
   "cell_type": "code",
   "execution_count": 11,
   "metadata": {},
   "outputs": [],
   "source": [
    "def showDataDist(classes: tuple, targets: Tensor, dataname: str = \"\"):\n",
    "    ret_str = \"\"\n",
    "    datasize = len(targets)\n",
    "    ret_str += f\"{dataname} {datasize}(1.00) : \"\n",
    "    for i in range(len(classes)):\n",
    "        count = (targets.detach().cpu().numpy() == i).sum()\n",
    "        ret_str += f\"{classes[i]} {count}({count/datasize:.2f}), \"\n",
    "    ret_str += \"\\n\"\n",
    "    print(ret_str)\n",
    "    return ret_str"
   ]
  },
  {
   "cell_type": "markdown",
   "metadata": {},
   "source": [
    "## Parameters"
   ]
  },
  {
   "cell_type": "code",
   "execution_count": 12,
   "metadata": {},
   "outputs": [],
   "source": [
    "# model architecture.\n",
    "LAYER_DEPTH = 3\n",
    "LATENT_DIM = 128\n",
    "\n",
    "# pre-processing params.\n",
    "INPUT_DIM = 50\n",
    "\n",
    "# shape params.\n",
    "size = (128,128) # h,w\n",
    "padding = 5\n",
    "lengthRange = (30,100)\n",
    "radRange = (10,64)\n",
    "thickRange = (1,1)\n",
    "tipRange = (0.1,0.1)\n",
    "shape_definitions = {   \n",
    "    # 'arrow':    {'func': drawRandArrow,     'kwargs': {'size': size, 'padding': padding, 'thickRange': thickRange, 'grayscale': True, 'negative': True, 'lengthRange': lengthRange, 'tipRange': tipRange}},\n",
    "    # 'circle':   {'func': drawRandCircle,    'kwargs': {'size': size, 'padding': padding, 'thickRange': thickRange, 'grayscale': True, 'negative': True, 'radRange': radRange}},\n",
    "    'rect':     {'func': drawRandRect,      'kwargs': {'size': size, 'padding': padding, 'thickRange': thickRange, 'grayscale': True, 'negative': True, 'diagRange': lengthRange}}, \n",
    "    # 'line':     {'func': drawRandLine,      'kwargs': {'size': size, 'padding': padding, 'thickRange': thickRange, 'grayscale': True, 'negative': True, 'lengthRange': lengthRange}}\n",
    "    }\n",
    "\n",
    "# dataset params.\n",
    "new_dataset = True\n",
    "train_data_size = 256\n",
    "train_dir = \"../data/Shapes/train\"\n",
    "test_data_size = 64\n",
    "test_dir = \"../data/Shapes/test\"\n",
    "\n",
    "# define the train and val splits\n",
    "TRAIN_SPLIT = 0.80\n",
    "RAND_SEED = 42\n",
    "BATCH_SIZE = 16\n",
    "\n",
    "# define training hyperparameters\n",
    "do_train = True\n",
    "INIT_LR = 1e-3\n",
    "EPOCHS = 10\n",
    "\n",
    "result_dir = '../results/Shapes/'\n",
    "model_dir = '../model-store/Shape/'\n"
   ]
  },
  {
   "cell_type": "markdown",
   "metadata": {},
   "source": [
    "## Pre-processing"
   ]
  },
  {
   "cell_type": "code",
   "execution_count": 13,
   "metadata": {},
   "outputs": [],
   "source": [
    "preprocess = transforms.Compose([ transforms.ToTensor(), transforms.Resize(INPUT_DIM) ])"
   ]
  },
  {
   "cell_type": "markdown",
   "metadata": {},
   "source": [
    "## Dataset"
   ]
  },
  {
   "cell_type": "code",
   "execution_count": 14,
   "metadata": {},
   "outputs": [],
   "source": [
    "if new_dataset:\n",
    "    # create dataset.\n",
    "    # training set.\n",
    "    trainData = ShapeDataset(root=train_dir, datasize=train_data_size, device=DEVICE, shape_definitions=shape_definitions, transforms=preprocess)\n",
    "    # test set.\n",
    "    testData = ShapeDataset(root=test_dir, datasize=test_data_size, device=DEVICE, shape_definitions=shape_definitions, transforms=preprocess)\n",
    "    \n",
    "else:\n",
    "    # load existing dataset from disk.\n",
    "    # training set.\n",
    "    trainData = ShapeDataset(root=train_dir, device=DEVICE, transforms=preprocess)\n",
    "    # test set.\n",
    "    testData = ShapeDataset(root=test_dir, device=DEVICE, transforms=preprocess)\n"
   ]
  },
  {
   "cell_type": "markdown",
   "metadata": {},
   "source": [
    "## Splitting Dataset"
   ]
  },
  {
   "cell_type": "code",
   "execution_count": 15,
   "metadata": {},
   "outputs": [],
   "source": [
    "# calculate the train/validation split\n",
    "(trainData, valData) = random_split(trainData, [int(len(trainData) * TRAIN_SPLIT), len(trainData) - int(len(trainData) * TRAIN_SPLIT)], generator=torch.Generator().manual_seed(RAND_SEED))\n"
   ]
  },
  {
   "cell_type": "code",
   "execution_count": 16,
   "metadata": {},
   "outputs": [
    {
     "name": "stderr",
     "output_type": "stream",
     "text": [
      "/Users/rapeewannasiri/miniconda3/envs/basex/lib/python3.11/site-packages/torchvision/transforms/functional.py:1603: UserWarning: The default value of the antialias parameter of all the resizing transforms (Resize(), RandomResizedCrop(), etc.) will change from None to True in v0.17, in order to be consistent across the PIL and Tensor backends. To suppress this warning, directly pass antialias=True (recommended, future default), antialias=None (current default, which means False for Tensors and True for PIL), or antialias=False (only works on Tensors - PIL will still use antialiasing). This also applies if you are using the inference transforms from the models weights: update the call to weights.transforms(antialias=True).\n",
      "  warnings.warn(\n",
      "/var/folders/xr/fqhbtp7x1fgb6h0skt7fjtfh0000gn/T/ipykernel_60251/2828406703.py:43: UserWarning: Matplotlib is currently using module://matplotlib_inline.backend_inline, which is a non-GUI backend, so cannot show the figure.\n",
      "  fig.show()\n"
     ]
    },
    {
     "data": {
      "image/png": "[encoded data removed]",
      "text/plain": [
       "<Figure size 1000x400 with 8 Axes>"
      ]
     },
     "metadata": {},
     "output_type": "display_data"
    },
    {
     "data": {
      "image/png": "[encoded data removed]",
      "text/plain": [
       "<Figure size 1000x400 with 8 Axes>"
      ]
     },
     "metadata": {},
     "output_type": "display_data"
    },
    {
     "data": {
      "image/png": "[encoded data removed]",
      "text/plain": [
       "<Figure size 1000x400 with 8 Axes>"
      ]
     },
     "metadata": {},
     "output_type": "display_data"
    }
   ],
   "source": [
    "# Show datset samples.\n",
    "showRandDataset(dataset=trainData.dataset, indices=trainData.indices, classes=trainData.dataset.classes, sample_size=8, suptitle=\"Training Samples\")\n",
    "showRandDataset(dataset=valData.dataset, indices=valData.indices, classes=valData.dataset.classes, sample_size=8, suptitle=\"Validation Samples\")\n",
    "showRandDataset(dataset=testData, indices=range(0,len(testData)), classes=testData.classes, sample_size=8, suptitle=\"Test Samples\")\n"
   ]
  },
  {
   "cell_type": "code",
   "execution_count": 17,
   "metadata": {},
   "outputs": [
    {
     "name": "stdout",
     "output_type": "stream",
     "text": [
      "Training set 204(1.00) : rect 204(1.00), \n",
      "\n",
      "Validation set 52(1.00) : rect 52(1.00), \n",
      "\n",
      "Test set 64(1.00) : rect 64(1.00), \n",
      "\n"
     ]
    }
   ],
   "source": [
    "data_dist_report = showDataDist(trainData.dataset.classes, trainData.dataset.targets[trainData.indices], \"Training set\")\n",
    "data_dist_report += showDataDist(valData.dataset.classes, valData.dataset.targets[valData.indices], \"Validation set\")\n",
    "data_dist_report += showDataDist(testData.classes, testData.targets, \"Test set\")\n",
    "# write to a file.\n",
    "os.makedirs(result_dir, exist_ok=True)\n",
    "with open(os.path.join(result_dir, \"data_distribution.txt\"), 'w') as f:\n",
    "    f.write(data_dist_report)"
   ]
  },
  {
   "cell_type": "markdown",
   "metadata": {},
   "source": [
    "## Data Loader"
   ]
  },
  {
   "cell_type": "code",
   "execution_count": 18,
   "metadata": {},
   "outputs": [
    {
     "name": "stdout",
     "output_type": "stream",
     "text": [
      "Training steps: 13, Validation steps: 4\n"
     ]
    }
   ],
   "source": [
    "# initialize the train, validation, and test data loaders\n",
    "trainDataLoader = DataLoader(trainData, shuffle=True, batch_size=BATCH_SIZE)\n",
    "valDataLoader = DataLoader(valData, batch_size=BATCH_SIZE)\n",
    "testDataLoader = DataLoader(testData, batch_size=BATCH_SIZE)\n",
    "\n",
    "# calculate steps per epoch for training and validation set\n",
    "trainSteps = int(np.ceil(len(trainDataLoader.dataset) / BATCH_SIZE))\n",
    "valSteps = int(np.ceil(len(valDataLoader.dataset) / BATCH_SIZE))\n",
    "print(f\"Training steps: {trainSteps}, Validation steps: {valSteps}\")"
   ]
  },
  {
   "cell_type": "markdown",
   "metadata": {},
   "source": [
    "## Model Construction"
   ]
  },
  {
   "cell_type": "code",
   "execution_count": 19,
   "metadata": {},
   "outputs": [
    {
     "name": "stdout",
     "output_type": "stream",
     "text": [
      "----------------------------------------------------------------\n",
      "        Layer (type)               Output Shape         Param #\n",
      "================================================================\n",
      "            Conv2d-1           [-1, 32, 46, 46]             832\n",
      "              ReLU-2           [-1, 32, 46, 46]               0\n",
      "         MaxPool2d-3           [-1, 32, 23, 23]               0\n",
      "            Conv2d-4           [-1, 64, 19, 19]          51,264\n",
      "              ReLU-5           [-1, 64, 19, 19]               0\n",
      "         MaxPool2d-6             [-1, 64, 9, 9]               0\n",
      "            Conv2d-7            [-1, 128, 5, 5]         204,928\n",
      "              ReLU-8            [-1, 128, 5, 5]               0\n",
      "         MaxPool2d-9            [-1, 128, 2, 2]               0\n",
      "          Flatten-10                  [-1, 512]               0\n",
      "           Linear-11                  [-1, 128]          65,664\n",
      "           Linear-12                  [-1, 512]          66,048\n",
      "        Unflatten-13            [-1, 128, 2, 2]               0\n",
      "         Upsample-14            [-1, 128, 5, 5]               0\n",
      "  ConvTranspose2d-15             [-1, 64, 9, 9]         204,864\n",
      "             ReLU-16             [-1, 64, 9, 9]               0\n",
      "         Upsample-17           [-1, 64, 19, 19]               0\n",
      "  ConvTranspose2d-18           [-1, 32, 23, 23]          51,232\n",
      "             ReLU-19           [-1, 32, 23, 23]               0\n",
      "         Upsample-20           [-1, 32, 46, 46]               0\n",
      "  ConvTranspose2d-21            [-1, 1, 50, 50]             801\n",
      "          Sigmoid-22            [-1, 1, 50, 50]               0\n",
      "================================================================\n",
      "Total params: 645,633\n",
      "Trainable params: 645,633\n",
      "Non-trainable params: 0\n",
      "----------------------------------------------------------------\n",
      "Input size (MB): 0.01\n",
      "Forward/backward pass size (MB): 2.71\n",
      "Params size (MB): 2.46\n",
      "Estimated Total Size (MB): 5.19\n",
      "----------------------------------------------------------------\n"
     ]
    },
    {
     "ename": "AttributeError",
     "evalue": "'NoneType' object has no attribute 'layers_to_str'",
     "output_type": "error",
     "traceback": [
      "\u001b[0;31m---------------------------------------------------------------------------\u001b[0m",
      "\u001b[0;31mAttributeError\u001b[0m                            Traceback (most recent call last)",
      "\u001b[1;32m/Users/rapeewannasiri/Projects/CAD/OTDR/LearnCV/ML/auto-encoder.ipynb Cell 29\u001b[0m line \u001b[0;36m1\n\u001b[1;32m     <a href='vscode-notebook-cell:/Users/rapeewannasiri/Projects/CAD/OTDR/LearnCV/ML/auto-encoder.ipynb#Y201sZmlsZQ%3D%3D?line=10'>11</a>\u001b[0m os\u001b[39m.\u001b[39mmakedirs(result_dir, exist_ok\u001b[39m=\u001b[39m\u001b[39mTrue\u001b[39;00m)\n\u001b[1;32m     <a href='vscode-notebook-cell:/Users/rapeewannasiri/Projects/CAD/OTDR/LearnCV/ML/auto-encoder.ipynb#Y201sZmlsZQ%3D%3D?line=11'>12</a>\u001b[0m \u001b[39mwith\u001b[39;00m \u001b[39mopen\u001b[39m(os\u001b[39m.\u001b[39mpath\u001b[39m.\u001b[39mjoin(result_dir, \u001b[39m\"\u001b[39m\u001b[39mmodel_summary.txt\u001b[39m\u001b[39m\"\u001b[39m), \u001b[39m'\u001b[39m\u001b[39mw\u001b[39m\u001b[39m'\u001b[39m) \u001b[39mas\u001b[39;00m f:\n\u001b[0;32m---> <a href='vscode-notebook-cell:/Users/rapeewannasiri/Projects/CAD/OTDR/LearnCV/ML/auto-encoder.ipynb#Y201sZmlsZQ%3D%3D?line=12'>13</a>\u001b[0m     f\u001b[39m.\u001b[39mwrite(model_stat\u001b[39m.\u001b[39mlayers_to_str())\n",
      "\u001b[0;31mAttributeError\u001b[0m: 'NoneType' object has no attribute 'layers_to_str'"
     ]
    }
   ],
   "source": [
    "# initialize model\n",
    "image_shape = (1,INPUT_DIM,INPUT_DIM)\n",
    "layer_depth = LAYER_DEPTH\n",
    "latent_dim = LATENT_DIM\n",
    "model = AutoEncoder(image_shape=image_shape,\n",
    "                       layer_depth=layer_depth,\n",
    "                       latent_dim=latent_dim)\n",
    "model_stat = summary(model, image_shape)\n",
    "\n",
    "# write into a file.\n",
    "os.makedirs(result_dir, exist_ok=True)\n",
    "with open(os.path.join(result_dir, \"model_summary.txt\"), 'w') as f:\n",
    "    f.write(model_stat.layers_to_str())"
   ]
  },
  {
   "cell_type": "markdown",
   "metadata": {},
   "source": [
    "## Inferencing"
   ]
  },
  {
   "cell_type": "code",
   "execution_count": 20,
   "metadata": {},
   "outputs": [
    {
     "name": "stderr",
     "output_type": "stream",
     "text": [
      "/var/folders/xr/fqhbtp7x1fgb6h0skt7fjtfh0000gn/T/ipykernel_60251/2682655387.py:18: UserWarning: Matplotlib is currently using module://matplotlib_inline.backend_inline, which is a non-GUI backend, so cannot show the figure.\n",
      "  fig.show()\n"
     ]
    },
    {
     "data": {
      "image/png": "[encoded data removed]",
      "text/plain": [
       "<Figure size 800x400 with 2 Axes>"
      ]
     },
     "metadata": {},
     "output_type": "display_data"
    }
   ],
   "source": [
    "# Load data.\n",
    "x, y_hat = testData[0]\n",
    "x = x.to(DEVICE)\n",
    "label_hat = testData.classes[y_hat]\n",
    "\n",
    "# Inference.\n",
    "y = model(x.unsqueeze(0))\n",
    "fig = plt.figure(figsize=(8,4))\n",
    "axes = fig.subplots(1,2)\n",
    "ax = axes[0]\n",
    "ax.imshow(x.detach().to(torch.device('cpu')).permute(1,2,0).numpy(), 'gray')\n",
    "ax.set_title(\"Input\")\n",
    "ax.grid(False)\n",
    "ax = axes[1]\n",
    "ax.imshow(y[0].detach().to(torch.device('cpu')).detach().permute(1,2,0).numpy(), 'gray')\n",
    "ax.set_title(\"Output\")\n",
    "ax.grid(False)\n",
    "fig.show()"
   ]
  },
  {
   "cell_type": "markdown",
   "metadata": {},
   "source": [
    "## Model Training\n",
    "\n",
    "Choice of loss/cost function should match to the output layer of the network. In this case, we have to determine categorical cross-entropy loss. Since LeNet has LogSoftmax at the output layer then we use nn.NLLoss or negative log-likelihood. If the network has Linear at the output layer then we use nn.CrossEntropyLoss loss."
   ]
  },
  {
   "cell_type": "markdown",
   "metadata": {},
   "source": [
    "In PyTorch framework, in any training loop, we must compile the exact order:<br>\n",
    "`opt.zero_grad()`<br>\n",
    "`loss.backward()`<br>\n",
    "`opt.step()`<br>\n",
    ", before do anything else."
   ]
  },
  {
   "cell_type": "code",
   "execution_count": 21,
   "metadata": {},
   "outputs": [
    {
     "name": "stdout",
     "output_type": "stream",
     "text": [
      "EPOCH: 1/10\n",
      "Train loss: 0.077012\n",
      "Val loss: 0.006128\n",
      "\n",
      "EPOCH: 2/10\n",
      "Train loss: 0.007289\n",
      "Val loss: 0.005660\n",
      "\n",
      "EPOCH: 3/10\n",
      "Train loss: 0.007137\n",
      "Val loss: 0.005660\n",
      "\n",
      "EPOCH: 4/10\n",
      "Train loss: 0.007165\n",
      "Val loss: 0.005660\n",
      "\n",
      "EPOCH: 5/10\n",
      "Train loss: 0.007167\n",
      "Val loss: 0.005660\n",
      "\n",
      "EPOCH: 6/10\n",
      "Train loss: 0.007100\n",
      "Val loss: 0.005660\n",
      "\n",
      "EPOCH: 7/10\n",
      "Train loss: 0.007111\n",
      "Val loss: 0.005660\n",
      "\n",
      "EPOCH: 8/10\n",
      "Train loss: 0.007132\n",
      "Val loss: 0.005660\n",
      "\n",
      "EPOCH: 9/10\n",
      "Train loss: 0.007155\n",
      "Val loss: 0.005660\n",
      "\n",
      "EPOCH: 10/10\n",
      "Train loss: 0.007129\n",
      "Val loss: 0.005660\n",
      "\n"
     ]
    }
   ],
   "source": [
    "if do_train:\n",
    "\t# initialize our optimizer and loss function\n",
    "\topt = Adam(model.parameters(), lr=INIT_LR)\n",
    "\t# lossFn = nn.NLLLoss() # negative log-likelihood\n",
    "\tlossFn = nn.MSELoss()\n",
    "\n",
    "\t# initialize a dictionary to store training history\n",
    "\tH = {\n",
    "\t\t\"train_loss\": [],\n",
    "\t\t\"train_acc\": [],\n",
    "\t\t\"val_loss\": [],\n",
    "\t\t\"val_acc\": []\n",
    "\t}\n",
    "\n",
    "\t# loop over our epochs\n",
    "\tfor e in range(0, EPOCHS):\n",
    "\t\t# set the model in training mode\n",
    "\t\tmodel.train()\n",
    "\t\t# initialize the total training and validation loss\n",
    "\t\ttotalTrainLoss = 0\n",
    "\t\ttotalValLoss = 0\n",
    "\t\t# initialize the number of correct predictions in the training and validation step\n",
    "\t\ttrainCorrect = 0\n",
    "\t\tvalCorrect = 0\n",
    "\t\t# loop over the training set\n",
    "\t\tfor (x, y) in trainDataLoader:\n",
    "\t\t\t# send the input to the device\n",
    "\t\t\t(x, y) = (x.to(DEVICE), y.to(DEVICE))\n",
    "\t\t\t# perform a forward pass and calculate the training loss\n",
    "\t\t\tpred = model(x)\n",
    "\t\t\tloss = lossFn(pred, x)\n",
    "\t\t\t# zero out the gradients, perform the backpropagation step, and update the weights\n",
    "\t\t\topt.zero_grad()\n",
    "\t\t\tloss.backward()\n",
    "\t\t\topt.step()\n",
    "\t\t\t# add the loss to the total training loss so far and\n",
    "\t\t\ttotalTrainLoss += loss\n",
    "\t\n",
    "\t\t# switch off autograd for evaluation\n",
    "\t\twith torch.no_grad():\n",
    "\t\t\t# set the model in evaluation mode\n",
    "\t\t\tmodel.eval()\n",
    "\t\t\t# loop over the validation set\n",
    "\t\t\tfor (x, y) in valDataLoader:\n",
    "\t\t\t\t# send the input to the device\n",
    "\t\t\t\t(x, y) = (x.to(DEVICE), y.to(DEVICE))\n",
    "\t\t\t\t# make the predictions and calculate the validation loss\n",
    "\t\t\t\tpred = model(x)\n",
    "\t\t\t\ttotalValLoss += lossFn(pred, x)\n",
    "\n",
    "\t\t# calculate the average training and validation loss\n",
    "\t\tavgTrainLoss = totalTrainLoss / trainSteps\n",
    "\t\tavgValLoss = totalValLoss / valSteps\n",
    "\t\t# update our training history\n",
    "\t\tH[\"train_loss\"].append(avgTrainLoss.cpu().detach().numpy())\n",
    "\t\tH[\"val_loss\"].append(avgValLoss.cpu().detach().numpy())\n",
    "\t\t# print the model training and validation information\n",
    "\t\tprint(\"EPOCH: {}/{}\".format(e + 1, EPOCHS))\n",
    "\t\tprint(\"Train loss: {:.6f}\".format(avgTrainLoss))\n",
    "\t\tprint(\"Val loss: {:.6f}\\n\".format(avgValLoss))\n"
   ]
  },
  {
   "cell_type": "code",
   "execution_count": 22,
   "metadata": {},
   "outputs": [
    {
     "name": "stderr",
     "output_type": "stream",
     "text": [
      "/var/folders/xr/fqhbtp7x1fgb6h0skt7fjtfh0000gn/T/ipykernel_60251/3097716041.py:12: UserWarning: Matplotlib is currently using module://matplotlib_inline.backend_inline, which is a non-GUI backend, so cannot show the figure.\n",
      "  fig.show()\n"
     ]
    },
    {
     "data": {
      "image/png": "[encoded data removed]",
      "text/plain": [
       "<Figure size 640x480 with 1 Axes>"
      ]
     },
     "metadata": {},
     "output_type": "display_data"
    }
   ],
   "source": [
    "if do_train:\n",
    "    # plot the training loss and accuracy\n",
    "    # matplotlib.use(\"agg\") # choose backend rendering engine.\n",
    "    plt.style.use(\"ggplot\")\n",
    "    fig, axes = plt.subplots(1,1)\n",
    "    axes.plot(H[\"train_loss\"], label=\"train_loss\")\n",
    "    axes.plot(H[\"val_loss\"], label=\"val_loss\")\n",
    "    axes.set_title(\"Training Loss on Dataset\")\n",
    "    axes.set_xlabel(\"Epoch #\")\n",
    "    axes.set_ylabel(\"Loss\")\n",
    "    axes.legend(loc=\"lower left\")\n",
    "    fig.show()\n",
    "\n",
    "    # save image file.\n",
    "    os.makedirs(result_dir, exist_ok=True)\n",
    "    fig.savefig(os.path.join(result_dir, \"history.png\"))\n"
   ]
  },
  {
   "cell_type": "markdown",
   "metadata": {},
   "source": [
    "## Saving Model\n",
    "\n",
    "Usually we use `torch.save` to save only model states or moodel weights.\n"
   ]
  },
  {
   "cell_type": "code",
   "execution_count": 23,
   "metadata": {},
   "outputs": [],
   "source": [
    "if do_train:\n",
    "    # save model file.\n",
    "    os.makedirs(model_dir, exist_ok=True)\n",
    "    torch.save(model, os.path.join(model_dir, \"AE.pt\"))"
   ]
  },
  {
   "cell_type": "markdown",
   "metadata": {},
   "source": [
    "To save together with model definition, use Just-In-Time or JIT model by `torch.jit.script` or `torch.jit.trace`, which trace model definition/handler, such as forward methods, into intermediate script that is executed during inferencing or runtime (JIT), then `torch.jit.save` to save the JIT model. See https://pytorch.org/docs/stable/jit.html#frequently-asked-questions.\n",
    "\n",
    "JIT model remembers its original device when it is traced. As soon as you load the JIT model, it will be loaded into the orginal device."
   ]
  },
  {
   "cell_type": "code",
   "execution_count": 24,
   "metadata": {},
   "outputs": [
    {
     "ename": "TypeError",
     "evalue": "\n'numpy.int64' object in attribute 'Linear.in_features' is not a valid constant.\nValid constants are:\n1. a nn.ModuleList\n2. a value of type {bool, float, int, str, NoneType, torch.device, torch.layout, torch.dtype}\n3. a list or tuple of (2)\n",
     "output_type": "error",
     "traceback": [
      "\u001b[0;31m---------------------------------------------------------------------------\u001b[0m",
      "\u001b[0;31mTypeError\u001b[0m                                 Traceback (most recent call last)",
      "\u001b[1;32m/Users/rapeewannasiri/Projects/CAD/OTDR/LearnCV/ML/auto-encoder.ipynb Cell 39\u001b[0m line \u001b[0;36m3\n\u001b[1;32m      <a href='vscode-notebook-cell:/Users/rapeewannasiri/Projects/CAD/OTDR/LearnCV/ML/auto-encoder.ipynb#Y214sZmlsZQ%3D%3D?line=0'>1</a>\u001b[0m \u001b[39mif\u001b[39;00m do_train:\n\u001b[1;32m      <a href='vscode-notebook-cell:/Users/rapeewannasiri/Projects/CAD/OTDR/LearnCV/ML/auto-encoder.ipynb#Y214sZmlsZQ%3D%3D?line=1'>2</a>\u001b[0m     os\u001b[39m.\u001b[39mmakedirs(os\u001b[39m.\u001b[39mpath\u001b[39m.\u001b[39mdirname(model_dir), exist_ok\u001b[39m=\u001b[39m\u001b[39mTrue\u001b[39;00m)\n\u001b[0;32m----> <a href='vscode-notebook-cell:/Users/rapeewannasiri/Projects/CAD/OTDR/LearnCV/ML/auto-encoder.ipynb#Y214sZmlsZQ%3D%3D?line=2'>3</a>\u001b[0m     jit_model \u001b[39m=\u001b[39m torch\u001b[39m.\u001b[39mjit\u001b[39m.\u001b[39mscript(model)\n\u001b[1;32m      <a href='vscode-notebook-cell:/Users/rapeewannasiri/Projects/CAD/OTDR/LearnCV/ML/auto-encoder.ipynb#Y214sZmlsZQ%3D%3D?line=3'>4</a>\u001b[0m     torch\u001b[39m.\u001b[39mjit\u001b[39m.\u001b[39msave(jit_model, os\u001b[39m.\u001b[39mpath\u001b[39m.\u001b[39mjoin(model_dir, \u001b[39m\"\u001b[39m\u001b[39mJIT_AE.pt\u001b[39m\u001b[39m\"\u001b[39m))\n",
      "File \u001b[0;32m~/miniconda3/envs/basex/lib/python3.11/site-packages/torch/jit/_script.py:1324\u001b[0m, in \u001b[0;36mscript\u001b[0;34m(obj, optimize, _frames_up, _rcb, example_inputs)\u001b[0m\n\u001b[1;32m   1322\u001b[0m \u001b[39mif\u001b[39;00m \u001b[39misinstance\u001b[39m(obj, torch\u001b[39m.\u001b[39mnn\u001b[39m.\u001b[39mModule):\n\u001b[1;32m   1323\u001b[0m     obj \u001b[39m=\u001b[39m call_prepare_scriptable_func(obj)\n\u001b[0;32m-> 1324\u001b[0m     \u001b[39mreturn\u001b[39;00m torch\u001b[39m.\u001b[39mjit\u001b[39m.\u001b[39m_recursive\u001b[39m.\u001b[39mcreate_script_module(\n\u001b[1;32m   1325\u001b[0m         obj, torch\u001b[39m.\u001b[39mjit\u001b[39m.\u001b[39m_recursive\u001b[39m.\u001b[39minfer_methods_to_compile\n\u001b[1;32m   1326\u001b[0m     )\n\u001b[1;32m   1327\u001b[0m \u001b[39melse\u001b[39;00m:\n\u001b[1;32m   1328\u001b[0m     obj \u001b[39m=\u001b[39m obj\u001b[39m.\u001b[39m__prepare_scriptable__() \u001b[39mif\u001b[39;00m \u001b[39mhasattr\u001b[39m(obj, \u001b[39m\"\u001b[39m\u001b[39m__prepare_scriptable__\u001b[39m\u001b[39m\"\u001b[39m) \u001b[39melse\u001b[39;00m obj  \u001b[39m# type: ignore[operator]\u001b[39;00m\n",
      "File \u001b[0;32m~/miniconda3/envs/basex/lib/python3.11/site-packages/torch/jit/_recursive.py:556\u001b[0m, in \u001b[0;36mcreate_script_module\u001b[0;34m(nn_module, stubs_fn, share_types, is_tracing)\u001b[0m\n\u001b[1;32m    554\u001b[0m \u001b[39massert\u001b[39;00m \u001b[39mnot\u001b[39;00m \u001b[39misinstance\u001b[39m(nn_module, torch\u001b[39m.\u001b[39mjit\u001b[39m.\u001b[39mRecursiveScriptModule)\n\u001b[1;32m    555\u001b[0m check_module_initialized(nn_module)\n\u001b[0;32m--> 556\u001b[0m concrete_type \u001b[39m=\u001b[39m get_module_concrete_type(nn_module, share_types)\n\u001b[1;32m    557\u001b[0m \u001b[39mif\u001b[39;00m \u001b[39mnot\u001b[39;00m is_tracing:\n\u001b[1;32m    558\u001b[0m     AttributeTypeIsSupportedChecker()\u001b[39m.\u001b[39mcheck(nn_module)\n",
      "File \u001b[0;32m~/miniconda3/envs/basex/lib/python3.11/site-packages/torch/jit/_recursive.py:505\u001b[0m, in \u001b[0;36mget_module_concrete_type\u001b[0;34m(nn_module, share_types)\u001b[0m\n\u001b[1;32m    501\u001b[0m     \u001b[39mreturn\u001b[39;00m nn_module\u001b[39m.\u001b[39m_concrete_type\n\u001b[1;32m    503\u001b[0m \u001b[39mif\u001b[39;00m share_types:\n\u001b[1;32m    504\u001b[0m     \u001b[39m# Look into the store of cached JIT types\u001b[39;00m\n\u001b[0;32m--> 505\u001b[0m     concrete_type \u001b[39m=\u001b[39m concrete_type_store\u001b[39m.\u001b[39mget_or_create_concrete_type(nn_module)\n\u001b[1;32m    506\u001b[0m \u001b[39melse\u001b[39;00m:\n\u001b[1;32m    507\u001b[0m     \u001b[39m# Get a concrete type directly, without trying to re-use an existing JIT\u001b[39;00m\n\u001b[1;32m    508\u001b[0m     \u001b[39m# type from the type store.\u001b[39;00m\n\u001b[1;32m    509\u001b[0m     concrete_type_builder \u001b[39m=\u001b[39m infer_concrete_type_builder(nn_module, share_types)\n",
      "File \u001b[0;32m~/miniconda3/envs/basex/lib/python3.11/site-packages/torch/jit/_recursive.py:438\u001b[0m, in \u001b[0;36mConcreteTypeStore.get_or_create_concrete_type\u001b[0;34m(self, nn_module)\u001b[0m\n\u001b[1;32m    433\u001b[0m \u001b[39mdef\u001b[39;00m \u001b[39mget_or_create_concrete_type\u001b[39m(\u001b[39mself\u001b[39m, nn_module):\n\u001b[1;32m    434\u001b[0m \u001b[39m    \u001b[39m\u001b[39m\"\"\"\u001b[39;00m\n\u001b[1;32m    435\u001b[0m \u001b[39m    Infer a ConcreteType from this `nn.Module` instance. Underlying JIT\u001b[39;00m\n\u001b[1;32m    436\u001b[0m \u001b[39m    types are re-used if possible.\u001b[39;00m\n\u001b[1;32m    437\u001b[0m \u001b[39m    \"\"\"\u001b[39;00m\n\u001b[0;32m--> 438\u001b[0m     concrete_type_builder \u001b[39m=\u001b[39m infer_concrete_type_builder(nn_module)\n\u001b[1;32m    440\u001b[0m     nn_module_type \u001b[39m=\u001b[39m \u001b[39mtype\u001b[39m(nn_module)\n\u001b[1;32m    441\u001b[0m     \u001b[39mif\u001b[39;00m nn_module_type \u001b[39mnot\u001b[39;00m \u001b[39min\u001b[39;00m \u001b[39mself\u001b[39m\u001b[39m.\u001b[39mtype_store:\n",
      "File \u001b[0;32m~/miniconda3/envs/basex/lib/python3.11/site-packages/torch/jit/_recursive.py:284\u001b[0m, in \u001b[0;36minfer_concrete_type_builder\u001b[0;34m(nn_module, share_types)\u001b[0m\n\u001b[1;32m    279\u001b[0m     sub_concrete_type \u001b[39m=\u001b[39m torch\u001b[39m.\u001b[39m_C\u001b[39m.\u001b[39mConcreteModuleType\u001b[39m.\u001b[39mfrom_jit_type(\n\u001b[1;32m    280\u001b[0m         attr_type\u001b[39m.\u001b[39mtype()\n\u001b[1;32m    281\u001b[0m     )\n\u001b[1;32m    282\u001b[0m \u001b[39melse\u001b[39;00m:\n\u001b[1;32m    283\u001b[0m     \u001b[39m# otherwise we get the concrete module type for item and add it to concrete_type\u001b[39;00m\n\u001b[0;32m--> 284\u001b[0m     sub_concrete_type \u001b[39m=\u001b[39m get_module_concrete_type(item, share_types)\n\u001b[1;32m    285\u001b[0m concrete_type_builder\u001b[39m.\u001b[39madd_module(name, sub_concrete_type)\n\u001b[1;32m    287\u001b[0m added_names\u001b[39m.\u001b[39madd(name)\n",
      "File \u001b[0;32m~/miniconda3/envs/basex/lib/python3.11/site-packages/torch/jit/_recursive.py:505\u001b[0m, in \u001b[0;36mget_module_concrete_type\u001b[0;34m(nn_module, share_types)\u001b[0m\n\u001b[1;32m    501\u001b[0m     \u001b[39mreturn\u001b[39;00m nn_module\u001b[39m.\u001b[39m_concrete_type\n\u001b[1;32m    503\u001b[0m \u001b[39mif\u001b[39;00m share_types:\n\u001b[1;32m    504\u001b[0m     \u001b[39m# Look into the store of cached JIT types\u001b[39;00m\n\u001b[0;32m--> 505\u001b[0m     concrete_type \u001b[39m=\u001b[39m concrete_type_store\u001b[39m.\u001b[39mget_or_create_concrete_type(nn_module)\n\u001b[1;32m    506\u001b[0m \u001b[39melse\u001b[39;00m:\n\u001b[1;32m    507\u001b[0m     \u001b[39m# Get a concrete type directly, without trying to re-use an existing JIT\u001b[39;00m\n\u001b[1;32m    508\u001b[0m     \u001b[39m# type from the type store.\u001b[39;00m\n\u001b[1;32m    509\u001b[0m     concrete_type_builder \u001b[39m=\u001b[39m infer_concrete_type_builder(nn_module, share_types)\n",
      "File \u001b[0;32m~/miniconda3/envs/basex/lib/python3.11/site-packages/torch/jit/_recursive.py:438\u001b[0m, in \u001b[0;36mConcreteTypeStore.get_or_create_concrete_type\u001b[0;34m(self, nn_module)\u001b[0m\n\u001b[1;32m    433\u001b[0m \u001b[39mdef\u001b[39;00m \u001b[39mget_or_create_concrete_type\u001b[39m(\u001b[39mself\u001b[39m, nn_module):\n\u001b[1;32m    434\u001b[0m \u001b[39m    \u001b[39m\u001b[39m\"\"\"\u001b[39;00m\n\u001b[1;32m    435\u001b[0m \u001b[39m    Infer a ConcreteType from this `nn.Module` instance. Underlying JIT\u001b[39;00m\n\u001b[1;32m    436\u001b[0m \u001b[39m    types are re-used if possible.\u001b[39;00m\n\u001b[1;32m    437\u001b[0m \u001b[39m    \"\"\"\u001b[39;00m\n\u001b[0;32m--> 438\u001b[0m     concrete_type_builder \u001b[39m=\u001b[39m infer_concrete_type_builder(nn_module)\n\u001b[1;32m    440\u001b[0m     nn_module_type \u001b[39m=\u001b[39m \u001b[39mtype\u001b[39m(nn_module)\n\u001b[1;32m    441\u001b[0m     \u001b[39mif\u001b[39;00m nn_module_type \u001b[39mnot\u001b[39;00m \u001b[39min\u001b[39;00m \u001b[39mself\u001b[39m\u001b[39m.\u001b[39mtype_store:\n",
      "File \u001b[0;32m~/miniconda3/envs/basex/lib/python3.11/site-packages/torch/jit/_recursive.py:284\u001b[0m, in \u001b[0;36minfer_concrete_type_builder\u001b[0;34m(nn_module, share_types)\u001b[0m\n\u001b[1;32m    279\u001b[0m     sub_concrete_type \u001b[39m=\u001b[39m torch\u001b[39m.\u001b[39m_C\u001b[39m.\u001b[39mConcreteModuleType\u001b[39m.\u001b[39mfrom_jit_type(\n\u001b[1;32m    280\u001b[0m         attr_type\u001b[39m.\u001b[39mtype()\n\u001b[1;32m    281\u001b[0m     )\n\u001b[1;32m    282\u001b[0m \u001b[39melse\u001b[39;00m:\n\u001b[1;32m    283\u001b[0m     \u001b[39m# otherwise we get the concrete module type for item and add it to concrete_type\u001b[39;00m\n\u001b[0;32m--> 284\u001b[0m     sub_concrete_type \u001b[39m=\u001b[39m get_module_concrete_type(item, share_types)\n\u001b[1;32m    285\u001b[0m concrete_type_builder\u001b[39m.\u001b[39madd_module(name, sub_concrete_type)\n\u001b[1;32m    287\u001b[0m added_names\u001b[39m.\u001b[39madd(name)\n",
      "File \u001b[0;32m~/miniconda3/envs/basex/lib/python3.11/site-packages/torch/jit/_recursive.py:505\u001b[0m, in \u001b[0;36mget_module_concrete_type\u001b[0;34m(nn_module, share_types)\u001b[0m\n\u001b[1;32m    501\u001b[0m     \u001b[39mreturn\u001b[39;00m nn_module\u001b[39m.\u001b[39m_concrete_type\n\u001b[1;32m    503\u001b[0m \u001b[39mif\u001b[39;00m share_types:\n\u001b[1;32m    504\u001b[0m     \u001b[39m# Look into the store of cached JIT types\u001b[39;00m\n\u001b[0;32m--> 505\u001b[0m     concrete_type \u001b[39m=\u001b[39m concrete_type_store\u001b[39m.\u001b[39mget_or_create_concrete_type(nn_module)\n\u001b[1;32m    506\u001b[0m \u001b[39melse\u001b[39;00m:\n\u001b[1;32m    507\u001b[0m     \u001b[39m# Get a concrete type directly, without trying to re-use an existing JIT\u001b[39;00m\n\u001b[1;32m    508\u001b[0m     \u001b[39m# type from the type store.\u001b[39;00m\n\u001b[1;32m    509\u001b[0m     concrete_type_builder \u001b[39m=\u001b[39m infer_concrete_type_builder(nn_module, share_types)\n",
      "File \u001b[0;32m~/miniconda3/envs/basex/lib/python3.11/site-packages/torch/jit/_recursive.py:438\u001b[0m, in \u001b[0;36mConcreteTypeStore.get_or_create_concrete_type\u001b[0;34m(self, nn_module)\u001b[0m\n\u001b[1;32m    433\u001b[0m \u001b[39mdef\u001b[39;00m \u001b[39mget_or_create_concrete_type\u001b[39m(\u001b[39mself\u001b[39m, nn_module):\n\u001b[1;32m    434\u001b[0m \u001b[39m    \u001b[39m\u001b[39m\"\"\"\u001b[39;00m\n\u001b[1;32m    435\u001b[0m \u001b[39m    Infer a ConcreteType from this `nn.Module` instance. Underlying JIT\u001b[39;00m\n\u001b[1;32m    436\u001b[0m \u001b[39m    types are re-used if possible.\u001b[39;00m\n\u001b[1;32m    437\u001b[0m \u001b[39m    \"\"\"\u001b[39;00m\n\u001b[0;32m--> 438\u001b[0m     concrete_type_builder \u001b[39m=\u001b[39m infer_concrete_type_builder(nn_module)\n\u001b[1;32m    440\u001b[0m     nn_module_type \u001b[39m=\u001b[39m \u001b[39mtype\u001b[39m(nn_module)\n\u001b[1;32m    441\u001b[0m     \u001b[39mif\u001b[39;00m nn_module_type \u001b[39mnot\u001b[39;00m \u001b[39min\u001b[39;00m \u001b[39mself\u001b[39m\u001b[39m.\u001b[39mtype_store:\n",
      "File \u001b[0;32m~/miniconda3/envs/basex/lib/python3.11/site-packages/torch/jit/_recursive.py:328\u001b[0m, in \u001b[0;36minfer_concrete_type_builder\u001b[0;34m(nn_module, share_types)\u001b[0m\n\u001b[1;32m    325\u001b[0m         \u001b[39mcontinue\u001b[39;00m\n\u001b[1;32m    326\u001b[0m     value \u001b[39m=\u001b[39m \u001b[39mgetattr\u001b[39m(nn_module, name)\n\u001b[1;32m    327\u001b[0m     concrete_type_builder\u001b[39m.\u001b[39madd_constant(\n\u001b[0;32m--> 328\u001b[0m         name, _get_valid_constant(name, value, \u001b[39mtype\u001b[39m(nn_module)\u001b[39m.\u001b[39m\u001b[39m__name__\u001b[39m)\n\u001b[1;32m    329\u001b[0m     )\n\u001b[1;32m    330\u001b[0m     added_names\u001b[39m.\u001b[39madd(name)\n\u001b[1;32m    332\u001b[0m \u001b[39m# populate overloads\u001b[39;00m\n",
      "File \u001b[0;32m~/miniconda3/envs/basex/lib/python3.11/site-packages/torch/jit/_recursive.py:142\u001b[0m, in \u001b[0;36m_get_valid_constant\u001b[0;34m(attr, v, owner_type)\u001b[0m\n\u001b[1;32m    140\u001b[0m     \u001b[39mreturn\u001b[39;00m \u001b[39mtuple\u001b[39m(_get_valid_constant(attr, x, owner_type) \u001b[39mfor\u001b[39;00m x \u001b[39min\u001b[39;00m v)\n\u001b[1;32m    141\u001b[0m constants \u001b[39m=\u001b[39m \u001b[39m\"\u001b[39m\u001b[39m, \u001b[39m\u001b[39m\"\u001b[39m\u001b[39m.\u001b[39mjoin(torch\u001b[39m.\u001b[39mtypename(typ) \u001b[39mfor\u001b[39;00m typ \u001b[39min\u001b[39;00m _constant_types)\n\u001b[0;32m--> 142\u001b[0m \u001b[39mraise\u001b[39;00m \u001b[39mTypeError\u001b[39;00m(\n\u001b[1;32m    143\u001b[0m     textwrap\u001b[39m.\u001b[39mdedent(\n\u001b[1;32m    144\u001b[0m         \u001b[39mf\u001b[39m\u001b[39m\"\"\"\u001b[39m\n\u001b[1;32m    145\u001b[0m \u001b[39m    \u001b[39m\u001b[39m'\u001b[39m\u001b[39m{\u001b[39;00mtorch\u001b[39m.\u001b[39mtypename(\u001b[39mtype\u001b[39m(v))\u001b[39m}\u001b[39;00m\u001b[39m'\u001b[39m\u001b[39m object in attribute \u001b[39m\u001b[39m'\u001b[39m\u001b[39m{\u001b[39;00mowner_type\u001b[39m}\u001b[39;00m\u001b[39m.\u001b[39m\u001b[39m{\u001b[39;00mattr\u001b[39m}\u001b[39;00m\u001b[39m'\u001b[39m\u001b[39m is not a valid constant.\u001b[39m\n\u001b[1;32m    146\u001b[0m \u001b[39m    Valid constants are:\u001b[39m\n\u001b[1;32m    147\u001b[0m \u001b[39m    1. a nn.ModuleList\u001b[39m\n\u001b[1;32m    148\u001b[0m \u001b[39m    2. a value of type \u001b[39m\u001b[39m{{\u001b[39;00m\u001b[39m{\u001b[39;00mconstants\u001b[39m}\u001b[39;00m\u001b[39m}}\u001b[39;00m\n\u001b[1;32m    149\u001b[0m \u001b[39m    3. a list or tuple of (2)\u001b[39m\n\u001b[1;32m    150\u001b[0m \u001b[39m    \u001b[39m\u001b[39m\"\"\"\u001b[39m\n\u001b[1;32m    151\u001b[0m     )\n\u001b[1;32m    152\u001b[0m )\n",
      "\u001b[0;31mTypeError\u001b[0m: \n'numpy.int64' object in attribute 'Linear.in_features' is not a valid constant.\nValid constants are:\n1. a nn.ModuleList\n2. a value of type {bool, float, int, str, NoneType, torch.device, torch.layout, torch.dtype}\n3. a list or tuple of (2)\n"
     ]
    }
   ],
   "source": [
    "if do_train:\n",
    "    os.makedirs(os.path.dirname(model_dir), exist_ok=True)\n",
    "    jit_model = torch.jit.script(model)\n",
    "    torch.jit.save(jit_model, os.path.join(model_dir, \"JIT_AE.pt\"))"
   ]
  },
  {
   "cell_type": "markdown",
   "metadata": {},
   "source": [
    "## Loading Model"
   ]
  },
  {
   "cell_type": "code",
   "execution_count": 25,
   "metadata": {},
   "outputs": [
    {
     "data": {
      "text/plain": [
       "AutoEncoder(\n",
       "  (0): Encoder(\n",
       "    (0): ConvLayer(\n",
       "      (0): Conv2d(1, 32, kernel_size=(5, 5), stride=(1, 1))\n",
       "      (1): ReLU()\n",
       "      (2): MaxPool2d(kernel_size=(2, 2), stride=(2, 2), padding=0, dilation=1, ceil_mode=False)\n",
       "    )\n",
       "    (1): ConvLayer(\n",
       "      (0): Conv2d(32, 64, kernel_size=(5, 5), stride=(1, 1))\n",
       "      (1): ReLU()\n",
       "      (2): MaxPool2d(kernel_size=(2, 2), stride=(2, 2), padding=0, dilation=1, ceil_mode=False)\n",
       "    )\n",
       "    (2): ConvLayer(\n",
       "      (0): Conv2d(64, 128, kernel_size=(5, 5), stride=(1, 1))\n",
       "      (1): ReLU()\n",
       "      (2): MaxPool2d(kernel_size=(2, 2), stride=(2, 2), padding=0, dilation=1, ceil_mode=False)\n",
       "    )\n",
       "    (3): Flatten(start_dim=1, end_dim=-1)\n",
       "    (4): Linear(in_features=512, out_features=128, bias=True)\n",
       "  )\n",
       "  (1): Decoder(\n",
       "    (0): Linear(in_features=128, out_features=512, bias=True)\n",
       "    (1): Unflatten(dim=1, unflattened_size=[128, 2, 2])\n",
       "    (2): TConvLayer(\n",
       "      (0): Upsample(size=(5, 5), mode='nearest')\n",
       "      (1): ConvTranspose2d(128, 64, kernel_size=(5, 5), stride=(1, 1))\n",
       "      (2): ReLU()\n",
       "    )\n",
       "    (3): TConvLayer(\n",
       "      (0): Upsample(size=(19, 19), mode='nearest')\n",
       "      (1): ConvTranspose2d(64, 32, kernel_size=(5, 5), stride=(1, 1))\n",
       "      (2): ReLU()\n",
       "    )\n",
       "    (4): TConvLayer(\n",
       "      (0): Upsample(size=(46, 46), mode='nearest')\n",
       "      (1): ConvTranspose2d(32, 1, kernel_size=(5, 5), stride=(1, 1))\n",
       "      (2): Sigmoid()\n",
       "    )\n",
       "  )\n",
       ")"
      ]
     },
     "execution_count": 25,
     "metadata": {},
     "output_type": "execute_result"
    }
   ],
   "source": [
    "# load the model and set it to evaluation mode\n",
    "model = torch.load(os.path.join(model_dir, \"AE.pt\"))\n",
    "\n",
    "# # load the model and set it to evaluation mode\n",
    "# model = torch.jit.load(os.path.join(model_dir, \"JIT_LeNet.pt\"))\n",
    "\n",
    "model.to(DEVICE)"
   ]
  },
  {
   "cell_type": "markdown",
   "metadata": {},
   "source": [
    "## Model Evaluation"
   ]
  },
  {
   "cell_type": "markdown",
   "metadata": {},
   "source": [
    "## Model Implementation"
   ]
  },
  {
   "cell_type": "code",
   "execution_count": 26,
   "metadata": {},
   "outputs": [
    {
     "name": "stderr",
     "output_type": "stream",
     "text": [
      "/Users/rapeewannasiri/miniconda3/envs/basex/lib/python3.11/site-packages/torchvision/transforms/functional.py:1603: UserWarning: The default value of the antialias parameter of all the resizing transforms (Resize(), RandomResizedCrop(), etc.) will change from None to True in v0.17, in order to be consistent across the PIL and Tensor backends. To suppress this warning, directly pass antialias=True (recommended, future default), antialias=None (current default, which means False for Tensors and True for PIL), or antialias=False (only works on Tensors - PIL will still use antialiasing). This also applies if you are using the inference transforms from the models weights: update the call to weights.transforms(antialias=True).\n",
      "  warnings.warn(\n",
      "/var/folders/xr/fqhbtp7x1fgb6h0skt7fjtfh0000gn/T/ipykernel_60251/2828406703.py:43: UserWarning: Matplotlib is currently using module://matplotlib_inline.backend_inline, which is a non-GUI backend, so cannot show the figure.\n",
      "  fig.show()\n"
     ]
    },
    {
     "data": {
      "image/png": "[encoded data removed]",
      "text/plain": [
       "<Figure size 1200x1200 with 16 Axes>"
      ]
     },
     "metadata": {},
     "output_type": "display_data"
    }
   ],
   "source": [
    "showRandDataset(dataset=testData, indices=range(0,len(testData)), classes=testData.classes, sample_size=8, ncols=2, figsize=(12,12), suptitle=\"Test Samples\", model=model)"
   ]
  },
  {
   "cell_type": "code",
   "execution_count": null,
   "metadata": {},
   "outputs": [],
   "source": []
  }
 ],
 "metadata": {
  "kernelspec": {
   "display_name": "basex",
   "language": "python",
   "name": "python3"
  },
  "language_info": {
   "codemirror_mode": {
    "name": "ipython",
    "version": 3
   },
   "file_extension": ".py",
   "mimetype": "text/x-python",
   "name": "python",
   "nbconvert_exporter": "python",
   "pygments_lexer": "ipython3",
   "version": "3.11.4"
  }
 },
 "nbformat": 4,
 "nbformat_minor": 2
}
