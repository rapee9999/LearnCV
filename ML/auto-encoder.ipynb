{
 "cells": [
  {
   "cell_type": "markdown",
   "metadata": {},
   "source": [
    "# Basic Convolutional Auto-encoder\n"
   ]
  },
  {
   "cell_type": "code",
   "execution_count": 17,
   "metadata": {},
   "outputs": [
    {
     "name": "stdout",
     "output_type": "stream",
     "text": [
      "Device: cuda\n"
     ]
    }
   ],
   "source": [
    "import os\n",
    "import cv2\n",
    "import numpy as np\n",
    "import imutils\n",
    "from sklearn.metrics import classification_report\n",
    "\n",
    "import collections\n",
    "from collections import namedtuple, OrderedDict\n",
    "\n",
    "import typing\n",
    "from typing import List, Tuple, Union\n",
    "\n",
    "import matplotlib\n",
    "import matplotlib.pyplot as plt\n",
    "\n",
    "import torch\n",
    "from torch.optim import Adam\n",
    "from torchvision import transforms\n",
    "from torchvision.transforms import ToTensor\n",
    "from torchsummary import summary\n",
    "\n",
    "from torch import nn\n",
    "from torch.nn import (Sequential,\n",
    "                      Module,\n",
    "                      Conv2d,\n",
    "                      ConvTranspose2d,\n",
    "                      Linear,\n",
    "                      MaxPool2d,\n",
    "                      ReLU,\n",
    "                      Flatten,\n",
    "                      Unflatten,\n",
    "                      LogSoftmax)\n",
    "\n",
    "import torchvision.datasets\n",
    "from torchvision.datasets import KMNIST\n",
    "from torch.utils.data import random_split\n",
    "from torch.utils.data import DataLoader\n",
    "from torch.utils.data import Subset\n",
    "DEVICE = torch.device(\"cuda\" if torch.cuda.is_available() else \"cpu\")\n",
    "print(\"Device:\", DEVICE)"
   ]
  },
  {
   "cell_type": "markdown",
   "metadata": {},
   "source": [
    "## Model Definition"
   ]
  },
  {
   "cell_type": "code",
   "execution_count": 18,
   "metadata": {},
   "outputs": [],
   "source": [
    "def get_k_out_shape(in_shape: Tuple[int,int,int], module: Union[Conv2d,MaxPool2d]) -> Tuple[int,int,int]:\n",
    "    if isinstance(module.kernel_size, int): \n",
    "        kernel_y, kernel_x = module.kernel_size, module.kernel_size\n",
    "    else: \n",
    "        kernel_y, kernel_x = module.kernel_size\n",
    "    if isinstance(module.stride, int): stride_y, stride_x = module.stride, module.stride\n",
    "    else: stride_y, stride_x = module.stride\n",
    "    if isinstance(module.padding, int): padding_y, padding_x = module.padding, module.padding\n",
    "    else: padding_y, padding_x = module.padding\n",
    "    h = int( np.ceil( (in_shape[1] + (padding_y*2) - (kernel_y-1) ) / stride_y ) )\n",
    "    w = int( np.ceil( (in_shape[2] + (padding_x*2) - (kernel_x-1) ) / stride_x ) )\n",
    "    if isinstance(module, Conv2d): return module.out_channels, h, w\n",
    "    else: return in_shape[0], h, w "
   ]
  },
  {
   "cell_type": "code",
   "execution_count": 22,
   "metadata": {},
   "outputs": [],
   "source": [
    "class ConvLayer(Sequential):\n",
    "    def __init__(self, \n",
    "                 conv_in_channels: int, \n",
    "                 conv_out_channels: int, \n",
    "                 conv_kernel_size: Tuple[int,int] = (5,5),\n",
    "                 conv_stride: int = 1,\n",
    "                 conv_padding: int = 0,    \n",
    "                 pool_kernel_size: Tuple[int,int] = (2,2),\n",
    "                 pool_stride: int = (2,2),\n",
    "                 pool_padding: int = 0,\n",
    "                 ) -> None:\n",
    "        super(ConvLayer, self).__init__(\n",
    "            Conv2d(conv_in_channels, conv_out_channels, conv_kernel_size, conv_stride, conv_padding), \n",
    "            ReLU(), \n",
    "            MaxPool2d(pool_kernel_size, pool_stride, pool_padding) )\n",
    "    def get_in_shape(self, in_size: Tuple[int,int]) -> Tuple[int,int,int]: \n",
    "        return (list(self.children())[0].in_channels, \n",
    "                in_size[0], \n",
    "                in_size[1])\n",
    "    def get_out_shape(self, in_size: Tuple[int,int]) -> Tuple[int,int,int]:\n",
    "        modules = list(self.children())\n",
    "        conv = modules[0]\n",
    "        pool = modules[2]\n",
    "        out_shape = get_k_out_shape( in_shape=[conv.in_channels] + list(in_size), module=conv)\n",
    "        out_shape = get_k_out_shape( in_shape=out_shape, module=pool)\n",
    "        return out_shape\n",
    "    def get_in_features(self, in_size: Tuple[int,int]) -> int: \n",
    "        features = 1\n",
    "        for i in self.get_in_shape(in_size):\n",
    "            features = features * i\n",
    "        return features\n",
    "    def get_out_features(self, in_size: Tuple[int,int]) -> int: \n",
    "        features = 1\n",
    "        for i in self.get_out_shape(in_size):\n",
    "            features = features * i\n",
    "        return features\n"
   ]
  },
  {
   "cell_type": "code",
   "execution_count": 23,
   "metadata": {},
   "outputs": [],
   "source": [
    "class Encoder(Sequential):\n",
    "    def __init__(self, \n",
    "                 image_shape: Tuple[int,int,int], \n",
    "                 layer_depth: int,\n",
    "                 latent_dim: int, \n",
    "                 kernel_size: Tuple[int,int] = (5,5),\n",
    "                 stride: int = 1,\n",
    "                 padding: int = 0,    \n",
    "                 ) -> None:\n",
    "        # Encoder.\n",
    "        in_shape = image_shape\n",
    "        in_channels = int(image_shape[0])\n",
    "        out_channels = 32\n",
    "        encoder_layers: List[ConvLayer] = []\n",
    "        for _ in range(layer_depth):\n",
    "            encoder_layers.append(ConvLayer(\n",
    "                conv_in_channels=in_channels, \n",
    "                conv_out_channels=out_channels,\n",
    "                conv_kernel_size=kernel_size,\n",
    "                conv_stride=stride,\n",
    "                conv_padding=padding))\n",
    "            in_channels = out_channels\n",
    "            out_channels = out_channels * 2\n",
    "            in_shape = encoder_layers[-1].get_out_shape(in_shape[1:])\n",
    "        fc_in_features = np.prod(in_shape)\n",
    "        # Fully connceted layer for flattening to latent.\n",
    "        encoder_layers += [\n",
    "            Flatten(),\n",
    "            Linear(in_features=fc_in_features, out_features=latent_dim) \n",
    "            ]\n",
    "        # Sequential.\n",
    "        super(Encoder, self).__init__(*encoder_layers)\n",
    "        "
   ]
  },
  {
   "cell_type": "code",
   "execution_count": 24,
   "metadata": {},
   "outputs": [
    {
     "name": "stdout",
     "output_type": "stream",
     "text": [
      "==========================================================================================\n",
      "Layer (type:depth-idx)                   Output Shape              Param #\n",
      "==========================================================================================\n",
      "├─ConvLayer: 1-1                         [-1, 32, 30, 30]          --\n",
      "|    └─Conv2d: 2-1                       [-1, 32, 60, 60]          832\n",
      "|    └─ReLU: 2-2                         [-1, 32, 60, 60]          --\n",
      "|    └─MaxPool2d: 2-3                    [-1, 32, 30, 30]          --\n",
      "├─ConvLayer: 1-2                         [-1, 64, 13, 13]          --\n",
      "|    └─Conv2d: 2-4                       [-1, 64, 26, 26]          51,264\n",
      "|    └─ReLU: 2-5                         [-1, 64, 26, 26]          --\n",
      "|    └─MaxPool2d: 2-6                    [-1, 64, 13, 13]          --\n",
      "├─ConvLayer: 1-3                         [-1, 128, 4, 4]           --\n",
      "|    └─Conv2d: 2-7                       [-1, 128, 9, 9]           204,928\n",
      "|    └─ReLU: 2-8                         [-1, 128, 9, 9]           --\n",
      "|    └─MaxPool2d: 2-9                    [-1, 128, 4, 4]           --\n",
      "├─Flatten: 1-4                           [-1, 2048]                --\n",
      "├─Linear: 1-5                            [-1, 128]                 262,272\n",
      "==========================================================================================\n",
      "Total params: 519,296\n",
      "Trainable params: 519,296\n",
      "Non-trainable params: 0\n",
      "Total mult-adds (M): 54.60\n",
      "==========================================================================================\n",
      "Input size (MB): 0.02\n",
      "Forward/backward pass size (MB): 1.29\n",
      "Params size (MB): 1.98\n",
      "Estimated Total Size (MB): 3.29\n",
      "==========================================================================================\n"
     ]
    }
   ],
   "source": [
    "image_shape = (1,64,64)\n",
    "layer_depth = 3\n",
    "latent_dim = 128\n",
    "encoder = Encoder(image_shape, layer_depth, latent_dim)\n",
    "enc_stat = summary(encoder, image_shape)"
   ]
  },
  {
   "cell_type": "code",
   "execution_count": null,
   "metadata": {},
   "outputs": [],
   "source": [
    "class DeconvLayer(Sequential):\n",
    "    def __init__(self,\n",
    "                 in_channels: int, \n",
    "                 out_channels: int, \n",
    "                 kernel_size: Tuple[int,int] = (5,5),\n",
    "                 stride: int = 1,\n",
    "                 padding: int = 0\n",
    "                ) -> None:\n",
    "        deconv = ConvTranspose2d(in_channels, out_channels, kernel_size, stride, padding)"
   ]
  },
  {
   "cell_type": "code",
   "execution_count": 25,
   "metadata": {},
   "outputs": [],
   "source": [
    "class Decoder(Sequential):\n",
    "    def __init__(self, \n",
    "                 layer_depth: int,\n",
    "                 latent_dim: int, \n",
    "                 in_dec_shape: Tuple[int,int,int],\n",
    "                 kernel_size: Tuple[int,int] = (5,5),\n",
    "                 stride: int = 1,\n",
    "                 padding: int = 0,    \n",
    "                 ) -> None:\n",
    "        # Latent features to fully connected.\n",
    "        decoder_layers = [\n",
    "            Linear(in_features=latent_dim, out_features=np.prod(in_dec_shape)),\n",
    "            Unflatten(1, in_dec_shape),\n",
    "            ConvTranspose2d(in_dec_shape[0], 64, kernel_size, stride, padding)\n",
    "            ]\n",
    "        # # Decoder.\n",
    "        # decoders_layers: List[EncoderSingleLayer] = []\n",
    "        # in_channels = int(image_shape[0])\n",
    "        # out_channels = 32\n",
    "        # for _ in range(layer_depth):\n",
    "        #     decoders_layers.append(EncoderSingleLayer(\n",
    "        #         in_channels=in_channels, \n",
    "        #         out_channels=out_channels,\n",
    "        #         conv_kernel_size=kernel_size,\n",
    "        #         conv_stride=stride,\n",
    "        #         conv_padding=padding))\n",
    "        #     in_channels = out_channels\n",
    "        #     out_channels = out_channels * 2\n",
    "        \n",
    "        # Sequential.\n",
    "        super(Decoder, self).__init__(*decoder_layers)\n",
    "        "
   ]
  },
  {
   "cell_type": "code",
   "execution_count": 27,
   "metadata": {},
   "outputs": [
    {
     "name": "stdout",
     "output_type": "stream",
     "text": [
      "==========================================================================================\n",
      "Layer (type:depth-idx)                   Output Shape              Param #\n",
      "==========================================================================================\n",
      "├─Encoder: 1-1                           [-1, 128]                 --\n",
      "|    └─ConvLayer: 2-1                    [-1, 32, 30, 30]          --\n",
      "|    |    └─Conv2d: 3-1                  [-1, 32, 60, 60]          832\n",
      "|    |    └─ReLU: 3-2                    [-1, 32, 60, 60]          --\n",
      "|    |    └─MaxPool2d: 3-3               [-1, 32, 30, 30]          --\n",
      "|    └─ConvLayer: 2-2                    [-1, 64, 13, 13]          --\n",
      "|    |    └─Conv2d: 3-4                  [-1, 64, 26, 26]          51,264\n",
      "|    |    └─ReLU: 3-5                    [-1, 64, 26, 26]          --\n",
      "|    |    └─MaxPool2d: 3-6               [-1, 64, 13, 13]          --\n",
      "|    └─ConvLayer: 2-3                    [-1, 128, 4, 4]           --\n",
      "|    |    └─Conv2d: 3-7                  [-1, 128, 9, 9]           204,928\n",
      "|    |    └─ReLU: 3-8                    [-1, 128, 9, 9]           --\n",
      "|    |    └─MaxPool2d: 3-9               [-1, 128, 4, 4]           --\n",
      "|    └─Flatten: 2-4                      [-1, 2048]                --\n",
      "|    └─Linear: 2-5                       [-1, 128]                 262,272\n",
      "├─Decoder: 1-2                           [-1, 64, 8, 8]            --\n",
      "|    └─Linear: 2-6                       [-1, 2048]                264,192\n",
      "|    └─Unflatten: 2-7                    [-1, 128, 4, 4]           --\n",
      "|    └─ConvTranspose2d: 2-8              [-1, 64, 8, 8]            204,864\n",
      "==========================================================================================\n",
      "Total params: 988,352\n",
      "Trainable params: 988,352\n",
      "Non-trainable params: 0\n",
      "Total mult-adds (M): 68.95\n",
      "==========================================================================================\n",
      "Input size (MB): 0.02\n",
      "Forward/backward pass size (MB): 1.34\n",
      "Params size (MB): 3.77\n",
      "Estimated Total Size (MB): 5.12\n",
      "==========================================================================================\n"
     ]
    }
   ],
   "source": [
    "ae_model = Sequential(encoder, decoder)\n",
    "ae_stat = summary(ae_model, image_shape)"
   ]
  },
  {
   "cell_type": "markdown",
   "metadata": {},
   "source": [
    "## Dataset"
   ]
  },
  {
   "cell_type": "code",
   "execution_count": 3,
   "metadata": {},
   "outputs": [],
   "source": [
    "# define the train and val splits\n",
    "TRAIN_SPLIT = 0.75\n",
    "VAL_SPLIT = 1 - TRAIN_SPLIT\n",
    "BATCH_SIZE = 64"
   ]
  },
  {
   "cell_type": "code",
   "execution_count": 13,
   "metadata": {},
   "outputs": [
    {
     "name": "stdout",
     "output_type": "stream",
     "text": [
      "Training data: 45000, Validation data: 15000, Test data: 10000\n"
     ]
    }
   ],
   "source": [
    "# load the KMNIST dataset\n",
    "trainData = KMNIST(root=\"data\", train=True, download=True, transform=ToTensor())\n",
    "testData = KMNIST(root=\"data\", train=False, download=True, transform=ToTensor())\n",
    "numTestSamples = int(len(testData))\n",
    "\n",
    "# calculate the train/validation split\n",
    "numTrainSamples = int(len(trainData) * TRAIN_SPLIT)\n",
    "numValSamples = int(len(trainData) * VAL_SPLIT)\n",
    "(trainData, valData) = random_split(trainData, [numTrainSamples, numValSamples], generator=torch.Generator().manual_seed(42))\n",
    "\n",
    "print(f\"Training data: {numTrainSamples}, Validation data: {numValSamples}, Test data: {numTestSamples}\")"
   ]
  },
  {
   "cell_type": "code",
   "execution_count": 5,
   "metadata": {},
   "outputs": [
    {
     "name": "stdout",
     "output_type": "stream",
     "text": [
      "Training steps: 703, Validation steps: 234\n"
     ]
    }
   ],
   "source": [
    "# initialize the train, validation, and test data loaders\n",
    "trainDataLoader = DataLoader(trainData, shuffle=True, batch_size=BATCH_SIZE)\n",
    "valDataLoader = DataLoader(valData, batch_size=BATCH_SIZE)\n",
    "testDataLoader = DataLoader(testData, batch_size=BATCH_SIZE)\n",
    "\n",
    "# calculate steps per epoch for training and validation set\n",
    "trainSteps = len(trainDataLoader.dataset) // BATCH_SIZE\n",
    "valSteps = len(valDataLoader.dataset) // BATCH_SIZE\n",
    "print(f\"Training steps: {trainSteps}, Validation steps: {valSteps}\")"
   ]
  },
  {
   "cell_type": "markdown",
   "metadata": {},
   "source": [
    "## Model Construction"
   ]
  },
  {
   "cell_type": "code",
   "execution_count": 6,
   "metadata": {},
   "outputs": [
    {
     "name": "stdout",
     "output_type": "stream",
     "text": [
      "==========================================================================================\n",
      "Layer (type:depth-idx)                   Output Shape              Param #\n",
      "==========================================================================================\n",
      "├─Conv2d: 1-1                            [-1, 20, 24, 24]          520\n",
      "├─ReLU: 1-2                              [-1, 20, 24, 24]          --\n",
      "├─MaxPool2d: 1-3                         [-1, 20, 12, 12]          --\n",
      "├─Conv2d: 1-4                            [-1, 50, 8, 8]            25,050\n",
      "├─ReLU: 1-5                              [-1, 50, 8, 8]            --\n",
      "├─MaxPool2d: 1-6                         [-1, 50, 4, 4]            --\n",
      "├─Flatten: 1-7                           [-1, 800]                 --\n",
      "├─Linear: 1-8                            [-1, 500]                 400,500\n",
      "├─ReLU: 1-9                              [-1, 500]                 --\n",
      "├─Linear: 1-10                           [-1, 10]                  5,010\n",
      "├─LogSoftmax: 1-11                       [-1, 10]                  --\n",
      "==========================================================================================\n",
      "Total params: 431,080\n",
      "Trainable params: 431,080\n",
      "Non-trainable params: 0\n",
      "Total mult-adds (M): 2.29\n",
      "==========================================================================================\n",
      "Input size (MB): 0.00\n",
      "Forward/backward pass size (MB): 0.12\n",
      "Params size (MB): 1.64\n",
      "Estimated Total Size (MB): 1.76\n",
      "==========================================================================================\n"
     ]
    },
    {
     "data": {
      "text/plain": [
       "==========================================================================================\n",
       "Layer (type:depth-idx)                   Output Shape              Param #\n",
       "==========================================================================================\n",
       "├─Conv2d: 1-1                            [-1, 20, 24, 24]          520\n",
       "├─ReLU: 1-2                              [-1, 20, 24, 24]          --\n",
       "├─MaxPool2d: 1-3                         [-1, 20, 12, 12]          --\n",
       "├─Conv2d: 1-4                            [-1, 50, 8, 8]            25,050\n",
       "├─ReLU: 1-5                              [-1, 50, 8, 8]            --\n",
       "├─MaxPool2d: 1-6                         [-1, 50, 4, 4]            --\n",
       "├─Flatten: 1-7                           [-1, 800]                 --\n",
       "├─Linear: 1-8                            [-1, 500]                 400,500\n",
       "├─ReLU: 1-9                              [-1, 500]                 --\n",
       "├─Linear: 1-10                           [-1, 10]                  5,010\n",
       "├─LogSoftmax: 1-11                       [-1, 10]                  --\n",
       "==========================================================================================\n",
       "Total params: 431,080\n",
       "Trainable params: 431,080\n",
       "Non-trainable params: 0\n",
       "Total mult-adds (M): 2.29\n",
       "==========================================================================================\n",
       "Input size (MB): 0.00\n",
       "Forward/backward pass size (MB): 0.12\n",
       "Params size (MB): 1.64\n",
       "Estimated Total Size (MB): 1.76\n",
       "=========================================================================================="
      ]
     },
     "execution_count": 6,
     "metadata": {},
     "output_type": "execute_result"
    }
   ],
   "source": [
    "# initialize the LeNet model\n",
    "model = LeNet(numChannels=1, classes=len(trainData.dataset.classes), imageShape=trainData.dataset[0][0].size()[1:]).to(DEVICE)\n",
    "inputShape = (1,28,28)\n",
    "summary(model, inputShape)"
   ]
  },
  {
   "cell_type": "markdown",
   "metadata": {},
   "source": [
    "## Inferencing"
   ]
  },
  {
   "cell_type": "code",
   "execution_count": 7,
   "metadata": {},
   "outputs": [
    {
     "name": "stderr",
     "output_type": "stream",
     "text": [
      "C:\\Users\\User\\AppData\\Local\\Temp\\ipykernel_16524\\4058749131.py:15: UserWarning: Matplotlib is currently using module://matplotlib_inline.backend_inline, which is a non-GUI backend, so cannot show the figure.\n",
      "  fig.show()\n"
     ]
    },
    {
     "data": {
      "image/png": "[encoded data removed]",
      "text/plain": [
       "<Figure size 100x100 with 1 Axes>"
      ]
     },
     "metadata": {},
     "output_type": "display_data"
    }
   ],
   "source": [
    "# Load data.\n",
    "x, y_hat = testData[0]\n",
    "x = x.to(DEVICE)\n",
    "label_hat = testData.classes[y_hat]\n",
    "\n",
    "# Inference.\n",
    "y = model(x.unsqueeze(0))\n",
    "y = np.argmax(y.to(torch.device('cpu')).detach().numpy())\n",
    "label = testData.classes[y]\n",
    "\n",
    "fig = plt.figure(figsize=(1,1))\n",
    "axes = fig.subplots(1,1)\n",
    "axes.imshow(x.permute(1,2,0).to(torch.device('cpu')).detach().numpy(), 'gray')\n",
    "axes.set_title(f\"{label_hat} v {label}\")\n",
    "fig.show()"
   ]
  },
  {
   "cell_type": "markdown",
   "metadata": {},
   "source": [
    "## Model Training\n",
    "\n",
    "Choice of loss/cost function should match to the output layer of the network. In this case, we have to determine categorical cross-entropy loss. Since LeNet has LogSoftmax at the output layer then we use nn.NLLoss or negative log-likelihood. If the network has Linear at the output layer then we use nn.CrossEntropyLoss loss."
   ]
  },
  {
   "cell_type": "code",
   "execution_count": 8,
   "metadata": {},
   "outputs": [
    {
     "data": {
      "text/plain": [
       "'\\nCombine the nn.NLLoss class with LogSoftmax in our model definition, \\nwe arrive at categorical cross-entropy loss \\n(which is the equivalent to training a model with an output Linear layer and an nn.CrossEntropyLoss loss).\\n'"
      ]
     },
     "execution_count": 8,
     "metadata": {},
     "output_type": "execute_result"
    }
   ],
   "source": [
    "# define training hyperparameters\n",
    "INIT_LR = 1e-3\n",
    "EPOCHS = 10\n",
    "\n",
    "# initialize our optimizer and loss function\n",
    "opt = Adam(model.parameters(), lr=INIT_LR)\n",
    "lossFn = nn.NLLLoss() # negative log-likelihood\n"
   ]
  },
  {
   "cell_type": "markdown",
   "metadata": {},
   "source": [
    "In PyTorch framework, in any training loop, we must compile the exact order:<br>\n",
    "`opt.zero_grad()`<br>\n",
    "`loss.backward()`<br>\n",
    "`opt.step()`<br>\n",
    ", before do anything else."
   ]
  },
  {
   "cell_type": "code",
   "execution_count": 9,
   "metadata": {},
   "outputs": [
    {
     "name": "stdout",
     "output_type": "stream",
     "text": [
      "EPOCH: 1/10\n",
      "Train loss: 0.343636, Train accuracy: 0.8936\n",
      "Val loss: 0.141579, Val accuracy: 0.9589\n",
      "\n",
      "EPOCH: 2/10\n",
      "Train loss: 0.094264, Train accuracy: 0.9716\n",
      "Val loss: 0.100371, Val accuracy: 0.9701\n",
      "\n",
      "EPOCH: 3/10\n",
      "Train loss: 0.056518, Train accuracy: 0.9833\n",
      "Val loss: 0.084031, Val accuracy: 0.9741\n",
      "\n",
      "EPOCH: 4/10\n",
      "Train loss: 0.036750, Train accuracy: 0.9887\n",
      "Val loss: 0.077237, Val accuracy: 0.9781\n",
      "\n",
      "EPOCH: 5/10\n",
      "Train loss: 0.024139, Train accuracy: 0.9922\n",
      "Val loss: 0.078868, Val accuracy: 0.9801\n",
      "\n",
      "EPOCH: 6/10\n",
      "Train loss: 0.018458, Train accuracy: 0.9940\n",
      "Val loss: 0.074754, Val accuracy: 0.9805\n",
      "\n",
      "EPOCH: 7/10\n",
      "Train loss: 0.016896, Train accuracy: 0.9944\n",
      "Val loss: 0.077001, Val accuracy: 0.9817\n",
      "\n",
      "EPOCH: 8/10\n",
      "Train loss: 0.013253, Train accuracy: 0.9954\n",
      "Val loss: 0.081694, Val accuracy: 0.9803\n",
      "\n",
      "EPOCH: 9/10\n",
      "Train loss: 0.008580, Train accuracy: 0.9973\n",
      "Val loss: 0.085885, Val accuracy: 0.9809\n",
      "\n",
      "EPOCH: 10/10\n",
      "Train loss: 0.009445, Train accuracy: 0.9972\n",
      "Val loss: 0.095214, Val accuracy: 0.9799\n",
      "\n"
     ]
    }
   ],
   "source": [
    "# initialize a dictionary to store training history\n",
    "H = {\n",
    "\t\"train_loss\": [],\n",
    "\t\"train_acc\": [],\n",
    "\t\"val_loss\": [],\n",
    "\t\"val_acc\": []\n",
    "}\n",
    "\n",
    "# loop over our epochs\n",
    "for e in range(0, EPOCHS):\n",
    "\t# set the model in training mode\n",
    "\tmodel.train()\n",
    "\t# initialize the total training and validation loss\n",
    "\ttotalTrainLoss = 0\n",
    "\ttotalValLoss = 0\n",
    "\t# initialize the number of correct predictions in the training and validation step\n",
    "\ttrainCorrect = 0\n",
    "\tvalCorrect = 0\n",
    "\t# loop over the training set\n",
    "\tfor (x, y) in trainDataLoader:\n",
    "\t\t# send the input to the device\n",
    "\t\t(x, y) = (x.to(DEVICE), y.to(DEVICE))\n",
    "\t\t# perform a forward pass and calculate the training loss\n",
    "\t\tpred = model(x)\n",
    "\t\tloss = lossFn(pred, y)\n",
    "\t\t# zero out the gradients, perform the backpropagation step, and update the weights\n",
    "\t\topt.zero_grad()\n",
    "\t\tloss.backward()\n",
    "\t\topt.step()\n",
    "\t\t# add the loss to the total training loss so far and\n",
    "\t\t# calculate the number of correct predictions\n",
    "\t\ttotalTrainLoss += loss\n",
    "\t\ttrainCorrect += (pred.argmax(1) == y).type(torch.float).sum().item()\n",
    "  \n",
    "\t# switch off autograd for evaluation\n",
    "\twith torch.no_grad():\n",
    "\t\t# set the model in evaluation mode\n",
    "\t\tmodel.eval()\n",
    "\t\t# loop over the validation set\n",
    "\t\tfor (x, y) in valDataLoader:\n",
    "\t\t\t# send the input to the device\n",
    "\t\t\t(x, y) = (x.to(DEVICE), y.to(DEVICE))\n",
    "\t\t\t# make the predictions and calculate the validation loss\n",
    "\t\t\tpred = model(x)\n",
    "\t\t\ttotalValLoss += lossFn(pred, y)\n",
    "\t\t\t# calculate the number of correct predictions\n",
    "\t\t\tvalCorrect += (pred.argmax(1) == y).type(torch.float).sum().item()\n",
    "\n",
    "\t# calculate the average training and validation loss\n",
    "\tavgTrainLoss = totalTrainLoss / trainSteps\n",
    "\tavgValLoss = totalValLoss / valSteps\n",
    "\t# calculate the training and validation accuracy\n",
    "\ttrainCorrect = trainCorrect / numTrainSamples\n",
    "\tvalCorrect = valCorrect / numValSamples\n",
    "\t# update our training history\n",
    "\tH[\"train_loss\"].append(avgTrainLoss.cpu().detach().numpy())\n",
    "\tH[\"train_acc\"].append(trainCorrect)\n",
    "\tH[\"val_loss\"].append(avgValLoss.cpu().detach().numpy())\n",
    "\tH[\"val_acc\"].append(valCorrect)\n",
    "\t# print the model training and validation information\n",
    "\tprint(\"EPOCH: {}/{}\".format(e + 1, EPOCHS))\n",
    "\tprint(\"Train loss: {:.6f}, Train accuracy: {:.4f}\".format(avgTrainLoss, trainCorrect))\n",
    "\tprint(\"Val loss: {:.6f}, Val accuracy: {:.4f}\\n\".format(avgValLoss, valCorrect))\n"
   ]
  },
  {
   "cell_type": "code",
   "execution_count": 14,
   "metadata": {},
   "outputs": [
    {
     "name": "stderr",
     "output_type": "stream",
     "text": [
      "C:\\Users\\User\\AppData\\Local\\Temp\\ipykernel_4828\\647624368.py:13: UserWarning: Matplotlib is currently using module://matplotlib_inline.backend_inline, which is a non-GUI backend, so cannot show the figure.\n",
      "  fig.show()\n"
     ]
    },
    {
     "data": {
      "image/png": "[encoded data removed]",
      "text/plain": [
       "<Figure size 640x480 with 1 Axes>"
      ]
     },
     "metadata": {},
     "output_type": "display_data"
    }
   ],
   "source": [
    "# plot the training loss and accuracy\n",
    "# matplotlib.use(\"agg\") # choose backend rendering engine.\n",
    "plt.style.use(\"ggplot\")\n",
    "fig, axes = plt.subplots(1,1)\n",
    "axes.plot(H[\"train_loss\"], label=\"train_loss\")\n",
    "axes.plot(H[\"val_loss\"], label=\"val_loss\")\n",
    "axes.plot(H[\"train_acc\"], label=\"train_acc\")\n",
    "axes.plot(H[\"val_acc\"], label=\"val_acc\")\n",
    "axes.set_title(\"Training Loss and Accuracy on Dataset\")\n",
    "axes.set_xlabel(\"Epoch #\")\n",
    "axes.set_ylabel(\"Loss/Accuracy\")\n",
    "axes.legend(loc=\"lower left\")\n",
    "fig.show()\n",
    "\n",
    "# save image file.\n",
    "history_image_filepath = 'results/KMNIST/history.png'\n",
    "os.makedirs(os.path.dirname(history_image_filepath), exist_ok=True)\n",
    "fig.savefig(history_image_filepath)"
   ]
  },
  {
   "cell_type": "markdown",
   "metadata": {},
   "source": [
    "## Saving Model\n",
    "\n",
    "Usually we use `torch.save` to save only model states or moodel weights.\n"
   ]
  },
  {
   "cell_type": "code",
   "execution_count": 42,
   "metadata": {},
   "outputs": [],
   "source": [
    "# save model file.\n",
    "model_filepath = 'model-store\\KMNIST\\LeNet.pt'\n",
    "os.makedirs(os.path.dirname(model_filepath), exist_ok=True)\n",
    "torch.save(model, model_filepath)"
   ]
  },
  {
   "cell_type": "markdown",
   "metadata": {},
   "source": [
    "To save together with model definition, use Just-In-Time or JIT model by `torch.jit.script` or `torch.jit.trace`, which trace model definition/handler, such as forward methods, into intermediate script that is executed during inferencing or runtime (JIT), then `torch.jit.save` to save the JIT model. See https://pytorch.org/docs/stable/jit.html#frequently-asked-questions.\n",
    "\n",
    "JIT model remembers its original device when it is traced. As soon as you load the JIT model, it will be loaded into the orginal device."
   ]
  },
  {
   "cell_type": "code",
   "execution_count": 158,
   "metadata": {},
   "outputs": [],
   "source": [
    "jit_model_filepath = 'model-store/KMNIST/JIT_LeNet.pt'\n",
    "os.makedirs(os.path.dirname(jit_model_filepath), exist_ok=True)\n",
    "jit_model = torch.jit.script(model)\n",
    "torch.jit.save(jit_model, jit_model_filepath)"
   ]
  },
  {
   "cell_type": "markdown",
   "metadata": {},
   "source": [
    "## Model Evaluation"
   ]
  },
  {
   "cell_type": "code",
   "execution_count": 8,
   "metadata": {},
   "outputs": [
    {
     "name": "stdout",
     "output_type": "stream",
     "text": [
      "              precision    recall  f1-score   support\n",
      "\n",
      "           o       0.22      0.11      0.15      1000\n",
      "          ki       0.08      0.13      0.10      1000\n",
      "          su       0.00      0.00      0.00      1000\n",
      "         tsu       0.00      0.00      0.00      1000\n",
      "          na       0.00      0.00      0.00      1000\n",
      "          ha       0.00      0.00      0.00      1000\n",
      "          ma       0.00      0.00      0.00      1000\n",
      "          ya       0.00      0.00      0.00      1000\n",
      "          re       0.11      0.81      0.19      1000\n",
      "          wo       0.00      0.00      0.00      1000\n",
      "\n",
      "    accuracy                           0.11     10000\n",
      "   macro avg       0.04      0.11      0.04     10000\n",
      "weighted avg       0.04      0.11      0.04     10000\n",
      "\n"
     ]
    },
    {
     "name": "stderr",
     "output_type": "stream",
     "text": [
      "c:\\Users\\User\\.conda\\envs\\basex\\lib\\site-packages\\sklearn\\metrics\\_classification.py:1344: UndefinedMetricWarning: Precision and F-score are ill-defined and being set to 0.0 in labels with no predicted samples. Use `zero_division` parameter to control this behavior.\n",
      "  _warn_prf(average, modifier, msg_start, len(result))\n",
      "c:\\Users\\User\\.conda\\envs\\basex\\lib\\site-packages\\sklearn\\metrics\\_classification.py:1344: UndefinedMetricWarning: Precision and F-score are ill-defined and being set to 0.0 in labels with no predicted samples. Use `zero_division` parameter to control this behavior.\n",
      "  _warn_prf(average, modifier, msg_start, len(result))\n",
      "c:\\Users\\User\\.conda\\envs\\basex\\lib\\site-packages\\sklearn\\metrics\\_classification.py:1344: UndefinedMetricWarning: Precision and F-score are ill-defined and being set to 0.0 in labels with no predicted samples. Use `zero_division` parameter to control this behavior.\n",
      "  _warn_prf(average, modifier, msg_start, len(result))\n"
     ]
    }
   ],
   "source": [
    "# turn off autograd for testing evaluation\n",
    "with torch.no_grad():\n",
    "\t# set the model in evaluation mode\n",
    "\tmodel.eval()\n",
    "\t\n",
    "\t# initialize a list to store our predictions\n",
    "\tpreds = []\n",
    "\t# loop over the test set\n",
    "\tfor (x, y) in testDataLoader:\n",
    "\t\t# send the input to the device\n",
    "\t\tx = x.to(DEVICE)\n",
    "\t\t# make the predictions and add them to the list\n",
    "\t\tpred = model(x)\n",
    "\t\tpreds.extend(pred.argmax(axis=1).cpu().numpy())\n",
    "# generate a classification report\n",
    "print(classification_report(testData.targets.cpu().numpy(), np.array(preds), target_names=testData.classes))"
   ]
  },
  {
   "cell_type": "markdown",
   "metadata": {},
   "source": [
    "## Loading Model"
   ]
  },
  {
   "cell_type": "code",
   "execution_count": 9,
   "metadata": {},
   "outputs": [],
   "source": [
    "# load the model and set it to evaluation mode\n",
    "model_filepath = 'model-store\\KMNIST\\LeNet.pt'\n",
    "model = torch.load(model_filepath)"
   ]
  },
  {
   "cell_type": "code",
   "execution_count": 167,
   "metadata": {},
   "outputs": [],
   "source": [
    "# load the model and set it to evaluation mode\n",
    "model_filepath = 'model-store\\KMNIST\\JIT_LeNet.pt'\n",
    "model = torch.jit.load(model_filepath)"
   ]
  },
  {
   "cell_type": "code",
   "execution_count": 10,
   "metadata": {},
   "outputs": [
    {
     "name": "stdout",
     "output_type": "stream",
     "text": [
      "=================================================================\n",
      "Layer (type:depth-idx)                   Param #\n",
      "=================================================================\n",
      "├─Conv2d: 1-1                            520\n",
      "├─ReLU: 1-2                              --\n",
      "├─MaxPool2d: 1-3                         --\n",
      "├─Conv2d: 1-4                            25,050\n",
      "├─ReLU: 1-5                              --\n",
      "├─MaxPool2d: 1-6                         --\n",
      "├─Flatten: 1-7                           --\n",
      "├─Linear: 1-8                            400,500\n",
      "├─ReLU: 1-9                              --\n",
      "├─Linear: 1-10                           5,010\n",
      "├─LogSoftmax: 1-11                       --\n",
      "=================================================================\n",
      "Total params: 431,080\n",
      "Trainable params: 431,080\n",
      "Non-trainable params: 0\n",
      "=================================================================\n"
     ]
    },
    {
     "data": {
      "text/plain": [
       "=================================================================\n",
       "Layer (type:depth-idx)                   Param #\n",
       "=================================================================\n",
       "├─Conv2d: 1-1                            520\n",
       "├─ReLU: 1-2                              --\n",
       "├─MaxPool2d: 1-3                         --\n",
       "├─Conv2d: 1-4                            25,050\n",
       "├─ReLU: 1-5                              --\n",
       "├─MaxPool2d: 1-6                         --\n",
       "├─Flatten: 1-7                           --\n",
       "├─Linear: 1-8                            400,500\n",
       "├─ReLU: 1-9                              --\n",
       "├─Linear: 1-10                           5,010\n",
       "├─LogSoftmax: 1-11                       --\n",
       "=================================================================\n",
       "Total params: 431,080\n",
       "Trainable params: 431,080\n",
       "Non-trainable params: 0\n",
       "================================================================="
      ]
     },
     "execution_count": 10,
     "metadata": {},
     "output_type": "execute_result"
    }
   ],
   "source": [
    "model.to(DEVICE)\n",
    "summary(model)"
   ]
  },
  {
   "cell_type": "markdown",
   "metadata": {},
   "source": [
    "## Model Implementation"
   ]
  },
  {
   "cell_type": "code",
   "execution_count": 14,
   "metadata": {},
   "outputs": [],
   "source": [
    "randSeed = 42 # set the NumPy random seed for better reproducibility across machines.\n",
    "sampleSize = 10\n",
    "np.random.seed(randSeed)\n",
    "idxs = np.random.choice(range(0, len(testData)), size=(sampleSize,))\n",
    "testSubData = Subset(testData, idxs)\n",
    "# initialize the test data loader\n",
    "testDataLoader = DataLoader(testSubData, batch_size=1)"
   ]
  },
  {
   "cell_type": "code",
   "execution_count": 19,
   "metadata": {},
   "outputs": [
    {
     "name": "stderr",
     "output_type": "stream",
     "text": [
      "Clipping input data to the valid range for imshow with RGB data ([0..1] for floats or [0..255] for integers).\n",
      "Clipping input data to the valid range for imshow with RGB data ([0..1] for floats or [0..255] for integers).\n",
      "Clipping input data to the valid range for imshow with RGB data ([0..1] for floats or [0..255] for integers).\n",
      "Clipping input data to the valid range for imshow with RGB data ([0..1] for floats or [0..255] for integers).\n",
      "Clipping input data to the valid range for imshow with RGB data ([0..1] for floats or [0..255] for integers).\n",
      "Clipping input data to the valid range for imshow with RGB data ([0..1] for floats or [0..255] for integers).\n",
      "Clipping input data to the valid range for imshow with RGB data ([0..1] for floats or [0..255] for integers).\n",
      "Clipping input data to the valid range for imshow with RGB data ([0..1] for floats or [0..255] for integers).\n",
      "Clipping input data to the valid range for imshow with RGB data ([0..1] for floats or [0..255] for integers).\n",
      "Clipping input data to the valid range for imshow with RGB data ([0..1] for floats or [0..255] for integers).\n"
     ]
    },
    {
     "name": "stdout",
     "output_type": "stream",
     "text": [
      "ground truth label: ki, predicted label: ki\n",
      "ground truth label: ki, predicted label: ki\n",
      "ground truth label: ki, predicted label: ki\n",
      "ground truth label: ha, predicted label: ha\n",
      "ground truth label: tsu, predicted label: tsu\n",
      "ground truth label: ya, predicted label: ya\n",
      "ground truth label: tsu, predicted label: tsu\n",
      "ground truth label: na, predicted label: na\n",
      "ground truth label: ki, predicted label: ki\n",
      "ground truth label: tsu, predicted label: tsu\n"
     ]
    },
    {
     "name": "stderr",
     "output_type": "stream",
     "text": [
      "C:\\Users\\User\\AppData\\Local\\Temp\\ipykernel_16524\\3995774129.py:32: UserWarning: Matplotlib is currently using module://matplotlib_inline.backend_inline, which is a non-GUI backend, so cannot show the figure.\n",
      "  fig.show()\n"
     ]
    },
    {
     "data": {
      "image/png": "[encoded data removed]",
      "text/plain": [
       "<Figure size 640x480 with 10 Axes>"
      ]
     },
     "metadata": {},
     "output_type": "display_data"
    }
   ],
   "source": [
    "ncols = 5\n",
    "nrows = (sampleSize//ncols)+1 if sampleSize % ncols else sampleSize//ncols\n",
    "fig, axes = plt.subplots(nrows, ncols)\n",
    "axes = axes.reshape(ncols*nrows)\n",
    "\n",
    "# switch off autograd\n",
    "model.eval()\n",
    "with torch.no_grad():\n",
    "\t# loop over the test set\n",
    "\tfor ax, (image, label) in zip(axes, testDataLoader):\n",
    "\t\t# grab the original image and ground truth label\n",
    "\t\torigImage = image.numpy().squeeze(axis=(0, 1))\n",
    "\t\tgtLabel = testSubData.dataset.classes[label.numpy()[0]]\n",
    "\t\t# send the input to the device and make predictions on it\n",
    "\t\timage = image.to(DEVICE)\n",
    "\t\tpred = model(image)\n",
    "\t\t# find the class label index with the largest corresponding\n",
    "\t\t# probability\n",
    "\t\tidx = pred.argmax(axis=1).cpu().numpy()[0]\n",
    "\t\tpredLabel = testSubData.dataset.classes[idx]\n",
    "\n",
    "  \t\t# convert the image from grayscale to RGB (so we can draw on it)\n",
    "    \t# and resize it (so we can more easily see it on our screen)\n",
    "\t\torigImage = np.dstack([origImage] * 3)\n",
    "\t\torigImage = imutils.resize(origImage, width=128)\n",
    "\t\t# draw the predicted class label on it\n",
    "\t\tcolor = (0, 255, 0) if gtLabel == predLabel else (0, 0, 255)\n",
    "\t\tcv2.putText(origImage, gtLabel, (2, 25), cv2.FONT_HERSHEY_SIMPLEX, 0.95, color, 2)\n",
    "\t\t# display the result in terminal and show the input image\n",
    "\t\tprint(\"ground truth label: {}, predicted label: {}\".format(gtLabel, predLabel))\n",
    "\t\tax.imshow(origImage)\n",
    "fig.show()"
   ]
  }
 ],
 "metadata": {
  "kernelspec": {
   "display_name": "basex",
   "language": "python",
   "name": "python3"
  },
  "language_info": {
   "codemirror_mode": {
    "name": "ipython",
    "version": 3
   },
   "file_extension": ".py",
   "mimetype": "text/x-python",
   "name": "python",
   "nbconvert_exporter": "python",
   "pygments_lexer": "ipython3",
   "version": "3.10.10"
  }
 },
 "nbformat": 4,
 "nbformat_minor": 2
}
