{
 "cells": [
  {
   "cell_type": "markdown",
   "id": "f9629ff3-6687-423b-9ab5-d836511187ed",
   "metadata": {},
   "source": [
    "# Procedural Floor Plan Designer"
   ]
  },
  {
   "cell_type": "code",
   "execution_count": 59,
   "id": "cc5c4e78-2523-4d74-982a-556434d1c1ea",
   "metadata": {},
   "outputs": [],
   "source": [
    "import numpy as np\n",
    "import matplotlib.pyplot as plt\n",
    "from typing import Union, List\n",
    "from enum import Enum"
   ]
  },
  {
   "cell_type": "code",
   "execution_count": 67,
   "id": "9acf084a-5372-47bd-aa8f-9986d33e6ce7",
   "metadata": {},
   "outputs": [],
   "source": [
    "_POINT_ARG_TYPES = (np.ndarray, tuple, list, dict)\n",
    "    \n",
    "class IDX (Enum):\n",
    "    X : int = 0\n",
    "    Y : int = 1\n",
    "    \n",
    "class Point2D:    \n",
    "    def __init__(self, point : Union[_POINT_ARG_TYPES], dtype = None):\n",
    "        if isinstance(point, np.ndarray):\n",
    "            if len(point.shape) != 1:\n",
    "                raise ValueError(\"numpy-array point must contain 1 dimension\")\n",
    "            if point.shape[0] != 2:\n",
    "                raise ValueError(\"numpy-array point must contain 2 memebers\")\n",
    "            self._npPoint = point\n",
    "        elif isinstance(point, (tuple,list)):\n",
    "            if len(point) != 2:\n",
    "                raise ValueError(\"array-like point must contain 2 members\")\n",
    "            self._npPoint = np.array(point, dtype=dtype)\n",
    "        elif isinstance(point, dict):\n",
    "            if not(point.get('x') and point.get('y')):\n",
    "                raise ValueError(\"dict point must contain keys 'x' and 'y'\")\n",
    "            self._npPoint = np.array((point['x'],point['y']))\n",
    "            dtype = point.get('dtype') or dtype\n",
    "        else:\n",
    "            raise TypeError(f\"point must be one of {_POINT_ARG_TYPES}\")\n",
    "        \n",
    "        if dtype:\n",
    "            self._npPoint = self._npPoint.astype(dtype)\n",
    "            \n",
    "    def __repr__(self):\n",
    "        return f\"{self.__class__.__name__}([x={self.x}, y={self.y}], dtype={self.dtype})\"\n",
    "    \n",
    "    def numpy(self):\n",
    "        return self._npPoint\n",
    "    \n",
    "    _npPoint : np.ndarray\n",
    "    \n",
    "    def get_x(self):\n",
    "        return self._npPoint[IDX.X.value]\n",
    "    def get_y(self):\n",
    "        return self._npPoint[IDX.Y.value]\n",
    "    def get_dtype(self):\n",
    "        return self._npPoint.dtype\n",
    "    def set_x(self, x):\n",
    "        self._npPoint[IDX.X.value] = x\n",
    "    def set_y(self, y):\n",
    "        self._npPoint[IDX.Y.value] = y\n",
    "    def set_dtype(self, dtype):\n",
    "        self._npPoint = self._npPoint.astype(dtype)\n",
    "    x = property(get_x, set_x)\n",
    "    y = property(get_y, set_y)\n",
    "    dtype = property(get_dtype, set_dtype)\n",
    "        "
   ]
  },
  {
   "cell_type": "code",
   "execution_count": 56,
   "id": "a92bab1f-af82-4399-a960-f0a3fc125886",
   "metadata": {},
   "outputs": [],
   "source": [
    "class Element2D:\n",
    "    pass"
   ]
  },
  {
   "cell_type": "code",
   "execution_count": 50,
   "id": "094875d7-4327-4406-8370-621aad2e127f",
   "metadata": {},
   "outputs": [],
   "source": [
    "class Wall2D (Element2D):\n",
    "    def __init__(self, p1 : Point2D, p2 : Point2D, **kargs):\n",
    "        super().__init__(**kargs)\n",
    "        self.p1 = p1\n",
    "        self.p2 = p2\n",
    "    def __repr__(self):\n",
    "        return f\"Wall2D(p1={self.p1}, p2={self.p2})\"\n",
    "    "
   ]
  },
  {
   "cell_type": "code",
   "execution_count": 57,
   "id": "493eb519-15bd-40ae-b88d-4d68a20b3c88",
   "metadata": {},
   "outputs": [],
   "source": [
    "####################################33 how to create relation object ????\n",
    "################################### how to create assemply object ?????\n",
    "################################## how to create origin coordinate or frame reference object?????\n",
    "class Relation2D:\n",
    "    pass"
   ]
  },
  {
   "cell_type": "code",
   "execution_count": 80,
   "id": "756073d2-6e5e-420c-8f5c-ba473dc92053",
   "metadata": {},
   "outputs": [],
   "source": [
    "class WallRel2D (Enum):\n",
    "    p1_p1 = \"p1-p1\"\n",
    "    p1_p2 = \"p1-p2\"\n",
    "    p2_p1 = \"p2-p1\"\n",
    "    p2_p2 = \"p2-p2\"\n",
    "\n",
    "class WallJoint2D (Relation2D):\n",
    "    def __init__(self, w1 : Wall2D, w2 : Wall2D, joint : str):\n",
    "        if joint not in list(WallRel2D):\n",
    "            raise ValueError(f\"given joint {joint} does not exist in wall relation rules {list(WallRel2D)}\")\n",
    "        self.joint = joint\n",
    "    joint : WallRel2D"
   ]
  },
  {
   "cell_type": "code",
   "execution_count": 81,
   "id": "f94105b1-515c-4356-8108-7d88889437d9",
   "metadata": {},
   "outputs": [],
   "source": [
    "class Draw2D:\n",
    "    @staticmethod\n",
    "    def wall(wall : Wall2D, precision : int = 100):\n",
    "        x = np.linspace(wall.p1.x, wall.p2.x, precision)\n",
    "        y = np.linspace(wall.p1.y, wall.p2.y, precision)\n",
    "        plt.plot(x, y)\n",
    "        ax = plt.gca()\n",
    "        ax.invert_yaxis()\n",
    "        plt.show()\n",
    "        "
   ]
  },
  {
   "cell_type": "code",
   "execution_count": 82,
   "id": "4d31412d-340b-43f6-81ca-19edca06831f",
   "metadata": {},
   "outputs": [],
   "source": [
    "w1 = Wall2D(Point2D((0,0)), Point2D((0,10)))\n",
    "w2 = Wall2D(Point2D((0,0)), Point2D((10,0)))\n"
   ]
  },
  {
   "cell_type": "code",
   "execution_count": 83,
   "id": "d1363596-4b31-461d-8ae0-13508824e174",
   "metadata": {},
   "outputs": [],
   "source": [
    "wrel = WallJoint2D(w1, w2, WallRel2D.p1_p2)"
   ]
  },
  {
   "cell_type": "code",
   "execution_count": null,
   "id": "fcc18424-ed41-48c9-af0d-1338baaffd70",
   "metadata": {},
   "outputs": [],
   "source": []
  }
 ],
 "metadata": {
  "kernelspec": {
   "display_name": "basex",
   "language": "python",
   "name": "basex"
  },
  "language_info": {
   "codemirror_mode": {
    "name": "ipython",
    "version": 3
   },
   "file_extension": ".py",
   "mimetype": "text/x-python",
   "name": "python",
   "nbconvert_exporter": "python",
   "pygments_lexer": "ipython3",
   "version": "3.10.10"
  }
 },
 "nbformat": 4,
 "nbformat_minor": 5
}
