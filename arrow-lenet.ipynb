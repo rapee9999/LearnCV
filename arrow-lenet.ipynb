{
 "cells": [
  {
   "cell_type": "markdown",
   "metadata": {},
   "source": [
    "# Arrow Recognition\n",
    "\n"
   ]
  },
  {
   "cell_type": "code",
   "execution_count": 1,
   "metadata": {},
   "outputs": [
    {
     "name": "stdout",
     "output_type": "stream",
     "text": [
      "Device: cuda\n"
     ]
    }
   ],
   "source": [
    "import os\n",
    "import cv2\n",
    "from glob import glob\n",
    "import numpy as np\n",
    "import imutils\n",
    "from sklearn.metrics import classification_report\n",
    "import random\n",
    "from collections import namedtuple\n",
    "\n",
    "import typing\n",
    "from typing import Any\n",
    "\n",
    "import matplotlib\n",
    "import matplotlib.pyplot as plt\n",
    "\n",
    "import torch\n",
    "from torch import nn, flatten, Tensor\n",
    "from torch.optim import Adam\n",
    "from torch.nn import Module, Conv2d, Linear, MaxPool2d, ReLU, LogSoftmax\n",
    "from torch.utils.data import random_split, Dataset, DataLoader, Subset\n",
    "from torchvision import transforms\n",
    "from torchvision.transforms import ToTensor\n",
    "from torchvision.datasets import KMNIST\n",
    "from torchsummary import summary\n",
    "\n",
    "DEVICE = torch.device(\"cuda\" if torch.cuda.is_available() else \"cpu\")\n",
    "print(\"Device:\", DEVICE)"
   ]
  },
  {
   "cell_type": "markdown",
   "metadata": {},
   "source": [
    "## Definitions"
   ]
  },
  {
   "cell_type": "markdown",
   "metadata": {},
   "source": [
    "### Model Definitions"
   ]
  },
  {
   "cell_type": "code",
   "execution_count": 2,
   "metadata": {},
   "outputs": [],
   "source": [
    "class LeNet(Module):\n",
    "\tdef __init__(self, numChannels, classes, imageShape):\n",
    "\t\t# call the parent constructor\n",
    "\t\tsuper(LeNet, self).__init__()\n",
    "\n",
    "\t\t# initialize first set of CONV => RELU => POOL layers\n",
    "\t\t# convolutional layer = 20 5x5 filters.\n",
    "\t\tself.conv1 = Conv2d(in_channels=numChannels, out_channels=20, kernel_size=(5, 5))\n",
    "\t\t# activation function.\n",
    "\t\tself.relu1 = ReLU()\n",
    "\t\t# 2x2 max-pooling to reduce spatial dimensions.\n",
    "\t\tself.maxpool1 = MaxPool2d(kernel_size=(2, 2), stride=(2, 2))\n",
    "\n",
    "\t\t# initialize second set of CONV => RELU => POOL layers\n",
    "\t\t# convolutional layer = 20 5x5 filters.\n",
    "\t\tself.conv2 = Conv2d(in_channels=20, out_channels=50, kernel_size=(5, 5))\n",
    "\t\t# activation function.\n",
    "\t\tself.relu2 = ReLU()\n",
    "\t\t# 2x2 max-pooling to reduce spatial dimensions.\n",
    "\t\tself.maxpool2 = MaxPool2d(kernel_size=(2, 2), stride=(2, 2))\n",
    "\n",
    "\t\t# initialize first (and only) set of FC => RELU layers\n",
    "\t\t# fully connected to 500 features.\n",
    "\t\tself.flatter = torch.nn.Flatten(1)\n",
    "\t\tself.fc1 = Linear(in_features=50 * (imageShape[0]//4-3) * (imageShape[1]//4-3), out_features=500)\n",
    "\t\t# activation function. \n",
    "\t\tself.relu3 = ReLU()\n",
    "\n",
    "\t\t# initialize our softmax classifier\n",
    "\t\t# fully connected to number of classes.\n",
    "\t\tself.fc2 = Linear(in_features=500, out_features=classes)\n",
    "\t\tself.logSoftmax = LogSoftmax(dim=1)\n",
    "\n",
    "\tdef forward(self, x):\n",
    "\t\t# pass the input through our first set of CONV => RELU => POOL layers\n",
    "\t\t# x = n x a x b\n",
    "\t\t# x = 1 x 28 x 28\n",
    "\t\tx = self.conv1(x) # x = 20 x 24 x 24\n",
    "\t\tx = self.relu1(x) # x = 20 x 24 x 24\n",
    "\t\tx = self.maxpool1(x) # x = 20 x 12 x 12\n",
    "\n",
    "\t\t# pass the output from the previous layer through the second set of CONV => RELU => POOL layers\n",
    "\t\tx = self.conv2(x) # x = 50 x 8 x 8\n",
    "\t\tx = self.relu2(x) # x = 50 x 8 x 8\n",
    "\t\tx = self.maxpool2(x) # x = 50 x 4 x 4\n",
    "\n",
    "\t\t# flatten the output from the previous layer and pass it through our only set of FC => RELU layers\n",
    "\t\tx = self.flatter(x) # x = 800\n",
    "\t\tx = self.fc1(x) # x = 500\n",
    "\t\tx = self.relu3(x) # x = 500\n",
    "\n",
    "\t\t# pass the output to our softmax classifier to get our output predictions\n",
    "\t\tx = self.fc2(x) # x = number of classes = 10\n",
    "\t\toutput = self.logSoftmax(x) # x = 10 \n",
    "\n",
    "\t\t# return the output predictions\n",
    "\t\treturn output"
   ]
  },
  {
   "cell_type": "markdown",
   "metadata": {},
   "source": [
    "### Dataset Definitions"
   ]
  },
  {
   "cell_type": "code",
   "execution_count": 3,
   "metadata": {},
   "outputs": [],
   "source": [
    "Size = namedtuple('ImageSize', ['height', 'width'])\n",
    "Range = namedtuple('Range', ['min', 'max'])\n",
    "\n",
    "def drawRandArrow(size: Size, padding: int, lengthRange: Range, thickRange: Range, tipRange: Range, ax: plt.Axes = None, img: np.ndarray = None, grayscale: bool = False, negative: bool = False) -> np.ndarray:\n",
    "    # Create blank image.\n",
    "    if img is None:\n",
    "        img = np.zeros(list(size), np.uint8) if grayscale else np.zeros(list(size) + [3], np.uint8)\n",
    "        if not negative: img.fill(255)\n",
    "    else:\n",
    "        img = img.copy()\n",
    "    # constant.\n",
    "    if negative: color = (255,255,255) if len(img.shape) == 3 else 255\n",
    "    else: color = (0,0,0) if len(img.shape) == 3 else 0 \n",
    "    # random.\n",
    "    pt1 = (random.randint(0+padding, size[1]-padding), random.randint(0+padding, size[0]-padding))\n",
    "    while True:\n",
    "        pt2 = (random.randint(0+padding, size[1]-padding), random.randint(0+padding, size[0]-padding))\n",
    "        length = np.sqrt( np.power(pt2[0]-pt1[0], 2) + np.power(pt2[1]-pt1[1], 2) )\n",
    "        if lengthRange[0] < length < lengthRange[1]: break\n",
    "    thick = random.randint(*thickRange)\n",
    "    tipLen = (random.random() * (tipRange[1]-tipRange[0])) + tipRange[0]\n",
    "    # draw.\n",
    "    img = cv2.arrowedLine(img, pt1, pt2, color, thick, tipLength=tipLen)\n",
    "    # show.\n",
    "    if ax is not None: ax.imshow(img, 'gray')\n",
    "    return img\n",
    "\n",
    "def drawRandCircle(size: Size, padding: int, radRange: Range, thickRange: Range, ax: plt.Axes = None, img: np.ndarray = None, grayscale: bool = False, negative: bool = False) -> np.ndarray:\n",
    "    # create image.\n",
    "    if img is None:\n",
    "        img = np.zeros(list(size), np.uint8) if grayscale else np.zeros(list(size) + [3], np.uint8)\n",
    "        if not negative: img.fill(255)\n",
    "    else:\n",
    "        img = img.copy()\n",
    "    # constant.\n",
    "    if negative: color = (255,255,255) if len(img.shape) == 3 else 255\n",
    "    else: color = (0,0,0) if len(img.shape) == 3 else 0 \n",
    "    # random.\n",
    "    center = (random.randint(0+padding, size[1]-padding), random.randint(0+padding, size[0]-padding))\n",
    "    radius = random.randint(*radRange)\n",
    "    thick = random.randint(*thickRange)\n",
    "    # draw.\n",
    "    img = cv2.circle(img, center, radius, color, thick)\n",
    "    # show.\n",
    "    if ax is not None: ax.imshow(img, 'gray')\n",
    "    return img\n",
    "\n",
    "def drawRandRect(size: Size, padding: int, diagRange: Range, thickRange: Range, ax: plt.Axes = None, img: np.ndarray = None, grayscale: bool = False, negative: bool = False) -> np.ndarray:\n",
    "    # create image.\n",
    "    if img is None:\n",
    "        img = np.zeros(list(size), np.uint8) if grayscale else np.zeros(list(size) + [3], np.uint8)\n",
    "        if not negative: img.fill(255)\n",
    "    else:\n",
    "        img = img.copy()\n",
    "    # constant.\n",
    "    if negative: color = (255,255,255) if len(img.shape) == 3 else 255\n",
    "    else: color = (0,0,0) if len(img.shape) == 3 else 0 \n",
    "    # random.\n",
    "    pt1 = (random.randint(0+padding, size[1]-padding), random.randint(0+padding, size[0]-padding))\n",
    "    while True:\n",
    "        pt2 = (random.randint(0+padding, size[1]-padding), random.randint(0+padding, size[0]-padding))\n",
    "        diagonal = np.sqrt( np.power(pt2[0]-pt1[0], 2) + np.power(pt2[1]-pt1[1], 2) )\n",
    "        if diagRange[0] < diagonal < diagRange[1]: break\n",
    "    thick = random.randint(*thickRange)\n",
    "    # draw.\n",
    "    img = cv2.rectangle(img, pt1, pt2, color, thick)\n",
    "    # show.\n",
    "    if ax is not None: ax.imshow(img, 'gray')\n",
    "    return img\n",
    "\n",
    "def drawRandLine(size: Size, padding: int, lengthRange: Range, thickRange: Range, ax: plt.Axes = None, img: np.ndarray = None, grayscale: bool = False, negative: bool = False) -> np.ndarray:\n",
    "    # create image.\n",
    "    if img is None:\n",
    "        img = np.zeros(list(size), np.uint8) if grayscale else np.zeros(list(size) + [3], np.uint8)\n",
    "        if not negative: img.fill(255)\n",
    "    else:\n",
    "        img = img.copy()\n",
    "    # constant.\n",
    "    if negative: color = (255,255,255) if len(img.shape) == 3 else 255\n",
    "    else: color = (0,0,0) if len(img.shape) == 3 else 0 \n",
    "    # random.\n",
    "    pt1 = (random.randint(0+padding, size[1]-padding), random.randint(0+padding, size[0]-padding))\n",
    "    while True:\n",
    "        pt2 = (random.randint(0+padding, size[1]-padding), random.randint(0+padding, size[0]-padding))\n",
    "        length = np.sqrt( np.power(pt2[0]-pt1[0], 2) + np.power(pt2[1]-pt1[1], 2) )\n",
    "        if lengthRange[0] < length < lengthRange[1]: break\n",
    "    thick = random.randint(*thickRange)\n",
    "    # draw.\n",
    "    img = cv2.line(img, pt1, pt2, color, thick)\n",
    "    # show.\n",
    "    if ax is not None: ax.imshow(img, 'gray')\n",
    "    return img\n"
   ]
  },
  {
   "cell_type": "code",
   "execution_count": 4,
   "metadata": {},
   "outputs": [],
   "source": [
    "class ShapeDataset(torch.utils.data.Dataset):\n",
    "    CLASS_FILENAME = \"classes.txt\"\n",
    "    LABEL_FILENAME = \"labels.txt\"\n",
    "    \n",
    "    def __init__(self, root: str, device: torch.device, datasize: int = None, shape_definitions: dict = None, transforms: transforms.Compose = transforms.ToTensor()) -> None:\n",
    "        super().__init__()\n",
    "        self._transforms = transforms\n",
    "        self._root = root\n",
    "        self._device = device\n",
    "        self._datasize = datasize\n",
    "        self._shape_definitions = shape_definitions\n",
    "        self._classes: typing.List[str] = []\n",
    "        self._files: typing.List[str] = []\n",
    "        if all([isinstance(datasize, int), isinstance(shape_definitions, dict)]): \n",
    "            self.generate()\n",
    "        else: \n",
    "            self.read_classes()\n",
    "            self.read_files()\n",
    "    def __len__(self) -> int: return self._datasize\n",
    "    def __getitem__(self, index) -> torch.Tensor: return (self.load_data(index), self.load_targets(index))\n",
    "    \n",
    "    @property\n",
    "    def data(self) -> Tensor: return self.load_data()\n",
    "    @property\n",
    "    def targets(self) -> Tensor: return self.load_targets()\n",
    "    @property\n",
    "    def classes(self) -> typing.List[str]: return self._classes\n",
    "    @property\n",
    "    def files(self) -> typing.List[str]: return self._files\n",
    "    @property\n",
    "    def transforms(self) -> transforms.Compose: return self._transforms\n",
    "    @property\n",
    "    def root(self) -> str: return self._root\n",
    "    @property\n",
    "    def device(self) -> torch.device: return self._device\n",
    "    @property\n",
    "    def shape_definitions(self) -> dict: return self._shape_definitions\n",
    "    \n",
    "    def load_data(self, index: int = None, grayscale: bool = True, do_transform: bool = True) -> Tensor:\n",
    "        tensors = None\n",
    "        if index is None:\n",
    "            tensors = None\n",
    "            for filepath in self.files:\n",
    "                image = cv2.imread(filepath, cv2.IMREAD_GRAYSCALE if grayscale else cv2.IMREAD_COLOR)\n",
    "                if not isinstance(image, np.ndarray): raise RuntimeError(f\"Cannot read image {filepath}\")\n",
    "                if do_transform:\n",
    "                    image = self.transforms(image).to(self.device).unsqueeze(0)\n",
    "                    if tensors is None: tensors = image\n",
    "                    else: tensors = torch.concat([tensors, image])\n",
    "                else: \n",
    "                    image = np.expand_dims(image, 0)\n",
    "                    if tensors is None: tensors = image\n",
    "                    else: tensors = np.concatenate([tensors, image])\n",
    "        else:\n",
    "            filepath = self.files[index]\n",
    "            image = cv2.imread(filepath, cv2.IMREAD_GRAYSCALE if grayscale else cv2.IMREAD_COLOR)\n",
    "            if not isinstance(image, np.ndarray): raise RuntimeError(f\"Cannot read image {filepath}\")\n",
    "            if do_transform:\n",
    "                tensors = self.transforms(image).to(self.device)\n",
    "            else:\n",
    "                tensors = image\n",
    "        return tensors\n",
    "\n",
    "    def load_targets(self, index: int = None) -> typing.Union[typing.List[int], int]:\n",
    "        targets = None\n",
    "        labels_filepath = os.path.join(self.root, self.LABEL_FILENAME)\n",
    "        with open(labels_filepath, 'r') as f:\n",
    "            labels = np.array([int(line.strip().split(' ')[1]) for line in f.readlines()])\n",
    "        if index is not None:\n",
    "            targets = labels[index].item()\n",
    "        else:\n",
    "            targets = torch.from_numpy(labels)\n",
    "        return targets\n",
    "            \n",
    "    def generate(self):\n",
    "        os.makedirs(self.root, exist_ok=False)\n",
    "        \n",
    "        self._classes = list(self.shape_definitions.keys())\n",
    "        classes_filepath = os.path.join(self.root, self.CLASS_FILENAME)\n",
    "        with open(classes_filepath, 'w') as f:\n",
    "            f.writelines([f\"{c} {i}\\n\" for i, c in enumerate(self.classes)])\n",
    "            \n",
    "        labels_filepath = os.path.join(self.root, self.LABEL_FILENAME)\n",
    "        \n",
    "        nclasses = len(self.classes)\n",
    "        for i in range(self._datasize):\n",
    "            label_idx = random.randrange(0, nclasses)\n",
    "            label_name = self.classes[label_idx]\n",
    "            func = self.shape_definitions[label_name]['func']\n",
    "            kwargs = self.shape_definitions[label_name]['kwargs']\n",
    "            image: np.ndarray = func(**kwargs)\n",
    "            \n",
    "            filename = f\"{i}.png\"\n",
    "            image_filepath = os.path.abspath( os.path.join(self.root, filename) )\n",
    "            if not cv2.imwrite(image_filepath, image): raise RuntimeError(f\"Cannot write image {image_filepath}\")\n",
    "            self._files.append(image_filepath)\n",
    "            \n",
    "            with open(labels_filepath, 'a') as f:\n",
    "                f.write(f\"{filename} {label_idx}\\n\")\n",
    "                \n",
    "    def read_classes(self):\n",
    "        classes_filepath = os.path.join(self.root, self.CLASS_FILENAME)\n",
    "        classes = []\n",
    "        idc = []\n",
    "        with open(classes_filepath, 'r') as f:\n",
    "            for c in f.readlines():\n",
    "                cname, cid = c.split(' ')\n",
    "                cid = cid.strip()\n",
    "                classes.append(cname)\n",
    "                idc.append(cid)\n",
    "        self._classes = np.array(classes)[ np.array(idc).argsort() ].tolist()\n",
    "    \n",
    "    def read_files(self):\n",
    "        filepath_regex = os.path.join(self.root, \"*.png\")\n",
    "        self._files = glob(filepath_regex)\n",
    "        self._datasize = len(self.files)\n"
   ]
  },
  {
   "cell_type": "code",
   "execution_count": 5,
   "metadata": {},
   "outputs": [],
   "source": [
    "def showRandDataset(dataset: Dataset, indices: tuple, classes: tuple, sample_size: int, ncols: int = 4, suptitle: str = \"\", figsize: typing.Tuple[float,float] = (10,4), model: Module = None):\n",
    "    nrows = (sample_size // ncols) + 1 if sample_size % ncols else sample_size // ncols\n",
    "    idc = np.random.choice(indices, sample_size)\n",
    "    fig, axes = plt.subplots(nrows, ncols)\n",
    "    fig.suptitle(suptitle)\n",
    "    fig.set_size_inches(figsize) # (w,h)\n",
    "    axes = axes.reshape(nrows * ncols)\n",
    "    for ax, i in zip(axes, idc): \n",
    "        image, label_idx = dataset[i]\n",
    "        if isinstance(model, Module):\n",
    "            # send the input to the device and make predictions on it\n",
    "            image = image.to(DEVICE)\n",
    "            pred = model(image.unsqueeze(0))\n",
    "            # find the class label index with the largest corresponding\n",
    "            # probability\n",
    "            idx = pred.argmax(axis=1).cpu().numpy()[0]\n",
    "            ax.set_title(f\"{classes[label_idx]} v {classes[idx]}\")\n",
    "        else:\n",
    "            ax.set_title(f\"{classes[label_idx]}\")\n",
    "        image = image.detach().to(torch.device('cpu')).permute(1,2,0).numpy()\n",
    "        if image.shape[2] == 3: ax.imshow(image)\n",
    "        else: ax.imshow(image, 'gray')\n",
    "        ax.grid(False)\n",
    "    fig.show()"
   ]
  },
  {
   "cell_type": "code",
   "execution_count": 22,
   "metadata": {},
   "outputs": [],
   "source": [
    "def showDataDist(classes: tuple, targets: Tensor, dataname: str = \"\"):\n",
    "    datasize = len(targets)\n",
    "    print(f\"{dataname} {datasize}(1.00)\" , end=' : ')\n",
    "    for i in range(len(classes)):\n",
    "        count = (targets.detach().cpu().numpy() == i).sum()\n",
    "        print(f\"{classes[i]} {count}({count/datasize:.2f})\", end=', ')\n",
    "    print()"
   ]
  },
  {
   "cell_type": "markdown",
   "metadata": {},
   "source": [
    "## Parameters"
   ]
  },
  {
   "cell_type": "code",
   "execution_count": 6,
   "metadata": {},
   "outputs": [],
   "source": [
    "# pre-processing params.\n",
    "INPUT_DIM = 32\n",
    "\n",
    "# shape params.\n",
    "size = (128,128) # h,w\n",
    "padding = 5\n",
    "lengthRange = (30,100)\n",
    "radRange = (10,64)\n",
    "thickRange = (1,1)\n",
    "tipRange = (0.1,0.1)\n",
    "shape_definitions = {   \n",
    "    # 'arrow':    {'func': drawRandArrow,     'kwargs': {'size': size, 'padding': padding, 'thickRange': thickRange, 'grayscale': True, 'negative': True, 'lengthRange': lengthRange, 'tipRange': tipRange}},\n",
    "    'circle':   {'func': drawRandCircle,    'kwargs': {'size': size, 'padding': padding, 'thickRange': thickRange, 'grayscale': True, 'negative': True, 'radRange': radRange}},\n",
    "    'rect':     {'func': drawRandRect,      'kwargs': {'size': size, 'padding': padding, 'thickRange': thickRange, 'grayscale': True, 'negative': True, 'diagRange': lengthRange}}, \n",
    "    # 'line':     {'func': drawRandLine,      'kwargs': {'size': size, 'padding': padding, 'thickRange': thickRange, 'grayscale': True, 'negative': True, 'lengthRange': lengthRange}}\n",
    "    }\n",
    "\n",
    "# dataset params.\n",
    "train_data_size = 2000\n",
    "train_dir = \"data/Shapes/train\"\n",
    "test_data_size = 200\n",
    "test_dir = \"data/Shapes/test\"\n",
    "\n",
    "# define the train and val splits\n",
    "TRAIN_SPLIT = 0.80\n",
    "RAND_SEED = 42\n",
    "BATCH_SIZE = 16\n",
    "\n",
    "# define training hyperparameters\n",
    "INIT_LR = 1e-3\n",
    "EPOCHS = 20\n"
   ]
  },
  {
   "cell_type": "markdown",
   "metadata": {},
   "source": [
    "## Pre-processing"
   ]
  },
  {
   "cell_type": "code",
   "execution_count": 7,
   "metadata": {},
   "outputs": [],
   "source": [
    "preprocess = transforms.Compose([ transforms.ToTensor(), transforms.Resize(INPUT_DIM) ])"
   ]
  },
  {
   "cell_type": "markdown",
   "metadata": {},
   "source": [
    "## Dataset"
   ]
  },
  {
   "cell_type": "code",
   "execution_count": 9,
   "metadata": {},
   "outputs": [],
   "source": [
    "# training set.\n",
    "# create dataset.\n",
    "# trainData = ShapeDataset(root=train_dir, datasize=train_data_size, device=DEVICE, shape_definitions=shape_definitions, transforms=preprocess)\n",
    "# load existing dataset from disk.\n",
    "trainData = ShapeDataset(root=train_dir, device=DEVICE, transforms=preprocess)\n",
    "\n",
    "# test set.\n",
    "# create dataset.\n",
    "# testData = ShapeDataset(root=test_dir, datasize=test_data_size, device=DEVICE, shape_definitions=shape_definitions, transforms=preprocess)\n",
    "# load existing dataset from disk.\n",
    "testData = ShapeDataset(root=test_dir, device=DEVICE, transforms=preprocess)\n"
   ]
  },
  {
   "cell_type": "code",
   "execution_count": 11,
   "metadata": {},
   "outputs": [
    {
     "name": "stderr",
     "output_type": "stream",
     "text": [
      "C:\\Users\\User\\AppData\\Local\\Temp\\ipykernel_6644\\639347070.py:24: UserWarning: Matplotlib is currently using module://matplotlib_inline.backend_inline, which is a non-GUI backend, so cannot show the figure.\n",
      "  fig.show()\n"
     ]
    },
    {
     "data": {
      "image/png": "[encoded data removed]",
      "text/plain": [
       "<Figure size 1000x400 with 8 Axes>"
      ]
     },
     "metadata": {},
     "output_type": "display_data"
    },
    {
     "data": {
      "image/png": "[encoded data removed]",
      "text/plain": [
       "<Figure size 1000x400 with 8 Axes>"
      ]
     },
     "metadata": {},
     "output_type": "display_data"
    }
   ],
   "source": [
    "# Show datset samples.\n",
    "showRandDataset(dataset=trainData, indices=range(0,len(trainData)), classes=trainData.classes, sample_size=8, suptitle=\"Training Samples\")\n",
    "showRandDataset(dataset=testData, indices=range(0,len(testData)), classes=testData.classes, sample_size=8, suptitle=\"Test Samples\")\n"
   ]
  },
  {
   "cell_type": "markdown",
   "metadata": {},
   "source": [
    "## Splitting Dataset"
   ]
  },
  {
   "cell_type": "code",
   "execution_count": 12,
   "metadata": {},
   "outputs": [],
   "source": [
    "# calculate the train/validation split\n",
    "(trainData, valData) = random_split(trainData, [int(len(trainData) * TRAIN_SPLIT), len(trainData) - int(len(trainData) * TRAIN_SPLIT)], generator=torch.Generator().manual_seed(RAND_SEED))\n"
   ]
  },
  {
   "cell_type": "code",
   "execution_count": 24,
   "metadata": {},
   "outputs": [
    {
     "name": "stdout",
     "output_type": "stream",
     "text": [
      "Training set 1600(1.00) : circle 833(0.52), rect 767(0.48), \n",
      "Validation set 400(1.00) : circle 202(0.51), rect 198(0.49), \n",
      "Test set 200(1.00) : circle 101(0.51), rect 99(0.49), \n"
     ]
    }
   ],
   "source": [
    "showDataDist(trainData.dataset.classes, trainData.dataset.targets[trainData.indices], \"Training set\")\n",
    "showDataDist(valData.dataset.classes, valData.dataset.targets[valData.indices], \"Validation set\")\n",
    "showDataDist(testData.classes, testData.targets, \"Test set\")"
   ]
  },
  {
   "cell_type": "markdown",
   "metadata": {},
   "source": [
    "## Data Loader"
   ]
  },
  {
   "cell_type": "code",
   "execution_count": 12,
   "metadata": {},
   "outputs": [
    {
     "name": "stdout",
     "output_type": "stream",
     "text": [
      "Training steps: 100, Validation steps: 25\n"
     ]
    }
   ],
   "source": [
    "# initialize the train, validation, and test data loaders\n",
    "trainDataLoader = DataLoader(trainData, shuffle=True, batch_size=BATCH_SIZE)\n",
    "valDataLoader = DataLoader(valData, batch_size=BATCH_SIZE)\n",
    "testDataLoader = DataLoader(testData, batch_size=BATCH_SIZE)\n",
    "\n",
    "# calculate steps per epoch for training and validation set\n",
    "trainSteps = len(trainDataLoader.dataset) // BATCH_SIZE\n",
    "valSteps = len(valDataLoader.dataset) // BATCH_SIZE\n",
    "print(f\"Training steps: {trainSteps}, Validation steps: {valSteps}\")"
   ]
  },
  {
   "cell_type": "markdown",
   "metadata": {},
   "source": [
    "## Model Construction"
   ]
  },
  {
   "cell_type": "code",
   "execution_count": 13,
   "metadata": {},
   "outputs": [
    {
     "name": "stdout",
     "output_type": "stream",
     "text": [
      "==========================================================================================\n",
      "Layer (type:depth-idx)                   Output Shape              Param #\n",
      "==========================================================================================\n",
      "├─Conv2d: 1-1                            [-1, 20, 28, 28]          520\n",
      "├─ReLU: 1-2                              [-1, 20, 28, 28]          --\n",
      "├─MaxPool2d: 1-3                         [-1, 20, 14, 14]          --\n",
      "├─Conv2d: 1-4                            [-1, 50, 10, 10]          25,050\n",
      "├─ReLU: 1-5                              [-1, 50, 10, 10]          --\n",
      "├─MaxPool2d: 1-6                         [-1, 50, 5, 5]            --\n",
      "├─Flatten: 1-7                           [-1, 1250]                --\n",
      "├─Linear: 1-8                            [-1, 500]                 625,500\n",
      "├─ReLU: 1-9                              [-1, 500]                 --\n",
      "├─Linear: 1-10                           [-1, 2]                   1,002\n",
      "├─LogSoftmax: 1-11                       [-1, 2]                   --\n",
      "==========================================================================================\n",
      "Total params: 652,072\n",
      "Trainable params: 652,072\n",
      "Non-trainable params: 0\n",
      "Total mult-adds (M): 3.52\n",
      "==========================================================================================\n",
      "Input size (MB): 0.00\n",
      "Forward/backward pass size (MB): 0.16\n",
      "Params size (MB): 2.49\n",
      "Estimated Total Size (MB): 2.65\n",
      "==========================================================================================\n"
     ]
    },
    {
     "data": {
      "text/plain": [
       "==========================================================================================\n",
       "Layer (type:depth-idx)                   Output Shape              Param #\n",
       "==========================================================================================\n",
       "├─Conv2d: 1-1                            [-1, 20, 28, 28]          520\n",
       "├─ReLU: 1-2                              [-1, 20, 28, 28]          --\n",
       "├─MaxPool2d: 1-3                         [-1, 20, 14, 14]          --\n",
       "├─Conv2d: 1-4                            [-1, 50, 10, 10]          25,050\n",
       "├─ReLU: 1-5                              [-1, 50, 10, 10]          --\n",
       "├─MaxPool2d: 1-6                         [-1, 50, 5, 5]            --\n",
       "├─Flatten: 1-7                           [-1, 1250]                --\n",
       "├─Linear: 1-8                            [-1, 500]                 625,500\n",
       "├─ReLU: 1-9                              [-1, 500]                 --\n",
       "├─Linear: 1-10                           [-1, 2]                   1,002\n",
       "├─LogSoftmax: 1-11                       [-1, 2]                   --\n",
       "==========================================================================================\n",
       "Total params: 652,072\n",
       "Trainable params: 652,072\n",
       "Non-trainable params: 0\n",
       "Total mult-adds (M): 3.52\n",
       "==========================================================================================\n",
       "Input size (MB): 0.00\n",
       "Forward/backward pass size (MB): 0.16\n",
       "Params size (MB): 2.49\n",
       "Estimated Total Size (MB): 2.65\n",
       "=========================================================================================="
      ]
     },
     "execution_count": 13,
     "metadata": {},
     "output_type": "execute_result"
    }
   ],
   "source": [
    "# initialize the LeNet model\n",
    "model = LeNet(numChannels=1, classes=len(trainData.dataset.classes), imageShape=trainData.dataset[0][0].size()[1:]).to(DEVICE)\n",
    "inputShape = (1,INPUT_DIM,INPUT_DIM)\n",
    "summary(model, inputShape)"
   ]
  },
  {
   "cell_type": "markdown",
   "metadata": {},
   "source": [
    "## Inferencing"
   ]
  },
  {
   "cell_type": "code",
   "execution_count": 14,
   "metadata": {},
   "outputs": [
    {
     "name": "stderr",
     "output_type": "stream",
     "text": [
      "C:\\Users\\User\\AppData\\Local\\Temp\\ipykernel_17124\\4058749131.py:15: UserWarning: Matplotlib is currently using module://matplotlib_inline.backend_inline, which is a non-GUI backend, so cannot show the figure.\n",
      "  fig.show()\n"
     ]
    },
    {
     "data": {
      "image/png": "[encoded data removed]",
      "text/plain": [
       "<Figure size 100x100 with 1 Axes>"
      ]
     },
     "metadata": {},
     "output_type": "display_data"
    }
   ],
   "source": [
    "# Load data.\n",
    "x, y_hat = testData[0]\n",
    "x = x.to(DEVICE)\n",
    "label_hat = testData.classes[y_hat]\n",
    "\n",
    "# Inference.\n",
    "y = model(x.unsqueeze(0))\n",
    "y = np.argmax(y.to(torch.device('cpu')).detach().numpy())\n",
    "label = testData.classes[y]\n",
    "\n",
    "fig = plt.figure(figsize=(1,1))\n",
    "axes = fig.subplots(1,1)\n",
    "axes.imshow(x.permute(1,2,0).to(torch.device('cpu')).detach().numpy(), 'gray')\n",
    "axes.set_title(f\"{label_hat} v {label}\")\n",
    "fig.show()"
   ]
  },
  {
   "cell_type": "markdown",
   "metadata": {},
   "source": [
    "## Model Training\n",
    "\n",
    "Choice of loss/cost function should match to the output layer of the network. In this case, we have to determine categorical cross-entropy loss. Since LeNet has LogSoftmax at the output layer then we use nn.NLLoss or negative log-likelihood. If the network has Linear at the output layer then we use nn.CrossEntropyLoss loss."
   ]
  },
  {
   "cell_type": "markdown",
   "metadata": {},
   "source": [
    "In PyTorch framework, in any training loop, we must compile the exact order:<br>\n",
    "`opt.zero_grad()`<br>\n",
    "`loss.backward()`<br>\n",
    "`opt.step()`<br>\n",
    ", before do anything else."
   ]
  },
  {
   "cell_type": "code",
   "execution_count": 16,
   "metadata": {},
   "outputs": [
    {
     "name": "stdout",
     "output_type": "stream",
     "text": [
      "EPOCH: 1/20\n",
      "Train loss: 0.459544, Train accuracy: 0.7512\n",
      "Val loss: 0.167521, Val accuracy: 0.9325\n",
      "\n",
      "EPOCH: 2/20\n",
      "Train loss: 0.105561, Train accuracy: 0.9613\n",
      "Val loss: 0.074999, Val accuracy: 0.9675\n",
      "\n",
      "EPOCH: 3/20\n",
      "Train loss: 0.049171, Train accuracy: 0.9800\n",
      "Val loss: 0.054609, Val accuracy: 0.9825\n",
      "\n",
      "EPOCH: 4/20\n",
      "Train loss: 0.034636, Train accuracy: 0.9900\n",
      "Val loss: 0.066322, Val accuracy: 0.9775\n",
      "\n",
      "EPOCH: 5/20\n",
      "Train loss: 0.024165, Train accuracy: 0.9906\n",
      "Val loss: 0.041229, Val accuracy: 0.9850\n",
      "\n",
      "EPOCH: 6/20\n",
      "Train loss: 0.015062, Train accuracy: 0.9956\n",
      "Val loss: 0.027144, Val accuracy: 0.9900\n",
      "\n",
      "EPOCH: 7/20\n",
      "Train loss: 0.074051, Train accuracy: 0.9850\n",
      "Val loss: 0.290542, Val accuracy: 0.8950\n",
      "\n",
      "EPOCH: 8/20\n",
      "Train loss: 0.041444, Train accuracy: 0.9869\n",
      "Val loss: 0.038369, Val accuracy: 0.9850\n",
      "\n",
      "EPOCH: 9/20\n",
      "Train loss: 0.013980, Train accuracy: 0.9975\n",
      "Val loss: 0.034425, Val accuracy: 0.9875\n",
      "\n",
      "EPOCH: 10/20\n",
      "Train loss: 0.011711, Train accuracy: 0.9962\n",
      "Val loss: 0.031113, Val accuracy: 0.9875\n",
      "\n",
      "EPOCH: 11/20\n",
      "Train loss: 0.008835, Train accuracy: 0.9975\n",
      "Val loss: 0.026257, Val accuracy: 0.9875\n",
      "\n",
      "EPOCH: 12/20\n",
      "Train loss: 0.007344, Train accuracy: 0.9969\n",
      "Val loss: 0.041464, Val accuracy: 0.9900\n",
      "\n",
      "EPOCH: 13/20\n",
      "Train loss: 0.006425, Train accuracy: 0.9981\n",
      "Val loss: 0.025617, Val accuracy: 0.9900\n",
      "\n",
      "EPOCH: 14/20\n",
      "Train loss: 0.005341, Train accuracy: 0.9988\n",
      "Val loss: 0.025008, Val accuracy: 0.9900\n",
      "\n",
      "EPOCH: 15/20\n",
      "Train loss: 0.004267, Train accuracy: 0.9988\n",
      "Val loss: 0.017992, Val accuracy: 0.9925\n",
      "\n",
      "EPOCH: 16/20\n",
      "Train loss: 0.034686, Train accuracy: 0.9894\n",
      "Val loss: 0.056173, Val accuracy: 0.9775\n",
      "\n",
      "EPOCH: 17/20\n",
      "Train loss: 0.010968, Train accuracy: 0.9969\n",
      "Val loss: 0.035650, Val accuracy: 0.9900\n",
      "\n",
      "EPOCH: 18/20\n",
      "Train loss: 0.009142, Train accuracy: 0.9975\n",
      "Val loss: 0.030809, Val accuracy: 0.9900\n",
      "\n",
      "EPOCH: 19/20\n",
      "Train loss: 0.005053, Train accuracy: 0.9988\n",
      "Val loss: 0.036413, Val accuracy: 0.9900\n",
      "\n",
      "EPOCH: 20/20\n",
      "Train loss: 0.004364, Train accuracy: 0.9981\n",
      "Val loss: 0.054419, Val accuracy: 0.9925\n",
      "\n"
     ]
    }
   ],
   "source": [
    "# initialize our optimizer and loss function\n",
    "opt = Adam(model.parameters(), lr=INIT_LR)\n",
    "lossFn = nn.NLLLoss() # negative log-likelihood\n",
    "\n",
    "# initialize a dictionary to store training history\n",
    "H = {\n",
    "\t\"train_loss\": [],\n",
    "\t\"train_acc\": [],\n",
    "\t\"val_loss\": [],\n",
    "\t\"val_acc\": []\n",
    "}\n",
    "\n",
    "# loop over our epochs\n",
    "for e in range(0, EPOCHS):\n",
    "\t# set the model in training mode\n",
    "\tmodel.train()\n",
    "\t# initialize the total training and validation loss\n",
    "\ttotalTrainLoss = 0\n",
    "\ttotalValLoss = 0\n",
    "\t# initialize the number of correct predictions in the training and validation step\n",
    "\ttrainCorrect = 0\n",
    "\tvalCorrect = 0\n",
    "\t# loop over the training set\n",
    "\tfor (x, y) in trainDataLoader:\n",
    "\t\t# send the input to the device\n",
    "\t\t(x, y) = (x.to(DEVICE), y.to(DEVICE))\n",
    "\t\t# perform a forward pass and calculate the training loss\n",
    "\t\tpred = model(x)\n",
    "\t\tloss = lossFn(pred, y)\n",
    "\t\t# zero out the gradients, perform the backpropagation step, and update the weights\n",
    "\t\topt.zero_grad()\n",
    "\t\tloss.backward()\n",
    "\t\topt.step()\n",
    "\t\t# add the loss to the total training loss so far and\n",
    "\t\t# calculate the number of correct predictions\n",
    "\t\ttotalTrainLoss += loss\n",
    "\t\ttrainCorrect += (pred.argmax(1) == y).type(torch.float).sum().item()\n",
    "  \n",
    "\t# switch off autograd for evaluation\n",
    "\twith torch.no_grad():\n",
    "\t\t# set the model in evaluation mode\n",
    "\t\tmodel.eval()\n",
    "\t\t# loop over the validation set\n",
    "\t\tfor (x, y) in valDataLoader:\n",
    "\t\t\t# send the input to the device\n",
    "\t\t\t(x, y) = (x.to(DEVICE), y.to(DEVICE))\n",
    "\t\t\t# make the predictions and calculate the validation loss\n",
    "\t\t\tpred = model(x)\n",
    "\t\t\ttotalValLoss += lossFn(pred, y)\n",
    "\t\t\t# calculate the number of correct predictions\n",
    "\t\t\tvalCorrect += (pred.argmax(1) == y).type(torch.float).sum().item()\n",
    "\n",
    "\t# calculate the average training and validation loss\n",
    "\tavgTrainLoss = totalTrainLoss / trainSteps\n",
    "\tavgValLoss = totalValLoss / valSteps\n",
    "\t# calculate the training and validation accuracy\n",
    "\ttrainCorrect = trainCorrect / len(trainData)\n",
    "\tvalCorrect = valCorrect / len(valData)\n",
    "\t# update our training history\n",
    "\tH[\"train_loss\"].append(avgTrainLoss.cpu().detach().numpy())\n",
    "\tH[\"train_acc\"].append(trainCorrect)\n",
    "\tH[\"val_loss\"].append(avgValLoss.cpu().detach().numpy())\n",
    "\tH[\"val_acc\"].append(valCorrect)\n",
    "\t# print the model training and validation information\n",
    "\tprint(\"EPOCH: {}/{}\".format(e + 1, EPOCHS))\n",
    "\tprint(\"Train loss: {:.6f}, Train accuracy: {:.4f}\".format(avgTrainLoss, trainCorrect))\n",
    "\tprint(\"Val loss: {:.6f}, Val accuracy: {:.4f}\\n\".format(avgValLoss, valCorrect))\n"
   ]
  },
  {
   "cell_type": "code",
   "execution_count": 17,
   "metadata": {},
   "outputs": [
    {
     "name": "stderr",
     "output_type": "stream",
     "text": [
      "C:\\Users\\User\\AppData\\Local\\Temp\\ipykernel_17124\\2731160465.py:13: UserWarning: Matplotlib is currently using module://matplotlib_inline.backend_inline, which is a non-GUI backend, so cannot show the figure.\n",
      "  fig.show()\n"
     ]
    },
    {
     "data": {
      "image/png": "[encoded data removed]",
      "text/plain": [
       "<Figure size 640x480 with 1 Axes>"
      ]
     },
     "metadata": {},
     "output_type": "display_data"
    }
   ],
   "source": [
    "# plot the training loss and accuracy\n",
    "# matplotlib.use(\"agg\") # choose backend rendering engine.\n",
    "plt.style.use(\"ggplot\")\n",
    "fig, axes = plt.subplots(1,1)\n",
    "axes.plot(H[\"train_loss\"], label=\"train_loss\")\n",
    "axes.plot(H[\"val_loss\"], label=\"val_loss\")\n",
    "axes.plot(H[\"train_acc\"], label=\"train_acc\")\n",
    "axes.plot(H[\"val_acc\"], label=\"val_acc\")\n",
    "axes.set_title(\"Training Loss and Accuracy on Dataset\")\n",
    "axes.set_xlabel(\"Epoch #\")\n",
    "axes.set_ylabel(\"Loss/Accuracy\")\n",
    "axes.legend(loc=\"lower left\")\n",
    "fig.show()\n",
    "\n",
    "# save image file.\n",
    "history_image_filepath = 'results/Shapes/history.png'\n",
    "os.makedirs(os.path.dirname(history_image_filepath), exist_ok=True)\n",
    "fig.savefig(history_image_filepath)"
   ]
  },
  {
   "cell_type": "markdown",
   "metadata": {},
   "source": [
    "## Saving Model\n",
    "\n",
    "Usually we use `torch.save` to save only model states or moodel weights.\n"
   ]
  },
  {
   "cell_type": "code",
   "execution_count": 18,
   "metadata": {},
   "outputs": [],
   "source": [
    "# save model file.\n",
    "model_filepath = 'model-store\\Shapes\\LeNet.pt'\n",
    "os.makedirs(os.path.dirname(model_filepath), exist_ok=True)\n",
    "torch.save(model, model_filepath)"
   ]
  },
  {
   "cell_type": "markdown",
   "metadata": {},
   "source": [
    "To save together with model definition, use Just-In-Time or JIT model by `torch.jit.script` or `torch.jit.trace`, which trace model definition/handler, such as forward methods, into intermediate script that is executed during inferencing or runtime (JIT), then `torch.jit.save` to save the JIT model. See https://pytorch.org/docs/stable/jit.html#frequently-asked-questions.\n",
    "\n",
    "JIT model remembers its original device when it is traced. As soon as you load the JIT model, it will be loaded into the orginal device."
   ]
  },
  {
   "cell_type": "code",
   "execution_count": 19,
   "metadata": {},
   "outputs": [],
   "source": [
    "jit_model_filepath = 'model-store/Shapes/JIT_LeNet.pt'\n",
    "os.makedirs(os.path.dirname(jit_model_filepath), exist_ok=True)\n",
    "jit_model = torch.jit.script(model)\n",
    "torch.jit.save(jit_model, jit_model_filepath)"
   ]
  },
  {
   "cell_type": "markdown",
   "metadata": {},
   "source": [
    "## Model Evaluation"
   ]
  },
  {
   "cell_type": "code",
   "execution_count": 20,
   "metadata": {},
   "outputs": [
    {
     "name": "stderr",
     "output_type": "stream",
     "text": [
      "c:\\Users\\User\\.conda\\envs\\basex\\lib\\site-packages\\torchvision\\transforms\\functional.py:1603: UserWarning: The default value of the antialias parameter of all the resizing transforms (Resize(), RandomResizedCrop(), etc.) will change from None to True in v0.17, in order to be consistent across the PIL and Tensor backends. To suppress this warning, directly pass antialias=True (recommended, future default), antialias=None (current default, which means False for Tensors and True for PIL), or antialias=False (only works on Tensors - PIL will still use antialiasing). This also applies if you are using the inference transforms from the models weights: update the call to weights.transforms(antialias=True).\n",
      "  warnings.warn(\n"
     ]
    },
    {
     "name": "stdout",
     "output_type": "stream",
     "text": [
      "              precision    recall  f1-score   support\n",
      "\n",
      "      circle       1.00      0.98      0.99       101\n",
      "        rect       0.98      1.00      0.99        99\n",
      "\n",
      "    accuracy                           0.99       200\n",
      "   macro avg       0.99      0.99      0.99       200\n",
      "weighted avg       0.99      0.99      0.99       200\n",
      "\n"
     ]
    }
   ],
   "source": [
    "# turn off autograd for testing evaluation\n",
    "with torch.no_grad():\n",
    "\t# set the model in evaluation mode\n",
    "\tmodel.eval()\n",
    "\t\n",
    "\t# initialize a list to store our predictions\n",
    "\tpreds = []\n",
    "\t# loop over the test set\n",
    "\tfor (x, y) in testDataLoader:\n",
    "\t\t# send the input to the device\n",
    "\t\tx = x.to(DEVICE)\n",
    "\t\t# make the predictions and add them to the list\n",
    "\t\tpred = model(x)\n",
    "\t\tpreds.extend(pred.argmax(axis=1).cpu().numpy())\n",
    "# generate a classification report\n",
    "print(classification_report(testData.targets.cpu().numpy(), np.array(preds), target_names=testData.classes))"
   ]
  },
  {
   "cell_type": "markdown",
   "metadata": {},
   "source": [
    "## Loading Model"
   ]
  },
  {
   "cell_type": "code",
   "execution_count": 24,
   "metadata": {},
   "outputs": [],
   "source": [
    "# load the model and set it to evaluation mode\n",
    "model_filepath = 'model-store\\Shapes\\LeNet.pt'\n",
    "model = torch.load(model_filepath)\n",
    "\n",
    "# # load the model and set it to evaluation mode\n",
    "# model_filepath = 'model-store\\Shapes\\JIT_LeNet.pt'\n",
    "# model = torch.jit.load(model_filepath)\n",
    "\n",
    "model.to(DEVICE)"
   ]
  },
  {
   "cell_type": "markdown",
   "metadata": {},
   "source": [
    "## Model Implementation"
   ]
  },
  {
   "cell_type": "code",
   "execution_count": 125,
   "metadata": {},
   "outputs": [
    {
     "name": "stderr",
     "output_type": "stream",
     "text": [
      "C:\\Users\\User\\AppData\\Local\\Temp\\ipykernel_17124\\2505965620.py:3: DeprecationWarning: This function is deprecated. Please call randint(0, 200 + 1) instead\n",
      "  idc = np.random.random_integers(0, len(dataset), sample_size)\n",
      "c:\\Users\\User\\.conda\\envs\\basex\\lib\\site-packages\\torchvision\\transforms\\functional.py:1603: UserWarning: The default value of the antialias parameter of all the resizing transforms (Resize(), RandomResizedCrop(), etc.) will change from None to True in v0.17, in order to be consistent across the PIL and Tensor backends. To suppress this warning, directly pass antialias=True (recommended, future default), antialias=None (current default, which means False for Tensors and True for PIL), or antialias=False (only works on Tensors - PIL will still use antialiasing). This also applies if you are using the inference transforms from the models weights: update the call to weights.transforms(antialias=True).\n",
      "  warnings.warn(\n",
      "C:\\Users\\User\\AppData\\Local\\Temp\\ipykernel_17124\\2505965620.py:24: UserWarning: Matplotlib is currently using module://matplotlib_inline.backend_inline, which is a non-GUI backend, so cannot show the figure.\n",
      "  fig.show()\n"
     ]
    },
    {
     "data": {
      "image/png": "[encoded data removed]",
      "text/plain": [
       "<Figure size 1000x400 with 8 Axes>"
      ]
     },
     "metadata": {},
     "output_type": "display_data"
    }
   ],
   "source": [
    "showRandDataset(testData, 8, suptitle=\"Test Samples\", model=model)"
   ]
  }
 ],
 "metadata": {
  "kernelspec": {
   "display_name": "basex",
   "language": "python",
   "name": "python3"
  },
  "language_info": {
   "codemirror_mode": {
    "name": "ipython",
    "version": 3
   },
   "file_extension": ".py",
   "mimetype": "text/x-python",
   "name": "python",
   "nbconvert_exporter": "python",
   "pygments_lexer": "ipython3",
   "version": "3.10.10"
  }
 },
 "nbformat": 4,
 "nbformat_minor": 2
}
