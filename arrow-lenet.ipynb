{
 "cells": [
  {
   "cell_type": "markdown",
   "metadata": {},
   "source": [
    "# Arrow Recognition\n",
    "\n"
   ]
  },
  {
   "cell_type": "code",
   "execution_count": 1,
   "metadata": {},
   "outputs": [
    {
     "name": "stdout",
     "output_type": "stream",
     "text": [
      "Device: cuda\n"
     ]
    }
   ],
   "source": [
    "import os\n",
    "import cv2\n",
    "from glob import glob\n",
    "import numpy as np\n",
    "import imutils\n",
    "from sklearn.metrics import classification_report\n",
    "import random\n",
    "from collections import namedtuple\n",
    "\n",
    "import typing\n",
    "from typing import Any\n",
    "\n",
    "import matplotlib\n",
    "import matplotlib.pyplot as plt\n",
    "\n",
    "import torch\n",
    "from torch import nn, flatten, Tensor\n",
    "from torch.optim import Adam\n",
    "from torch.nn import Module, Conv2d, Linear, MaxPool2d, ReLU, LogSoftmax\n",
    "from torch.utils.data import random_split, Dataset, DataLoader, Subset\n",
    "from torchvision import transforms\n",
    "from torchvision.transforms import ToTensor\n",
    "from torchvision.datasets import KMNIST\n",
    "from torchsummary import summary\n",
    "\n",
    "DEVICE = torch.device(\"cuda\" if torch.cuda.is_available() else \"cpu\")\n",
    "print(\"Device:\", DEVICE)"
   ]
  },
  {
   "cell_type": "markdown",
   "metadata": {},
   "source": [
    "## Model Definition"
   ]
  },
  {
   "cell_type": "code",
   "execution_count": 2,
   "metadata": {},
   "outputs": [],
   "source": [
    "class LeNet(Module):\n",
    "\tdef __init__(self, numChannels, classes, imageShape):\n",
    "\t\t# call the parent constructor\n",
    "\t\tsuper(LeNet, self).__init__()\n",
    "\n",
    "\t\t# initialize first set of CONV => RELU => POOL layers\n",
    "\t\t# convolutional layer = 20 5x5 filters.\n",
    "\t\tself.conv1 = Conv2d(in_channels=numChannels, out_channels=20, kernel_size=(5, 5))\n",
    "\t\t# activation function.\n",
    "\t\tself.relu1 = ReLU()\n",
    "\t\t# 2x2 max-pooling to reduce spatial dimensions.\n",
    "\t\tself.maxpool1 = MaxPool2d(kernel_size=(2, 2), stride=(2, 2))\n",
    "\n",
    "\t\t# initialize second set of CONV => RELU => POOL layers\n",
    "\t\t# convolutional layer = 20 5x5 filters.\n",
    "\t\tself.conv2 = Conv2d(in_channels=20, out_channels=50, kernel_size=(5, 5))\n",
    "\t\t# activation function.\n",
    "\t\tself.relu2 = ReLU()\n",
    "\t\t# 2x2 max-pooling to reduce spatial dimensions.\n",
    "\t\tself.maxpool2 = MaxPool2d(kernel_size=(2, 2), stride=(2, 2))\n",
    "\n",
    "\t\t# initialize first (and only) set of FC => RELU layers\n",
    "\t\t# fully connected to 500 features.\n",
    "\t\tself.flatter = torch.nn.Flatten(1)\n",
    "\t\tself.fc1 = Linear(in_features=50 * (imageShape[0]//4-3) * (imageShape[1]//4-3), out_features=500)\n",
    "\t\t# activation function. \n",
    "\t\tself.relu3 = ReLU()\n",
    "\n",
    "\t\t# initialize our softmax classifier\n",
    "\t\t# fully connected to number of classes.\n",
    "\t\tself.fc2 = Linear(in_features=500, out_features=classes)\n",
    "\t\tself.logSoftmax = LogSoftmax(dim=1)\n",
    "\n",
    "\tdef forward(self, x):\n",
    "\t\t# pass the input through our first set of CONV => RELU => POOL layers\n",
    "\t\t# x = n x a x b\n",
    "\t\t# x = 1 x 28 x 28\n",
    "\t\tx = self.conv1(x) # x = 20 x 24 x 24\n",
    "\t\tx = self.relu1(x) # x = 20 x 24 x 24\n",
    "\t\tx = self.maxpool1(x) # x = 20 x 12 x 12\n",
    "\n",
    "\t\t# pass the output from the previous layer through the second set of CONV => RELU => POOL layers\n",
    "\t\tx = self.conv2(x) # x = 50 x 8 x 8\n",
    "\t\tx = self.relu2(x) # x = 50 x 8 x 8\n",
    "\t\tx = self.maxpool2(x) # x = 50 x 4 x 4\n",
    "\n",
    "\t\t# flatten the output from the previous layer and pass it through our only set of FC => RELU layers\n",
    "\t\tx = self.flatter(x) # x = 800\n",
    "\t\tx = self.fc1(x) # x = 500\n",
    "\t\tx = self.relu3(x) # x = 500\n",
    "\n",
    "\t\t# pass the output to our softmax classifier to get our output predictions\n",
    "\t\tx = self.fc2(x) # x = number of classes = 10\n",
    "\t\toutput = self.logSoftmax(x) # x = 10 \n",
    "\n",
    "\t\t# return the output predictions\n",
    "\t\treturn output"
   ]
  },
  {
   "cell_type": "markdown",
   "metadata": {},
   "source": [
    "## Pre-processing"
   ]
  },
  {
   "cell_type": "code",
   "execution_count": 25,
   "metadata": {},
   "outputs": [],
   "source": [
    "INPUT_DIM = 32"
   ]
  },
  {
   "cell_type": "code",
   "execution_count": 26,
   "metadata": {},
   "outputs": [],
   "source": [
    "# Pre processing\n",
    "preprocess = transforms.Compose([\n",
    "    transforms.ToTensor(),\n",
    "    transforms.Resize(INPUT_DIM)\n",
    "])"
   ]
  },
  {
   "cell_type": "markdown",
   "metadata": {},
   "source": [
    "## Dataset"
   ]
  },
  {
   "cell_type": "code",
   "execution_count": 27,
   "metadata": {},
   "outputs": [],
   "source": [
    "Size = namedtuple('ImageSize', ['height', 'width'])\n",
    "Range = namedtuple('Range', ['min', 'max'])\n",
    "\n",
    "def drawRandArrow(size: Size, padding: int, lengthRange: Range, thickRange: Range, tipRange: Range, ax: plt.Axes = None, img: np.ndarray = None, grayscale: bool = False, negative: bool = False) -> np.ndarray:\n",
    "    # Create blank image.\n",
    "    if img is None:\n",
    "        img = np.zeros(list(size), np.uint8) if grayscale else np.zeros(list(size) + [3], np.uint8)\n",
    "        if not negative: img.fill(255)\n",
    "    else:\n",
    "        img = img.copy()\n",
    "    # constant.\n",
    "    if negative: color = (255,255,255) if len(img.shape) == 3 else 255\n",
    "    else: color = (0,0,0) if len(img.shape) == 3 else 0 \n",
    "    # random.\n",
    "    pt1 = (random.randint(0+padding, size[1]-padding), random.randint(0+padding, size[0]-padding))\n",
    "    while True:\n",
    "        pt2 = (random.randint(0+padding, size[1]-padding), random.randint(0+padding, size[0]-padding))\n",
    "        length = np.sqrt( np.power(pt2[0]-pt1[0], 2) + np.power(pt2[1]-pt1[1], 2) )\n",
    "        if lengthRange[0] < length < lengthRange[1]: break\n",
    "    thick = random.randint(*thickRange)\n",
    "    tipLen = (random.random() * (tipRange[1]-tipRange[0])) + tipRange[0]\n",
    "    # draw.\n",
    "    img = cv2.arrowedLine(img, pt1, pt2, color, thick, tipLength=tipLen)\n",
    "    # show.\n",
    "    if ax is not None: ax.imshow(img, 'gray')\n",
    "    return img\n",
    "\n",
    "def drawRandCircle(size: Size, padding: int, radRange: Range, thickRange: Range, ax: plt.Axes = None, img: np.ndarray = None, grayscale: bool = False, negative: bool = False) -> np.ndarray:\n",
    "    # create image.\n",
    "    if img is None:\n",
    "        img = np.zeros(list(size), np.uint8) if grayscale else np.zeros(list(size) + [3], np.uint8)\n",
    "        if not negative: img.fill(255)\n",
    "    else:\n",
    "        img = img.copy()\n",
    "    # constant.\n",
    "    if negative: color = (255,255,255) if len(img.shape) == 3 else 255\n",
    "    else: color = (0,0,0) if len(img.shape) == 3 else 0 \n",
    "    # random.\n",
    "    center = (random.randint(0+padding, size[1]-padding), random.randint(0+padding, size[0]-padding))\n",
    "    radius = random.randint(*radRange)\n",
    "    thick = random.randint(*thickRange)\n",
    "    # draw.\n",
    "    img = cv2.circle(img, center, radius, color, thick)\n",
    "    # show.\n",
    "    if ax is not None: ax.imshow(img, 'gray')\n",
    "    return img\n",
    "\n",
    "def drawRandRect(size: Size, padding: int, diagRange: Range, thickRange: Range, ax: plt.Axes = None, img: np.ndarray = None, grayscale: bool = False, negative: bool = False) -> np.ndarray:\n",
    "    # create image.\n",
    "    if img is None:\n",
    "        img = np.zeros(list(size), np.uint8) if grayscale else np.zeros(list(size) + [3], np.uint8)\n",
    "        if not negative: img.fill(255)\n",
    "    else:\n",
    "        img = img.copy()\n",
    "    # constant.\n",
    "    if negative: color = (255,255,255) if len(img.shape) == 3 else 255\n",
    "    else: color = (0,0,0) if len(img.shape) == 3 else 0 \n",
    "    # random.\n",
    "    pt1 = (random.randint(0+padding, size[1]-padding), random.randint(0+padding, size[0]-padding))\n",
    "    while True:\n",
    "        pt2 = (random.randint(0+padding, size[1]-padding), random.randint(0+padding, size[0]-padding))\n",
    "        diagonal = np.sqrt( np.power(pt2[0]-pt1[0], 2) + np.power(pt2[1]-pt1[1], 2) )\n",
    "        if diagRange[0] < diagonal < diagRange[1]: break\n",
    "    thick = random.randint(*thickRange)\n",
    "    # draw.\n",
    "    img = cv2.rectangle(img, pt1, pt2, color, thick)\n",
    "    # show.\n",
    "    if ax is not None: ax.imshow(img, 'gray')\n",
    "    return img\n",
    "\n",
    "def drawRandLine(size: Size, padding: int, lengthRange: Range, thickRange: Range, ax: plt.Axes = None, img: np.ndarray = None, grayscale: bool = False, negative: bool = False) -> np.ndarray:\n",
    "    # create image.\n",
    "    if img is None:\n",
    "        img = np.zeros(list(size), np.uint8) if grayscale else np.zeros(list(size) + [3], np.uint8)\n",
    "        if not negative: img.fill(255)\n",
    "    else:\n",
    "        img = img.copy()\n",
    "    # constant.\n",
    "    if negative: color = (255,255,255) if len(img.shape) == 3 else 255\n",
    "    else: color = (0,0,0) if len(img.shape) == 3 else 0 \n",
    "    # random.\n",
    "    pt1 = (random.randint(0+padding, size[1]-padding), random.randint(0+padding, size[0]-padding))\n",
    "    while True:\n",
    "        pt2 = (random.randint(0+padding, size[1]-padding), random.randint(0+padding, size[0]-padding))\n",
    "        length = np.sqrt( np.power(pt2[0]-pt1[0], 2) + np.power(pt2[1]-pt1[1], 2) )\n",
    "        if lengthRange[0] < length < lengthRange[1]: break\n",
    "    thick = random.randint(*thickRange)\n",
    "    # draw.\n",
    "    img = cv2.line(img, pt1, pt2, color, thick)\n",
    "    # show.\n",
    "    if ax is not None: ax.imshow(img, 'gray')\n",
    "    return img\n"
   ]
  },
  {
   "cell_type": "code",
   "execution_count": 28,
   "metadata": {},
   "outputs": [],
   "source": [
    "class ShapeDataset(torch.utils.data.Dataset):\n",
    "    CLASS_FILENAME = \"classes.txt\"\n",
    "    LABEL_FILENAME = \"labels.txt\"\n",
    "    \n",
    "    def __init__(self, root: str, device: torch.device, datasize: int = None, shape_definitions: dict = None, transforms: transforms.Compose = transforms.ToTensor()) -> None:\n",
    "        super().__init__()\n",
    "        self._transforms = transforms\n",
    "        self._root = root\n",
    "        self._device = device\n",
    "        self._datasize = datasize\n",
    "        self._shape_definitions = shape_definitions\n",
    "        self._classes: typing.List[str] = []\n",
    "        self._files: typing.List[str] = []\n",
    "        if all([isinstance(datasize, int), isinstance(shape_definitions, dict)]): \n",
    "            self.generate()\n",
    "        else: \n",
    "            self.read_classes()\n",
    "            self.read_files()\n",
    "    def __len__(self) -> int: return self._datasize\n",
    "    def __getitem__(self, index) -> torch.Tensor: return (self.load_data(index), self.load_targets(index))\n",
    "    \n",
    "    @property\n",
    "    def data(self) -> Tensor: return self.load_data()\n",
    "    @property\n",
    "    def targets(self) -> Tensor: return self.load_targets()\n",
    "    @property\n",
    "    def classes(self) -> typing.List[str]: return self._classes\n",
    "    @property\n",
    "    def files(self) -> typing.List[str]: return self._files\n",
    "    @property\n",
    "    def transforms(self) -> transforms.Compose: return self._transforms\n",
    "    @property\n",
    "    def root(self) -> str: return self._root\n",
    "    @property\n",
    "    def device(self) -> torch.device: return self._device\n",
    "    @property\n",
    "    def shape_definitions(self) -> dict: return self._shape_definitions\n",
    "    \n",
    "    def load_data(self, index: int = None, grayscale: bool = True, do_transform: bool = True) -> Tensor:\n",
    "        tensors = None\n",
    "        if index is None:\n",
    "            tensors = None\n",
    "            for filepath in self.files:\n",
    "                image = cv2.imread(filepath, cv2.IMREAD_GRAYSCALE if grayscale else cv2.IMREAD_COLOR)\n",
    "                if not isinstance(image, np.ndarray): raise RuntimeError(f\"Cannot read image {filepath}\")\n",
    "                if do_transform:\n",
    "                    image = self.transforms(image).to(self.device).unsqueeze(0)\n",
    "                    if tensors is None: tensors = image\n",
    "                    else: tensors = torch.concat([tensors, image])\n",
    "                else: \n",
    "                    image = np.expand_dims(image, 0)\n",
    "                    if tensors is None: tensors = image\n",
    "                    else: tensors = np.concatenate([tensors, image])\n",
    "        else:\n",
    "            filepath = self.files[index]\n",
    "            image = cv2.imread(filepath, cv2.IMREAD_GRAYSCALE if grayscale else cv2.IMREAD_COLOR)\n",
    "            if not isinstance(image, np.ndarray): raise RuntimeError(f\"Cannot read image {filepath}\")\n",
    "            if do_transform:\n",
    "                tensors = self.transforms(image).to(self.device)\n",
    "            else:\n",
    "                tensors = image\n",
    "        return tensors\n",
    "\n",
    "    def load_targets(self, index: int = None) -> typing.Union[typing.List[int], int]:\n",
    "        targets = None\n",
    "        labels_filepath = os.path.join(self.root, self.LABEL_FILENAME)\n",
    "        with open(labels_filepath, 'r') as f:\n",
    "            labels = np.array([int(line.strip().split(' ')[1]) for line in f.readlines()])\n",
    "        if index is not None:\n",
    "            targets = labels[index].item()\n",
    "        else:\n",
    "            targets = torch.from_numpy(labels)\n",
    "        return targets\n",
    "            \n",
    "    def generate(self):\n",
    "        os.makedirs(self.root, exist_ok=False)\n",
    "        \n",
    "        self._classes = list(self.shape_definitions.keys())\n",
    "        classes_filepath = os.path.join(self.root, self.CLASS_FILENAME)\n",
    "        with open(classes_filepath, 'w') as f:\n",
    "            f.writelines([f\"{c} {i}\\n\" for i, c in enumerate(self.classes)])\n",
    "            \n",
    "        labels_filepath = os.path.join(self.root, self.LABEL_FILENAME)\n",
    "        \n",
    "        nclasses = len(self.classes)\n",
    "        for i in range(self._datasize):\n",
    "            label_idx = random.randrange(0, nclasses)\n",
    "            label_name = self.classes[label_idx]\n",
    "            func = self.shape_definitions[label_name]['func']\n",
    "            kwargs = self.shape_definitions[label_name]['kwargs']\n",
    "            image: np.ndarray = func(**kwargs)\n",
    "            \n",
    "            filename = f\"{i}.png\"\n",
    "            image_filepath = os.path.abspath( os.path.join(self.root, filename) )\n",
    "            if not cv2.imwrite(image_filepath, image): raise RuntimeError(f\"Cannot write image {image_filepath}\")\n",
    "            self._files.append(image_filepath)\n",
    "            \n",
    "            with open(labels_filepath, 'a') as f:\n",
    "                f.write(f\"{filename} {label_idx}\\n\")\n",
    "                \n",
    "    def read_classes(self):\n",
    "        classes_filepath = os.path.join(self.root, self.CLASS_FILENAME)\n",
    "        classes = []\n",
    "        idc = []\n",
    "        with open(classes_filepath, 'r') as f:\n",
    "            for c in f.readlines():\n",
    "                cname, cid = c.split(' ')\n",
    "                cid = cid.strip()\n",
    "                classes.append(cname)\n",
    "                idc.append(cid)\n",
    "        self._classes = np.array(classes)[ np.array(idc).argsort() ].tolist()\n",
    "    \n",
    "    def read_files(self):\n",
    "        filepath_regex = os.path.join(self.root, \"*.png\")\n",
    "        self._files = glob(filepath_regex)\n",
    "        self._datasize = len(self.files)\n"
   ]
  },
  {
   "cell_type": "code",
   "execution_count": 29,
   "metadata": {},
   "outputs": [],
   "source": [
    "# shape params\n",
    "size = (128,128) # h,w\n",
    "padding = 5\n",
    "lengthRange = (30,100)\n",
    "radRange = (10,64)\n",
    "thickRange = (1,1)\n",
    "tipRange = (0.1,0.1)\n",
    "shape_definitions = {   \n",
    "    # 'arrow':    {'func': drawRandArrow,     'kwargs': {'size': size, 'padding': padding, 'thickRange': thickRange, 'grayscale': True, 'negative': True, 'lengthRange': lengthRange, 'tipRange': tipRange}},\n",
    "    'circle':   {'func': drawRandCircle,    'kwargs': {'size': size, 'padding': padding, 'thickRange': thickRange, 'grayscale': True, 'negative': True, 'radRange': radRange}},\n",
    "    'rect':     {'func': drawRandRect,      'kwargs': {'size': size, 'padding': padding, 'thickRange': thickRange, 'grayscale': True, 'negative': True, 'diagRange': lengthRange}}, \n",
    "    # 'line':     {'func': drawRandLine,      'kwargs': {'size': size, 'padding': padding, 'thickRange': thickRange, 'grayscale': True, 'negative': True, 'lengthRange': lengthRange}}\n",
    "    }\n",
    "\n",
    "# training set.\n",
    "train_data_size = 1024\n",
    "train_dir = \"data/Shapes/train\"\n",
    "# trainData = ShapeDataset(root=train_dir, datasize=train_data_size, device=DEVICE, shape_definitions=shape_definitions, transforms=preprocess)\n",
    "trainData = ShapeDataset(root=train_dir, device=DEVICE, transforms=preprocess)\n",
    "\n",
    "# test set.\n",
    "test_data_size = 128\n",
    "test_dir = \"data/Shapes/test\"\n",
    "# testData = ShapeDataset(root=test_dir, datasize=test_data_size, device=DEVICE, shape_definitions=shape_definitions, transforms=preprocess)\n",
    "testData = ShapeDataset(root=test_dir, device=DEVICE, transforms=preprocess)\n"
   ]
  },
  {
   "cell_type": "code",
   "execution_count": 30,
   "metadata": {},
   "outputs": [],
   "source": [
    "def showRandDataset(dataset: Dataset, sample_size: int, ncols: int = 4, suptitle: str = \"\"):\n",
    "    nrows = (sample_size // ncols) + 1 if sample_size % ncols else sample_size // ncols\n",
    "    idc = np.random.random_integers(0, len(dataset), sample_size)\n",
    "    fig, axes = plt.subplots(nrows, ncols)\n",
    "    fig.suptitle(suptitle)\n",
    "    axes = axes.reshape(nrows * ncols)\n",
    "    for ax, i in zip(axes, idc): \n",
    "        image, label_idx = dataset[i]\n",
    "        image = image.detach().to(torch.device('cpu')).permute(1,2,0).numpy()\n",
    "        if image.shape[2] == 3: ax.imshow(image)\n",
    "        else: ax.imshow(image, 'gray')\n",
    "        ax.set_title(dataset.classes[label_idx])\n",
    "    fig.show()\n"
   ]
  },
  {
   "cell_type": "code",
   "execution_count": 31,
   "metadata": {},
   "outputs": [
    {
     "name": "stderr",
     "output_type": "stream",
     "text": [
      "C:\\Users\\User\\AppData\\Local\\Temp\\ipykernel_16968\\2446478029.py:3: DeprecationWarning: This function is deprecated. Please call randint(0, 1024 + 1) instead\n",
      "  idc = np.random.random_integers(0, len(dataset), sample_size)\n",
      "c:\\Users\\User\\.conda\\envs\\basex\\lib\\site-packages\\torchvision\\transforms\\functional.py:1603: UserWarning: The default value of the antialias parameter of all the resizing transforms (Resize(), RandomResizedCrop(), etc.) will change from None to True in v0.17, in order to be consistent across the PIL and Tensor backends. To suppress this warning, directly pass antialias=True (recommended, future default), antialias=None (current default, which means False for Tensors and True for PIL), or antialias=False (only works on Tensors - PIL will still use antialiasing). This also applies if you are using the inference transforms from the models weights: update the call to weights.transforms(antialias=True).\n",
      "  warnings.warn(\n",
      "C:\\Users\\User\\AppData\\Local\\Temp\\ipykernel_16968\\2446478029.py:13: UserWarning: Matplotlib is currently using module://matplotlib_inline.backend_inline, which is a non-GUI backend, so cannot show the figure.\n",
      "  fig.show()\n",
      "C:\\Users\\User\\AppData\\Local\\Temp\\ipykernel_16968\\2446478029.py:3: DeprecationWarning: This function is deprecated. Please call randint(0, 128 + 1) instead\n",
      "  idc = np.random.random_integers(0, len(dataset), sample_size)\n"
     ]
    },
    {
     "data": {
      "image/png": "[encoded data removed]",
      "text/plain": [
       "<Figure size 640x480 with 8 Axes>"
      ]
     },
     "metadata": {},
     "output_type": "display_data"
    },
    {
     "data": {
      "image/png": "[encoded data removed]",
      "text/plain": [
       "<Figure size 640x480 with 8 Axes>"
      ]
     },
     "metadata": {},
     "output_type": "display_data"
    }
   ],
   "source": [
    "showRandDataset(trainData, 8, suptitle=\"Training Samples\")\n",
    "showRandDataset(testData, 8, suptitle=\"Test Samples\")"
   ]
  },
  {
   "cell_type": "markdown",
   "metadata": {},
   "source": [
    "## Data Loader"
   ]
  },
  {
   "cell_type": "code",
   "execution_count": 32,
   "metadata": {},
   "outputs": [],
   "source": [
    "# define the train and val splits\n",
    "TRAIN_SPLIT = 0.80\n",
    "RAND_SEED = 42\n",
    "BATCH_SIZE = 16"
   ]
  },
  {
   "cell_type": "code",
   "execution_count": 33,
   "metadata": {},
   "outputs": [
    {
     "name": "stdout",
     "output_type": "stream",
     "text": [
      "Training data: 819, Validation data: 205, Test data: 128\n"
     ]
    }
   ],
   "source": [
    "# calculate the train/validation split\n",
    "(trainData, valData) = random_split(trainData, [int(len(trainData) * TRAIN_SPLIT), len(trainData) - int(len(trainData) * TRAIN_SPLIT)], generator=torch.Generator().manual_seed(RAND_SEED))\n",
    "print(f\"Training data: {len(trainData)}, Validation data: {len(valData)}, Test data: {len(testData)}\")"
   ]
  },
  {
   "cell_type": "code",
   "execution_count": 34,
   "metadata": {},
   "outputs": [
    {
     "name": "stdout",
     "output_type": "stream",
     "text": [
      "Training steps: 51, Validation steps: 12\n"
     ]
    }
   ],
   "source": [
    "# initialize the train, validation, and test data loaders\n",
    "trainDataLoader = DataLoader(trainData, shuffle=True, batch_size=BATCH_SIZE)\n",
    "valDataLoader = DataLoader(valData, batch_size=BATCH_SIZE)\n",
    "testDataLoader = DataLoader(testData, batch_size=BATCH_SIZE)\n",
    "\n",
    "# calculate steps per epoch for training and validation set\n",
    "trainSteps = len(trainDataLoader.dataset) // BATCH_SIZE\n",
    "valSteps = len(valDataLoader.dataset) // BATCH_SIZE\n",
    "print(f\"Training steps: {trainSteps}, Validation steps: {valSteps}\")"
   ]
  },
  {
   "cell_type": "markdown",
   "metadata": {},
   "source": [
    "## Model Construction"
   ]
  },
  {
   "cell_type": "code",
   "execution_count": 35,
   "metadata": {},
   "outputs": [
    {
     "name": "stdout",
     "output_type": "stream",
     "text": [
      "==========================================================================================\n",
      "Layer (type:depth-idx)                   Output Shape              Param #\n",
      "==========================================================================================\n",
      "├─Conv2d: 1-1                            [-1, 20, 28, 28]          520\n",
      "├─ReLU: 1-2                              [-1, 20, 28, 28]          --\n",
      "├─MaxPool2d: 1-3                         [-1, 20, 14, 14]          --\n",
      "├─Conv2d: 1-4                            [-1, 50, 10, 10]          25,050\n",
      "├─ReLU: 1-5                              [-1, 50, 10, 10]          --\n",
      "├─MaxPool2d: 1-6                         [-1, 50, 5, 5]            --\n",
      "├─Flatten: 1-7                           [-1, 1250]                --\n",
      "├─Linear: 1-8                            [-1, 500]                 625,500\n",
      "├─ReLU: 1-9                              [-1, 500]                 --\n",
      "├─Linear: 1-10                           [-1, 2]                   1,002\n",
      "├─LogSoftmax: 1-11                       [-1, 2]                   --\n",
      "==========================================================================================\n",
      "Total params: 652,072\n",
      "Trainable params: 652,072\n",
      "Non-trainable params: 0\n",
      "Total mult-adds (M): 3.52\n",
      "==========================================================================================\n",
      "Input size (MB): 0.00\n",
      "Forward/backward pass size (MB): 0.16\n",
      "Params size (MB): 2.49\n",
      "Estimated Total Size (MB): 2.65\n",
      "==========================================================================================\n"
     ]
    },
    {
     "data": {
      "text/plain": [
       "==========================================================================================\n",
       "Layer (type:depth-idx)                   Output Shape              Param #\n",
       "==========================================================================================\n",
       "├─Conv2d: 1-1                            [-1, 20, 28, 28]          520\n",
       "├─ReLU: 1-2                              [-1, 20, 28, 28]          --\n",
       "├─MaxPool2d: 1-3                         [-1, 20, 14, 14]          --\n",
       "├─Conv2d: 1-4                            [-1, 50, 10, 10]          25,050\n",
       "├─ReLU: 1-5                              [-1, 50, 10, 10]          --\n",
       "├─MaxPool2d: 1-6                         [-1, 50, 5, 5]            --\n",
       "├─Flatten: 1-7                           [-1, 1250]                --\n",
       "├─Linear: 1-8                            [-1, 500]                 625,500\n",
       "├─ReLU: 1-9                              [-1, 500]                 --\n",
       "├─Linear: 1-10                           [-1, 2]                   1,002\n",
       "├─LogSoftmax: 1-11                       [-1, 2]                   --\n",
       "==========================================================================================\n",
       "Total params: 652,072\n",
       "Trainable params: 652,072\n",
       "Non-trainable params: 0\n",
       "Total mult-adds (M): 3.52\n",
       "==========================================================================================\n",
       "Input size (MB): 0.00\n",
       "Forward/backward pass size (MB): 0.16\n",
       "Params size (MB): 2.49\n",
       "Estimated Total Size (MB): 2.65\n",
       "=========================================================================================="
      ]
     },
     "execution_count": 35,
     "metadata": {},
     "output_type": "execute_result"
    }
   ],
   "source": [
    "# initialize the LeNet model\n",
    "model = LeNet(numChannels=1, classes=len(trainData.dataset.classes), imageShape=trainData.dataset[0][0].size()[1:]).to(DEVICE)\n",
    "inputShape = (1,INPUT_DIM,INPUT_DIM)\n",
    "summary(model, inputShape)"
   ]
  },
  {
   "cell_type": "markdown",
   "metadata": {},
   "source": [
    "## Inferencing"
   ]
  },
  {
   "cell_type": "code",
   "execution_count": 36,
   "metadata": {},
   "outputs": [
    {
     "name": "stderr",
     "output_type": "stream",
     "text": [
      "C:\\Users\\User\\AppData\\Local\\Temp\\ipykernel_16968\\4058749131.py:15: UserWarning: Matplotlib is currently using module://matplotlib_inline.backend_inline, which is a non-GUI backend, so cannot show the figure.\n",
      "  fig.show()\n"
     ]
    },
    {
     "data": {
      "image/png": "[encoded data removed]",
      "text/plain": [
       "<Figure size 100x100 with 1 Axes>"
      ]
     },
     "metadata": {},
     "output_type": "display_data"
    }
   ],
   "source": [
    "# Load data.\n",
    "x, y_hat = testData[0]\n",
    "x = x.to(DEVICE)\n",
    "label_hat = testData.classes[y_hat]\n",
    "\n",
    "# Inference.\n",
    "y = model(x.unsqueeze(0))\n",
    "y = np.argmax(y.to(torch.device('cpu')).detach().numpy())\n",
    "label = testData.classes[y]\n",
    "\n",
    "fig = plt.figure(figsize=(1,1))\n",
    "axes = fig.subplots(1,1)\n",
    "axes.imshow(x.permute(1,2,0).to(torch.device('cpu')).detach().numpy(), 'gray')\n",
    "axes.set_title(f\"{label_hat} v {label}\")\n",
    "fig.show()"
   ]
  },
  {
   "cell_type": "markdown",
   "metadata": {},
   "source": [
    "## Model Training\n",
    "\n",
    "Choice of loss/cost function should match to the output layer of the network. In this case, we have to determine categorical cross-entropy loss. Since LeNet has LogSoftmax at the output layer then we use nn.NLLoss or negative log-likelihood. If the network has Linear at the output layer then we use nn.CrossEntropyLoss loss."
   ]
  },
  {
   "cell_type": "code",
   "execution_count": 37,
   "metadata": {},
   "outputs": [],
   "source": [
    "# define training hyperparameters\n",
    "INIT_LR = 1e-3\n",
    "EPOCHS = 10\n",
    "\n",
    "# initialize our optimizer and loss function\n",
    "opt = Adam(model.parameters(), lr=INIT_LR)\n",
    "lossFn = nn.NLLLoss() # negative log-likelihood\n"
   ]
  },
  {
   "cell_type": "markdown",
   "metadata": {},
   "source": [
    "In PyTorch framework, in any training loop, we must compile the exact order:<br>\n",
    "`opt.zero_grad()`<br>\n",
    "`loss.backward()`<br>\n",
    "`opt.step()`<br>\n",
    ", before do anything else."
   ]
  },
  {
   "cell_type": "code",
   "execution_count": 38,
   "metadata": {},
   "outputs": [
    {
     "name": "stdout",
     "output_type": "stream",
     "text": [
      "EPOCH: 1/10\n",
      "Train loss: 0.708600, Train accuracy: 0.5116\n",
      "Val loss: 0.750933, Val accuracy: 0.5073\n",
      "\n",
      "EPOCH: 2/10\n",
      "Train loss: 0.707827, Train accuracy: 0.5287\n",
      "Val loss: 0.763196, Val accuracy: 0.4927\n",
      "\n",
      "EPOCH: 3/10\n",
      "Train loss: 0.705382, Train accuracy: 0.5287\n",
      "Val loss: 0.753488, Val accuracy: 0.5024\n",
      "\n",
      "EPOCH: 4/10\n",
      "Train loss: 0.698242, Train accuracy: 0.5507\n",
      "Val loss: 0.785119, Val accuracy: 0.4732\n",
      "\n",
      "EPOCH: 5/10\n",
      "Train loss: 0.687048, Train accuracy: 0.5873\n",
      "Val loss: 0.793778, Val accuracy: 0.4439\n",
      "\n",
      "EPOCH: 6/10\n",
      "Train loss: 0.670600, Train accuracy: 0.6142\n",
      "Val loss: 0.797051, Val accuracy: 0.4634\n",
      "\n",
      "EPOCH: 7/10\n",
      "Train loss: 0.650088, Train accuracy: 0.6252\n",
      "Val loss: 0.816909, Val accuracy: 0.4537\n",
      "\n",
      "EPOCH: 8/10\n",
      "Train loss: 0.624309, Train accuracy: 0.6557\n",
      "Val loss: 0.866595, Val accuracy: 0.4927\n",
      "\n",
      "EPOCH: 9/10\n",
      "Train loss: 0.598354, Train accuracy: 0.6825\n",
      "Val loss: 0.853193, Val accuracy: 0.4634\n",
      "\n",
      "EPOCH: 10/10\n",
      "Train loss: 0.558022, Train accuracy: 0.7204\n",
      "Val loss: 0.956951, Val accuracy: 0.4634\n",
      "\n"
     ]
    }
   ],
   "source": [
    "# initialize a dictionary to store training history\n",
    "H = {\n",
    "\t\"train_loss\": [],\n",
    "\t\"train_acc\": [],\n",
    "\t\"val_loss\": [],\n",
    "\t\"val_acc\": []\n",
    "}\n",
    "\n",
    "# loop over our epochs\n",
    "for e in range(0, EPOCHS):\n",
    "\t# set the model in training mode\n",
    "\tmodel.train()\n",
    "\t# initialize the total training and validation loss\n",
    "\ttotalTrainLoss = 0\n",
    "\ttotalValLoss = 0\n",
    "\t# initialize the number of correct predictions in the training and validation step\n",
    "\ttrainCorrect = 0\n",
    "\tvalCorrect = 0\n",
    "\t# loop over the training set\n",
    "\tfor (x, y) in trainDataLoader:\n",
    "\t\t# send the input to the device\n",
    "\t\t(x, y) = (x.to(DEVICE), y.to(DEVICE))\n",
    "\t\t# perform a forward pass and calculate the training loss\n",
    "\t\tpred = model(x)\n",
    "\t\tloss = lossFn(pred, y)\n",
    "\t\t# zero out the gradients, perform the backpropagation step, and update the weights\n",
    "\t\topt.zero_grad()\n",
    "\t\tloss.backward()\n",
    "\t\topt.step()\n",
    "\t\t# add the loss to the total training loss so far and\n",
    "\t\t# calculate the number of correct predictions\n",
    "\t\ttotalTrainLoss += loss\n",
    "\t\ttrainCorrect += (pred.argmax(1) == y).type(torch.float).sum().item()\n",
    "  \n",
    "\t# switch off autograd for evaluation\n",
    "\twith torch.no_grad():\n",
    "\t\t# set the model in evaluation mode\n",
    "\t\tmodel.eval()\n",
    "\t\t# loop over the validation set\n",
    "\t\tfor (x, y) in valDataLoader:\n",
    "\t\t\t# send the input to the device\n",
    "\t\t\t(x, y) = (x.to(DEVICE), y.to(DEVICE))\n",
    "\t\t\t# make the predictions and calculate the validation loss\n",
    "\t\t\tpred = model(x)\n",
    "\t\t\ttotalValLoss += lossFn(pred, y)\n",
    "\t\t\t# calculate the number of correct predictions\n",
    "\t\t\tvalCorrect += (pred.argmax(1) == y).type(torch.float).sum().item()\n",
    "\n",
    "\t# calculate the average training and validation loss\n",
    "\tavgTrainLoss = totalTrainLoss / trainSteps\n",
    "\tavgValLoss = totalValLoss / valSteps\n",
    "\t# calculate the training and validation accuracy\n",
    "\ttrainCorrect = trainCorrect / len(trainData)\n",
    "\tvalCorrect = valCorrect / len(valData)\n",
    "\t# update our training history\n",
    "\tH[\"train_loss\"].append(avgTrainLoss.cpu().detach().numpy())\n",
    "\tH[\"train_acc\"].append(trainCorrect)\n",
    "\tH[\"val_loss\"].append(avgValLoss.cpu().detach().numpy())\n",
    "\tH[\"val_acc\"].append(valCorrect)\n",
    "\t# print the model training and validation information\n",
    "\tprint(\"EPOCH: {}/{}\".format(e + 1, EPOCHS))\n",
    "\tprint(\"Train loss: {:.6f}, Train accuracy: {:.4f}\".format(avgTrainLoss, trainCorrect))\n",
    "\tprint(\"Val loss: {:.6f}, Val accuracy: {:.4f}\\n\".format(avgValLoss, valCorrect))\n"
   ]
  },
  {
   "cell_type": "code",
   "execution_count": 39,
   "metadata": {},
   "outputs": [
    {
     "name": "stderr",
     "output_type": "stream",
     "text": [
      "C:\\Users\\User\\AppData\\Local\\Temp\\ipykernel_16968\\2731160465.py:13: UserWarning: Matplotlib is currently using module://matplotlib_inline.backend_inline, which is a non-GUI backend, so cannot show the figure.\n",
      "  fig.show()\n"
     ]
    },
    {
     "data": {
      "image/png": "[encoded data removed]",
      "text/plain": [
       "<Figure size 640x480 with 1 Axes>"
      ]
     },
     "metadata": {},
     "output_type": "display_data"
    }
   ],
   "source": [
    "# plot the training loss and accuracy\n",
    "# matplotlib.use(\"agg\") # choose backend rendering engine.\n",
    "plt.style.use(\"ggplot\")\n",
    "fig, axes = plt.subplots(1,1)\n",
    "axes.plot(H[\"train_loss\"], label=\"train_loss\")\n",
    "axes.plot(H[\"val_loss\"], label=\"val_loss\")\n",
    "axes.plot(H[\"train_acc\"], label=\"train_acc\")\n",
    "axes.plot(H[\"val_acc\"], label=\"val_acc\")\n",
    "axes.set_title(\"Training Loss and Accuracy on Dataset\")\n",
    "axes.set_xlabel(\"Epoch #\")\n",
    "axes.set_ylabel(\"Loss/Accuracy\")\n",
    "axes.legend(loc=\"lower left\")\n",
    "fig.show()\n",
    "\n",
    "# save image file.\n",
    "history_image_filepath = 'results/Shapes/history.png'\n",
    "os.makedirs(os.path.dirname(history_image_filepath), exist_ok=True)\n",
    "fig.savefig(history_image_filepath)"
   ]
  },
  {
   "cell_type": "markdown",
   "metadata": {},
   "source": [
    "## Saving Model\n",
    "\n",
    "Usually we use `torch.save` to save only model states or moodel weights.\n"
   ]
  },
  {
   "cell_type": "code",
   "execution_count": 118,
   "metadata": {},
   "outputs": [],
   "source": [
    "# save model file.\n",
    "model_filepath = 'model-store\\Shapes\\LeNet.pt'\n",
    "os.makedirs(os.path.dirname(model_filepath), exist_ok=True)\n",
    "torch.save(model, model_filepath)"
   ]
  },
  {
   "cell_type": "markdown",
   "metadata": {},
   "source": [
    "To save together with model definition, use Just-In-Time or JIT model by `torch.jit.script` or `torch.jit.trace`, which trace model definition/handler, such as forward methods, into intermediate script that is executed during inferencing or runtime (JIT), then `torch.jit.save` to save the JIT model. See https://pytorch.org/docs/stable/jit.html#frequently-asked-questions.\n",
    "\n",
    "JIT model remembers its original device when it is traced. As soon as you load the JIT model, it will be loaded into the orginal device."
   ]
  },
  {
   "cell_type": "code",
   "execution_count": 119,
   "metadata": {},
   "outputs": [],
   "source": [
    "jit_model_filepath = 'model-store/Shapes/JIT_LeNet.pt'\n",
    "os.makedirs(os.path.dirname(jit_model_filepath), exist_ok=True)\n",
    "jit_model = torch.jit.script(model)\n",
    "torch.jit.save(jit_model, jit_model_filepath)"
   ]
  },
  {
   "cell_type": "markdown",
   "metadata": {},
   "source": [
    "## Model Evaluation"
   ]
  },
  {
   "cell_type": "code",
   "execution_count": 120,
   "metadata": {},
   "outputs": [
    {
     "name": "stderr",
     "output_type": "stream",
     "text": [
      "c:\\Users\\User\\.conda\\envs\\basex\\lib\\site-packages\\torchvision\\transforms\\functional.py:1603: UserWarning: The default value of the antialias parameter of all the resizing transforms (Resize(), RandomResizedCrop(), etc.) will change from None to True in v0.17, in order to be consistent across the PIL and Tensor backends. To suppress this warning, directly pass antialias=True (recommended, future default), antialias=None (current default, which means False for Tensors and True for PIL), or antialias=False (only works on Tensors - PIL will still use antialiasing). This also applies if you are using the inference transforms from the models weights: update the call to weights.transforms(antialias=True).\n",
      "  warnings.warn(\n"
     ]
    },
    {
     "name": "stdout",
     "output_type": "stream",
     "text": [
      "              precision    recall  f1-score   support\n",
      "\n",
      "      circle       0.98      0.95      0.97        60\n",
      "        rect       0.96      0.99      0.97        68\n",
      "\n",
      "    accuracy                           0.97       128\n",
      "   macro avg       0.97      0.97      0.97       128\n",
      "weighted avg       0.97      0.97      0.97       128\n",
      "\n"
     ]
    }
   ],
   "source": [
    "# turn off autograd for testing evaluation\n",
    "with torch.no_grad():\n",
    "\t# set the model in evaluation mode\n",
    "\tmodel.eval()\n",
    "\t\n",
    "\t# initialize a list to store our predictions\n",
    "\tpreds = []\n",
    "\t# loop over the test set\n",
    "\tfor (x, y) in testDataLoader:\n",
    "\t\t# send the input to the device\n",
    "\t\tx = x.to(DEVICE)\n",
    "\t\t# make the predictions and add them to the list\n",
    "\t\tpred = model(x)\n",
    "\t\tpreds.extend(pred.argmax(axis=1).cpu().numpy())\n",
    "# generate a classification report\n",
    "print(classification_report(testData.targets.cpu().numpy(), np.array(preds), target_names=testData.classes))"
   ]
  },
  {
   "cell_type": "markdown",
   "metadata": {},
   "source": [
    "## Loading Model"
   ]
  },
  {
   "cell_type": "code",
   "execution_count": 1,
   "metadata": {},
   "outputs": [
    {
     "ename": "NameError",
     "evalue": "name 'torch' is not defined",
     "output_type": "error",
     "traceback": [
      "\u001b[1;31m---------------------------------------------------------------------------\u001b[0m",
      "\u001b[1;31mNameError\u001b[0m                                 Traceback (most recent call last)",
      "\u001b[1;32md:\\usr\\rapee\\projects\\vision-graphic-cad\\OTDR\\LearnCV\\arrow-lenet.ipynb Cell 32\u001b[0m line \u001b[0;36m3\n\u001b[0;32m      <a href='vscode-notebook-cell:/d%3A/usr/rapee/projects/vision-graphic-cad/OTDR/LearnCV/arrow-lenet.ipynb#X35sZmlsZQ%3D%3D?line=0'>1</a>\u001b[0m \u001b[39m# load the model and set it to evaluation mode\u001b[39;00m\n\u001b[0;32m      <a href='vscode-notebook-cell:/d%3A/usr/rapee/projects/vision-graphic-cad/OTDR/LearnCV/arrow-lenet.ipynb#X35sZmlsZQ%3D%3D?line=1'>2</a>\u001b[0m model_filepath \u001b[39m=\u001b[39m \u001b[39m'\u001b[39m\u001b[39mmodel-store\u001b[39m\u001b[39m\\\u001b[39m\u001b[39mShapes\u001b[39m\u001b[39m\\\u001b[39m\u001b[39mLeNet.pt\u001b[39m\u001b[39m'\u001b[39m\n\u001b[1;32m----> <a href='vscode-notebook-cell:/d%3A/usr/rapee/projects/vision-graphic-cad/OTDR/LearnCV/arrow-lenet.ipynb#X35sZmlsZQ%3D%3D?line=2'>3</a>\u001b[0m model \u001b[39m=\u001b[39m torch\u001b[39m.\u001b[39mload(model_filepath)\n",
      "\u001b[1;31mNameError\u001b[0m: name 'torch' is not defined"
     ]
    }
   ],
   "source": [
    "# load the model and set it to evaluation mode\n",
    "model_filepath = 'model-store\\Shapes\\LeNet.pt'\n",
    "model = torch.load(model_filepath)"
   ]
  },
  {
   "cell_type": "code",
   "execution_count": 137,
   "metadata": {},
   "outputs": [],
   "source": [
    "# load the model and set it to evaluation mode\n",
    "model_filepath = 'model-store\\Shapes\\JIT_LeNet.pt'\n",
    "model = torch.jit.load(model_filepath)"
   ]
  },
  {
   "cell_type": "code",
   "execution_count": 140,
   "metadata": {},
   "outputs": [
    {
     "name": "stdout",
     "output_type": "stream",
     "text": [
      "==========================================================================================\n",
      "Layer (type:depth-idx)                   Output Shape              Param #\n",
      "==========================================================================================\n",
      "├─Conv2d: 1-1                            [-1, 20, 28, 28]          520\n",
      "├─ReLU: 1-2                              [-1, 20, 28, 28]          --\n",
      "├─MaxPool2d: 1-3                         [-1, 20, 14, 14]          --\n",
      "├─Conv2d: 1-4                            [-1, 50, 10, 10]          25,050\n",
      "├─ReLU: 1-5                              [-1, 50, 10, 10]          --\n",
      "├─MaxPool2d: 1-6                         [-1, 50, 5, 5]            --\n",
      "├─Flatten: 1-7                           [-1, 1250]                --\n",
      "├─Linear: 1-8                            [-1, 500]                 625,500\n",
      "├─ReLU: 1-9                              [-1, 500]                 --\n",
      "├─Linear: 1-10                           [-1, 2]                   1,002\n",
      "├─LogSoftmax: 1-11                       [-1, 2]                   --\n",
      "==========================================================================================\n",
      "Total params: 652,072\n",
      "Trainable params: 652,072\n",
      "Non-trainable params: 0\n",
      "Total mult-adds (M): 3.52\n",
      "==========================================================================================\n",
      "Input size (MB): 0.00\n",
      "Forward/backward pass size (MB): 0.16\n",
      "Params size (MB): 2.49\n",
      "Estimated Total Size (MB): 2.65\n",
      "==========================================================================================\n"
     ]
    },
    {
     "data": {
      "text/plain": [
       "==========================================================================================\n",
       "Layer (type:depth-idx)                   Output Shape              Param #\n",
       "==========================================================================================\n",
       "├─Conv2d: 1-1                            [-1, 20, 28, 28]          520\n",
       "├─ReLU: 1-2                              [-1, 20, 28, 28]          --\n",
       "├─MaxPool2d: 1-3                         [-1, 20, 14, 14]          --\n",
       "├─Conv2d: 1-4                            [-1, 50, 10, 10]          25,050\n",
       "├─ReLU: 1-5                              [-1, 50, 10, 10]          --\n",
       "├─MaxPool2d: 1-6                         [-1, 50, 5, 5]            --\n",
       "├─Flatten: 1-7                           [-1, 1250]                --\n",
       "├─Linear: 1-8                            [-1, 500]                 625,500\n",
       "├─ReLU: 1-9                              [-1, 500]                 --\n",
       "├─Linear: 1-10                           [-1, 2]                   1,002\n",
       "├─LogSoftmax: 1-11                       [-1, 2]                   --\n",
       "==========================================================================================\n",
       "Total params: 652,072\n",
       "Trainable params: 652,072\n",
       "Non-trainable params: 0\n",
       "Total mult-adds (M): 3.52\n",
       "==========================================================================================\n",
       "Input size (MB): 0.00\n",
       "Forward/backward pass size (MB): 0.16\n",
       "Params size (MB): 2.49\n",
       "Estimated Total Size (MB): 2.65\n",
       "=========================================================================================="
      ]
     },
     "execution_count": 140,
     "metadata": {},
     "output_type": "execute_result"
    }
   ],
   "source": [
    "model.to(DEVICE)\n",
    "summary(model, inputShape)"
   ]
  },
  {
   "cell_type": "markdown",
   "metadata": {},
   "source": [
    "## Model Implementation"
   ]
  },
  {
   "cell_type": "code",
   "execution_count": 128,
   "metadata": {},
   "outputs": [],
   "source": [
    "randSeed = 42 # set the NumPy random seed for better reproducibility across machines.\n",
    "sampleSize = 10\n",
    "np.random.seed(randSeed)\n",
    "idxs = np.random.choice(range(0, len(testData)), size=(sampleSize,))\n",
    "testSubData = Subset(testData, idxs)\n",
    "# initialize the test data loader\n",
    "testDataLoader = DataLoader(testSubData, batch_size=1)"
   ]
  },
  {
   "cell_type": "code",
   "execution_count": 141,
   "metadata": {},
   "outputs": [
    {
     "name": "stderr",
     "output_type": "stream",
     "text": [
      "c:\\Users\\User\\.conda\\envs\\basex\\lib\\site-packages\\torchvision\\transforms\\functional.py:1603: UserWarning: The default value of the antialias parameter of all the resizing transforms (Resize(), RandomResizedCrop(), etc.) will change from None to True in v0.17, in order to be consistent across the PIL and Tensor backends. To suppress this warning, directly pass antialias=True (recommended, future default), antialias=None (current default, which means False for Tensors and True for PIL), or antialias=False (only works on Tensors - PIL will still use antialiasing). This also applies if you are using the inference transforms from the models weights: update the call to weights.transforms(antialias=True).\n",
      "  warnings.warn(\n",
      "Clipping input data to the valid range for imshow with RGB data ([0..1] for floats or [0..255] for integers).\n",
      "Clipping input data to the valid range for imshow with RGB data ([0..1] for floats or [0..255] for integers).\n",
      "Clipping input data to the valid range for imshow with RGB data ([0..1] for floats or [0..255] for integers).\n",
      "Clipping input data to the valid range for imshow with RGB data ([0..1] for floats or [0..255] for integers).\n",
      "Clipping input data to the valid range for imshow with RGB data ([0..1] for floats or [0..255] for integers).\n",
      "Clipping input data to the valid range for imshow with RGB data ([0..1] for floats or [0..255] for integers).\n",
      "Clipping input data to the valid range for imshow with RGB data ([0..1] for floats or [0..255] for integers).\n",
      "Clipping input data to the valid range for imshow with RGB data ([0..1] for floats or [0..255] for integers).\n",
      "Clipping input data to the valid range for imshow with RGB data ([0..1] for floats or [0..255] for integers).\n",
      "Clipping input data to the valid range for imshow with RGB data ([0..1] for floats or [0..255] for integers).\n",
      "C:\\Users\\User\\AppData\\Local\\Temp\\ipykernel_1872\\2688228903.py:32: UserWarning: Matplotlib is currently using module://matplotlib_inline.backend_inline, which is a non-GUI backend, so cannot show the figure.\n",
      "  fig.show()\n"
     ]
    },
    {
     "name": "stdout",
     "output_type": "stream",
     "text": [
      "ground truth label: circle, predicted label: circle\n",
      "ground truth label: circle, predicted label: circle\n",
      "ground truth label: rect, predicted label: rect\n",
      "ground truth label: circle, predicted label: circle\n",
      "ground truth label: rect, predicted label: rect\n",
      "ground truth label: rect, predicted label: rect\n",
      "ground truth label: rect, predicted label: rect\n",
      "ground truth label: rect, predicted label: rect\n",
      "ground truth label: circle, predicted label: circle\n",
      "ground truth label: rect, predicted label: rect\n"
     ]
    },
    {
     "data": {
      "image/png": "[encoded data removed]",
      "text/plain": [
       "<Figure size 640x480 with 10 Axes>"
      ]
     },
     "metadata": {},
     "output_type": "display_data"
    }
   ],
   "source": [
    "ncols = 5\n",
    "nrows = (sampleSize//ncols)+1 if sampleSize % ncols else sampleSize//ncols\n",
    "fig, axes = plt.subplots(nrows, ncols)\n",
    "axes = axes.reshape(ncols*nrows)\n",
    "\n",
    "# switch off autograd\n",
    "model.eval()\n",
    "with torch.no_grad():\n",
    "\t# loop over the test set\n",
    "\tfor ax, (image, label) in zip(axes, testDataLoader):\n",
    "\t\t# grab the original image and ground truth label\n",
    "\t\torigImage = image.cpu().numpy().squeeze(axis=(0, 1))\n",
    "\t\tgtLabel = testSubData.dataset.classes[label.numpy()[0]]\n",
    "\t\t# send the input to the device and make predictions on it\n",
    "\t\timage = image.to(DEVICE)\n",
    "\t\tpred = model(image)\n",
    "\t\t# find the class label index with the largest corresponding\n",
    "\t\t# probability\n",
    "\t\tidx = pred.argmax(axis=1).cpu().numpy()[0]\n",
    "\t\tpredLabel = testSubData.dataset.classes[idx]\n",
    "\n",
    "  \t\t# convert the image from grayscale to RGB (so we can draw on it)\n",
    "    \t# and resize it (so we can more easily see it on our screen)\n",
    "\t\torigImage = np.dstack([origImage] * 3)\n",
    "\t\torigImage = imutils.resize(origImage, width=128)\n",
    "\t\t# draw the predicted class label on it\n",
    "\t\tcolor = (0, 255, 0) if gtLabel == predLabel else (0, 0, 255)\n",
    "\t\tcv2.putText(origImage, gtLabel, (2, 25), cv2.FONT_HERSHEY_SIMPLEX, 0.95, color, 2)\n",
    "\t\t# display the result in terminal and show the input image\n",
    "\t\tprint(\"ground truth label: {}, predicted label: {}\".format(gtLabel, predLabel))\n",
    "\t\tax.imshow(origImage)\n",
    "fig.show()"
   ]
  }
 ],
 "metadata": {
  "kernelspec": {
   "display_name": "basex",
   "language": "python",
   "name": "python3"
  },
  "language_info": {
   "codemirror_mode": {
    "name": "ipython",
    "version": 3
   },
   "file_extension": ".py",
   "mimetype": "text/x-python",
   "name": "python",
   "nbconvert_exporter": "python",
   "pygments_lexer": "ipython3",
   "version": "3.10.10"
  }
 },
 "nbformat": 4,
 "nbformat_minor": 2
}
